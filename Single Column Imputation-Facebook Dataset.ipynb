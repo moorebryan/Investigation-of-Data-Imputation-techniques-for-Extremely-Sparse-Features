{
 "cells": [
  {
   "cell_type": "code",
   "execution_count": 1,
   "metadata": {},
   "outputs": [],
   "source": [
    "import pandas as pd\n",
    "import matplotlib.pyplot as plt\n",
    "from matplotlib.pyplot import figure\n",
    "import missingno as msno\n",
    "import seaborn as sns\n",
    "%matplotlib inline\n",
    "import math\n",
    "from scipy import stats\n",
    "from scipy.stats import multivariate_normal as mvn\n",
    "import numpy as np\n",
    "from sklearn.model_selection import train_test_split\n",
    "from sklearn.pipeline import make_pipeline\n",
    "from sklearn.preprocessing import PolynomialFeatures, StandardScaler\n",
    "from sklearn.linear_model import SGDRegressor, LinearRegression\n",
    "from sklearn.metrics import mean_squared_error, r2_score\n",
    "\n",
    "from sklearn.model_selection import GridSearchCV\n",
    "from sklearn.neighbors import KNeighborsRegressor\n",
    "\n",
    "import plotly\n",
    "plotly.tools.set_credentials_file(username='bmoore49', api_key='xnI7D5RMqkWnQzD76tDx')\n",
    "import plotly.plotly as py\n",
    "\n",
    "pd.set_option('display.max_columns', None)\n",
    "\n",
    "# The below suppresses all warnings in the notebook\n",
    "# Only leave this uncommented for display purposes\n",
    "import warnings\n",
    "warnings.filterwarnings(\"ignore\")"
   ]
  },
  {
   "cell_type": "markdown",
   "metadata": {},
   "source": [
    "## Import Data"
   ]
  },
  {
   "cell_type": "markdown",
   "metadata": {},
   "source": [
    "This dataset can be found on this page:<br>\n",
    "https://archive.ics.uci.edu/ml/datasets/Facebook+metrics"
   ]
  },
  {
   "cell_type": "code",
   "execution_count": 2,
   "metadata": {},
   "outputs": [
    {
     "name": "stdout",
     "output_type": "stream",
     "text": [
      "The are 19 features in this dataset\n"
     ]
    },
    {
     "data": {
      "text/html": [
       "<div>\n",
       "<style scoped>\n",
       "    .dataframe tbody tr th:only-of-type {\n",
       "        vertical-align: middle;\n",
       "    }\n",
       "\n",
       "    .dataframe tbody tr th {\n",
       "        vertical-align: top;\n",
       "    }\n",
       "\n",
       "    .dataframe thead th {\n",
       "        text-align: right;\n",
       "    }\n",
       "</style>\n",
       "<table border=\"1\" class=\"dataframe\">\n",
       "  <thead>\n",
       "    <tr style=\"text-align: right;\">\n",
       "      <th></th>\n",
       "      <th>Page total likes</th>\n",
       "      <th>Type</th>\n",
       "      <th>Category</th>\n",
       "      <th>Post Month</th>\n",
       "      <th>Post Weekday</th>\n",
       "      <th>Post Hour</th>\n",
       "      <th>Paid</th>\n",
       "      <th>Lifetime Post Total Reach</th>\n",
       "      <th>Lifetime Post Total Impressions</th>\n",
       "      <th>Lifetime Engaged Users</th>\n",
       "      <th>Lifetime Post Consumers</th>\n",
       "      <th>Lifetime Post Consumptions</th>\n",
       "      <th>Lifetime Post Impressions by people who have liked your Page</th>\n",
       "      <th>Lifetime Post reach by people who like your Page</th>\n",
       "      <th>Lifetime People who have liked your Page and engaged with your post</th>\n",
       "      <th>comment</th>\n",
       "      <th>like</th>\n",
       "      <th>share</th>\n",
       "      <th>Total Interactions</th>\n",
       "    </tr>\n",
       "  </thead>\n",
       "  <tbody>\n",
       "    <tr>\n",
       "      <th>0</th>\n",
       "      <td>139441</td>\n",
       "      <td>Photo</td>\n",
       "      <td>2</td>\n",
       "      <td>12</td>\n",
       "      <td>4</td>\n",
       "      <td>3</td>\n",
       "      <td>0.0</td>\n",
       "      <td>2752</td>\n",
       "      <td>5091</td>\n",
       "      <td>178</td>\n",
       "      <td>109</td>\n",
       "      <td>159</td>\n",
       "      <td>3078</td>\n",
       "      <td>1640</td>\n",
       "      <td>119</td>\n",
       "      <td>4</td>\n",
       "      <td>79.0</td>\n",
       "      <td>17.0</td>\n",
       "      <td>100</td>\n",
       "    </tr>\n",
       "    <tr>\n",
       "      <th>1</th>\n",
       "      <td>139441</td>\n",
       "      <td>Status</td>\n",
       "      <td>2</td>\n",
       "      <td>12</td>\n",
       "      <td>3</td>\n",
       "      <td>10</td>\n",
       "      <td>0.0</td>\n",
       "      <td>10460</td>\n",
       "      <td>19057</td>\n",
       "      <td>1457</td>\n",
       "      <td>1361</td>\n",
       "      <td>1674</td>\n",
       "      <td>11710</td>\n",
       "      <td>6112</td>\n",
       "      <td>1108</td>\n",
       "      <td>5</td>\n",
       "      <td>130.0</td>\n",
       "      <td>29.0</td>\n",
       "      <td>164</td>\n",
       "    </tr>\n",
       "    <tr>\n",
       "      <th>2</th>\n",
       "      <td>139441</td>\n",
       "      <td>Photo</td>\n",
       "      <td>3</td>\n",
       "      <td>12</td>\n",
       "      <td>3</td>\n",
       "      <td>3</td>\n",
       "      <td>0.0</td>\n",
       "      <td>2413</td>\n",
       "      <td>4373</td>\n",
       "      <td>177</td>\n",
       "      <td>113</td>\n",
       "      <td>154</td>\n",
       "      <td>2812</td>\n",
       "      <td>1503</td>\n",
       "      <td>132</td>\n",
       "      <td>0</td>\n",
       "      <td>66.0</td>\n",
       "      <td>14.0</td>\n",
       "      <td>80</td>\n",
       "    </tr>\n",
       "    <tr>\n",
       "      <th>3</th>\n",
       "      <td>139441</td>\n",
       "      <td>Photo</td>\n",
       "      <td>2</td>\n",
       "      <td>12</td>\n",
       "      <td>2</td>\n",
       "      <td>10</td>\n",
       "      <td>1.0</td>\n",
       "      <td>50128</td>\n",
       "      <td>87991</td>\n",
       "      <td>2211</td>\n",
       "      <td>790</td>\n",
       "      <td>1119</td>\n",
       "      <td>61027</td>\n",
       "      <td>32048</td>\n",
       "      <td>1386</td>\n",
       "      <td>58</td>\n",
       "      <td>1572.0</td>\n",
       "      <td>147.0</td>\n",
       "      <td>1777</td>\n",
       "    </tr>\n",
       "    <tr>\n",
       "      <th>4</th>\n",
       "      <td>139441</td>\n",
       "      <td>Photo</td>\n",
       "      <td>2</td>\n",
       "      <td>12</td>\n",
       "      <td>2</td>\n",
       "      <td>3</td>\n",
       "      <td>0.0</td>\n",
       "      <td>7244</td>\n",
       "      <td>13594</td>\n",
       "      <td>671</td>\n",
       "      <td>410</td>\n",
       "      <td>580</td>\n",
       "      <td>6228</td>\n",
       "      <td>3200</td>\n",
       "      <td>396</td>\n",
       "      <td>19</td>\n",
       "      <td>325.0</td>\n",
       "      <td>49.0</td>\n",
       "      <td>393</td>\n",
       "    </tr>\n",
       "  </tbody>\n",
       "</table>\n",
       "</div>"
      ],
      "text/plain": [
       "   Page total likes    Type  Category  Post Month  Post Weekday  Post Hour  \\\n",
       "0            139441   Photo         2          12             4          3   \n",
       "1            139441  Status         2          12             3         10   \n",
       "2            139441   Photo         3          12             3          3   \n",
       "3            139441   Photo         2          12             2         10   \n",
       "4            139441   Photo         2          12             2          3   \n",
       "\n",
       "   Paid  Lifetime Post Total Reach  Lifetime Post Total Impressions  \\\n",
       "0   0.0                       2752                             5091   \n",
       "1   0.0                      10460                            19057   \n",
       "2   0.0                       2413                             4373   \n",
       "3   1.0                      50128                            87991   \n",
       "4   0.0                       7244                            13594   \n",
       "\n",
       "   Lifetime Engaged Users  Lifetime Post Consumers  \\\n",
       "0                     178                      109   \n",
       "1                    1457                     1361   \n",
       "2                     177                      113   \n",
       "3                    2211                      790   \n",
       "4                     671                      410   \n",
       "\n",
       "   Lifetime Post Consumptions  \\\n",
       "0                         159   \n",
       "1                        1674   \n",
       "2                         154   \n",
       "3                        1119   \n",
       "4                         580   \n",
       "\n",
       "   Lifetime Post Impressions by people who have liked your Page  \\\n",
       "0                                               3078              \n",
       "1                                              11710              \n",
       "2                                               2812              \n",
       "3                                              61027              \n",
       "4                                               6228              \n",
       "\n",
       "   Lifetime Post reach by people who like your Page  \\\n",
       "0                                              1640   \n",
       "1                                              6112   \n",
       "2                                              1503   \n",
       "3                                             32048   \n",
       "4                                              3200   \n",
       "\n",
       "   Lifetime People who have liked your Page and engaged with your post  \\\n",
       "0                                                119                     \n",
       "1                                               1108                     \n",
       "2                                                132                     \n",
       "3                                               1386                     \n",
       "4                                                396                     \n",
       "\n",
       "   comment    like  share  Total Interactions  \n",
       "0        4    79.0   17.0                 100  \n",
       "1        5   130.0   29.0                 164  \n",
       "2        0    66.0   14.0                  80  \n",
       "3       58  1572.0  147.0                1777  \n",
       "4       19   325.0   49.0                 393  "
      ]
     },
     "execution_count": 2,
     "metadata": {},
     "output_type": "execute_result"
    }
   ],
   "source": [
    "# Initialize paths and file name for loading data\n",
    "data_folder = '/Users/bryan/Dropbox/_Shared Between Priyanka and Bryan/_UNL Materials/CSCE 878/Final Project/Facebook_metrics'\n",
    "# data_folder='/Users/priyanka/Dropbox/shared between priyanka and bryan/_UNL Materials/CSCE 878/Final Project/Facebook_metrics'\n",
    "properties_file = 'dataset_Facebook.csv'\n",
    "\n",
    "# Load in data as pandas file\n",
    "data_df = pd.read_csv(data_folder + '/' + properties_file,';')\n",
    "\n",
    "# Shuffle rows\n",
    "data_df_df = data_df.sample(frac=1)\n",
    "print('The are %i features in this dataset' %len(data_df.columns))\n",
    "\n",
    "# Make sure no rows corresponding to missing entries for target (logerror)\n",
    "# merged_df=merged_df[~merged_df['logerror'].isnull()]\n",
    "# missingdata_df=merged_df.dropna()\n",
    "# missingdata_df.shape\n",
    "data_df.head()"
   ]
  },
  {
   "cell_type": "code",
   "execution_count": 3,
   "metadata": {},
   "outputs": [
    {
     "data": {
      "text/html": [
       "<div>\n",
       "<style scoped>\n",
       "    .dataframe tbody tr th:only-of-type {\n",
       "        vertical-align: middle;\n",
       "    }\n",
       "\n",
       "    .dataframe tbody tr th {\n",
       "        vertical-align: top;\n",
       "    }\n",
       "\n",
       "    .dataframe thead th {\n",
       "        text-align: right;\n",
       "    }\n",
       "</style>\n",
       "<table border=\"1\" class=\"dataframe\">\n",
       "  <thead>\n",
       "    <tr style=\"text-align: right;\">\n",
       "      <th></th>\n",
       "      <th>Page total likes</th>\n",
       "      <th>Category</th>\n",
       "      <th>Post Month</th>\n",
       "      <th>Post Weekday</th>\n",
       "      <th>Post Hour</th>\n",
       "      <th>Paid</th>\n",
       "      <th>Lifetime Post Total Reach</th>\n",
       "      <th>Lifetime Post Total Impressions</th>\n",
       "      <th>Lifetime Engaged Users</th>\n",
       "      <th>Lifetime Post Consumers</th>\n",
       "      <th>Lifetime Post Consumptions</th>\n",
       "      <th>Lifetime Post Impressions by people who have liked your Page</th>\n",
       "      <th>Lifetime Post reach by people who like your Page</th>\n",
       "      <th>Lifetime People who have liked your Page and engaged with your post</th>\n",
       "      <th>comment</th>\n",
       "      <th>like</th>\n",
       "      <th>share</th>\n",
       "      <th>Total Interactions</th>\n",
       "      <th>type_Link</th>\n",
       "      <th>type_Photo</th>\n",
       "      <th>type_Status</th>\n",
       "      <th>type_Video</th>\n",
       "    </tr>\n",
       "  </thead>\n",
       "  <tbody>\n",
       "    <tr>\n",
       "      <th>0</th>\n",
       "      <td>139441</td>\n",
       "      <td>2</td>\n",
       "      <td>12</td>\n",
       "      <td>4</td>\n",
       "      <td>3</td>\n",
       "      <td>0.0</td>\n",
       "      <td>2752</td>\n",
       "      <td>5091</td>\n",
       "      <td>178</td>\n",
       "      <td>109</td>\n",
       "      <td>159</td>\n",
       "      <td>3078</td>\n",
       "      <td>1640</td>\n",
       "      <td>119</td>\n",
       "      <td>4</td>\n",
       "      <td>79.0</td>\n",
       "      <td>17.0</td>\n",
       "      <td>100</td>\n",
       "      <td>0</td>\n",
       "      <td>1</td>\n",
       "      <td>0</td>\n",
       "      <td>0</td>\n",
       "    </tr>\n",
       "    <tr>\n",
       "      <th>1</th>\n",
       "      <td>139441</td>\n",
       "      <td>2</td>\n",
       "      <td>12</td>\n",
       "      <td>3</td>\n",
       "      <td>10</td>\n",
       "      <td>0.0</td>\n",
       "      <td>10460</td>\n",
       "      <td>19057</td>\n",
       "      <td>1457</td>\n",
       "      <td>1361</td>\n",
       "      <td>1674</td>\n",
       "      <td>11710</td>\n",
       "      <td>6112</td>\n",
       "      <td>1108</td>\n",
       "      <td>5</td>\n",
       "      <td>130.0</td>\n",
       "      <td>29.0</td>\n",
       "      <td>164</td>\n",
       "      <td>0</td>\n",
       "      <td>0</td>\n",
       "      <td>1</td>\n",
       "      <td>0</td>\n",
       "    </tr>\n",
       "    <tr>\n",
       "      <th>2</th>\n",
       "      <td>139441</td>\n",
       "      <td>3</td>\n",
       "      <td>12</td>\n",
       "      <td>3</td>\n",
       "      <td>3</td>\n",
       "      <td>0.0</td>\n",
       "      <td>2413</td>\n",
       "      <td>4373</td>\n",
       "      <td>177</td>\n",
       "      <td>113</td>\n",
       "      <td>154</td>\n",
       "      <td>2812</td>\n",
       "      <td>1503</td>\n",
       "      <td>132</td>\n",
       "      <td>0</td>\n",
       "      <td>66.0</td>\n",
       "      <td>14.0</td>\n",
       "      <td>80</td>\n",
       "      <td>0</td>\n",
       "      <td>1</td>\n",
       "      <td>0</td>\n",
       "      <td>0</td>\n",
       "    </tr>\n",
       "    <tr>\n",
       "      <th>3</th>\n",
       "      <td>139441</td>\n",
       "      <td>2</td>\n",
       "      <td>12</td>\n",
       "      <td>2</td>\n",
       "      <td>10</td>\n",
       "      <td>1.0</td>\n",
       "      <td>50128</td>\n",
       "      <td>87991</td>\n",
       "      <td>2211</td>\n",
       "      <td>790</td>\n",
       "      <td>1119</td>\n",
       "      <td>61027</td>\n",
       "      <td>32048</td>\n",
       "      <td>1386</td>\n",
       "      <td>58</td>\n",
       "      <td>1572.0</td>\n",
       "      <td>147.0</td>\n",
       "      <td>1777</td>\n",
       "      <td>0</td>\n",
       "      <td>1</td>\n",
       "      <td>0</td>\n",
       "      <td>0</td>\n",
       "    </tr>\n",
       "    <tr>\n",
       "      <th>4</th>\n",
       "      <td>139441</td>\n",
       "      <td>2</td>\n",
       "      <td>12</td>\n",
       "      <td>2</td>\n",
       "      <td>3</td>\n",
       "      <td>0.0</td>\n",
       "      <td>7244</td>\n",
       "      <td>13594</td>\n",
       "      <td>671</td>\n",
       "      <td>410</td>\n",
       "      <td>580</td>\n",
       "      <td>6228</td>\n",
       "      <td>3200</td>\n",
       "      <td>396</td>\n",
       "      <td>19</td>\n",
       "      <td>325.0</td>\n",
       "      <td>49.0</td>\n",
       "      <td>393</td>\n",
       "      <td>0</td>\n",
       "      <td>1</td>\n",
       "      <td>0</td>\n",
       "      <td>0</td>\n",
       "    </tr>\n",
       "  </tbody>\n",
       "</table>\n",
       "</div>"
      ],
      "text/plain": [
       "   Page total likes  Category  Post Month  Post Weekday  Post Hour  Paid  \\\n",
       "0            139441         2          12             4          3   0.0   \n",
       "1            139441         2          12             3         10   0.0   \n",
       "2            139441         3          12             3          3   0.0   \n",
       "3            139441         2          12             2         10   1.0   \n",
       "4            139441         2          12             2          3   0.0   \n",
       "\n",
       "   Lifetime Post Total Reach  Lifetime Post Total Impressions  \\\n",
       "0                       2752                             5091   \n",
       "1                      10460                            19057   \n",
       "2                       2413                             4373   \n",
       "3                      50128                            87991   \n",
       "4                       7244                            13594   \n",
       "\n",
       "   Lifetime Engaged Users  Lifetime Post Consumers  \\\n",
       "0                     178                      109   \n",
       "1                    1457                     1361   \n",
       "2                     177                      113   \n",
       "3                    2211                      790   \n",
       "4                     671                      410   \n",
       "\n",
       "   Lifetime Post Consumptions  \\\n",
       "0                         159   \n",
       "1                        1674   \n",
       "2                         154   \n",
       "3                        1119   \n",
       "4                         580   \n",
       "\n",
       "   Lifetime Post Impressions by people who have liked your Page  \\\n",
       "0                                               3078              \n",
       "1                                              11710              \n",
       "2                                               2812              \n",
       "3                                              61027              \n",
       "4                                               6228              \n",
       "\n",
       "   Lifetime Post reach by people who like your Page  \\\n",
       "0                                              1640   \n",
       "1                                              6112   \n",
       "2                                              1503   \n",
       "3                                             32048   \n",
       "4                                              3200   \n",
       "\n",
       "   Lifetime People who have liked your Page and engaged with your post  \\\n",
       "0                                                119                     \n",
       "1                                               1108                     \n",
       "2                                                132                     \n",
       "3                                               1386                     \n",
       "4                                                396                     \n",
       "\n",
       "   comment    like  share  Total Interactions  type_Link  type_Photo  \\\n",
       "0        4    79.0   17.0                 100          0           1   \n",
       "1        5   130.0   29.0                 164          0           0   \n",
       "2        0    66.0   14.0                  80          0           1   \n",
       "3       58  1572.0  147.0                1777          0           1   \n",
       "4       19   325.0   49.0                 393          0           1   \n",
       "\n",
       "   type_Status  type_Video  \n",
       "0            0           0  \n",
       "1            1           0  \n",
       "2            0           0  \n",
       "3            0           0  \n",
       "4            0           0  "
      ]
     },
     "execution_count": 3,
     "metadata": {},
     "output_type": "execute_result"
    }
   ],
   "source": [
    "# We now one-hot encode the 'type' feature and include these in the dataframe\n",
    "\n",
    "merged_df = pd.get_dummies(data_df,prefix=['type'])\n",
    "\n",
    "merged_df.head()"
   ]
  },
  {
   "cell_type": "code",
   "execution_count": 4,
   "metadata": {},
   "outputs": [
    {
     "data": {
      "text/html": [
       "<div>\n",
       "<style scoped>\n",
       "    .dataframe tbody tr th:only-of-type {\n",
       "        vertical-align: middle;\n",
       "    }\n",
       "\n",
       "    .dataframe tbody tr th {\n",
       "        vertical-align: top;\n",
       "    }\n",
       "\n",
       "    .dataframe thead th {\n",
       "        text-align: right;\n",
       "    }\n",
       "</style>\n",
       "<table border=\"1\" class=\"dataframe\">\n",
       "  <thead>\n",
       "    <tr style=\"text-align: right;\">\n",
       "      <th></th>\n",
       "      <th>Page total likes</th>\n",
       "      <th>Category</th>\n",
       "      <th>Post Month</th>\n",
       "      <th>Post Weekday</th>\n",
       "      <th>Post Hour</th>\n",
       "      <th>Paid</th>\n",
       "      <th>Lifetime Post Total Reach</th>\n",
       "      <th>Lifetime Post Total Impressions</th>\n",
       "      <th>Lifetime Engaged Users</th>\n",
       "      <th>Lifetime Post Consumers</th>\n",
       "      <th>Lifetime Post Consumptions</th>\n",
       "      <th>Lifetime Post Impressions by people who have liked your Page</th>\n",
       "      <th>Lifetime Post reach by people who like your Page</th>\n",
       "      <th>Lifetime People who have liked your Page and engaged with your post</th>\n",
       "      <th>comment</th>\n",
       "      <th>like</th>\n",
       "      <th>share</th>\n",
       "      <th>Total Interactions</th>\n",
       "      <th>type_Link</th>\n",
       "      <th>type_Photo</th>\n",
       "      <th>type_Status</th>\n",
       "      <th>type_Video</th>\n",
       "    </tr>\n",
       "  </thead>\n",
       "  <tbody>\n",
       "    <tr>\n",
       "      <th>count</th>\n",
       "      <td>500.000000</td>\n",
       "      <td>500.000000</td>\n",
       "      <td>500.000000</td>\n",
       "      <td>500.000000</td>\n",
       "      <td>500.000000</td>\n",
       "      <td>499.000000</td>\n",
       "      <td>500.00000</td>\n",
       "      <td>5.000000e+02</td>\n",
       "      <td>500.000000</td>\n",
       "      <td>500.000000</td>\n",
       "      <td>500.000000</td>\n",
       "      <td>5.000000e+02</td>\n",
       "      <td>500.000000</td>\n",
       "      <td>500.000000</td>\n",
       "      <td>500.00000</td>\n",
       "      <td>499.000000</td>\n",
       "      <td>496.000000</td>\n",
       "      <td>500.000000</td>\n",
       "      <td>500.000000</td>\n",
       "      <td>500.000000</td>\n",
       "      <td>500.000000</td>\n",
       "      <td>500.000000</td>\n",
       "    </tr>\n",
       "    <tr>\n",
       "      <th>mean</th>\n",
       "      <td>123194.176000</td>\n",
       "      <td>1.880000</td>\n",
       "      <td>7.038000</td>\n",
       "      <td>4.150000</td>\n",
       "      <td>7.840000</td>\n",
       "      <td>0.278557</td>\n",
       "      <td>13903.36000</td>\n",
       "      <td>2.958595e+04</td>\n",
       "      <td>920.344000</td>\n",
       "      <td>798.772000</td>\n",
       "      <td>1415.130000</td>\n",
       "      <td>1.676638e+04</td>\n",
       "      <td>6585.488000</td>\n",
       "      <td>609.986000</td>\n",
       "      <td>7.48200</td>\n",
       "      <td>177.945892</td>\n",
       "      <td>27.266129</td>\n",
       "      <td>212.120000</td>\n",
       "      <td>0.044000</td>\n",
       "      <td>0.852000</td>\n",
       "      <td>0.090000</td>\n",
       "      <td>0.014000</td>\n",
       "    </tr>\n",
       "    <tr>\n",
       "      <th>std</th>\n",
       "      <td>16272.813214</td>\n",
       "      <td>0.852675</td>\n",
       "      <td>3.307936</td>\n",
       "      <td>2.030701</td>\n",
       "      <td>4.368589</td>\n",
       "      <td>0.448739</td>\n",
       "      <td>22740.78789</td>\n",
       "      <td>7.680325e+04</td>\n",
       "      <td>985.016636</td>\n",
       "      <td>882.505013</td>\n",
       "      <td>2000.594118</td>\n",
       "      <td>5.979102e+04</td>\n",
       "      <td>7682.009405</td>\n",
       "      <td>612.725618</td>\n",
       "      <td>21.18091</td>\n",
       "      <td>323.398742</td>\n",
       "      <td>42.613292</td>\n",
       "      <td>380.233118</td>\n",
       "      <td>0.205301</td>\n",
       "      <td>0.355456</td>\n",
       "      <td>0.286468</td>\n",
       "      <td>0.117608</td>\n",
       "    </tr>\n",
       "    <tr>\n",
       "      <th>min</th>\n",
       "      <td>81370.000000</td>\n",
       "      <td>1.000000</td>\n",
       "      <td>1.000000</td>\n",
       "      <td>1.000000</td>\n",
       "      <td>1.000000</td>\n",
       "      <td>0.000000</td>\n",
       "      <td>238.00000</td>\n",
       "      <td>5.700000e+02</td>\n",
       "      <td>9.000000</td>\n",
       "      <td>9.000000</td>\n",
       "      <td>9.000000</td>\n",
       "      <td>5.670000e+02</td>\n",
       "      <td>236.000000</td>\n",
       "      <td>9.000000</td>\n",
       "      <td>0.00000</td>\n",
       "      <td>0.000000</td>\n",
       "      <td>0.000000</td>\n",
       "      <td>0.000000</td>\n",
       "      <td>0.000000</td>\n",
       "      <td>0.000000</td>\n",
       "      <td>0.000000</td>\n",
       "      <td>0.000000</td>\n",
       "    </tr>\n",
       "    <tr>\n",
       "      <th>25%</th>\n",
       "      <td>112676.000000</td>\n",
       "      <td>1.000000</td>\n",
       "      <td>4.000000</td>\n",
       "      <td>2.000000</td>\n",
       "      <td>3.000000</td>\n",
       "      <td>0.000000</td>\n",
       "      <td>3315.00000</td>\n",
       "      <td>5.694750e+03</td>\n",
       "      <td>393.750000</td>\n",
       "      <td>332.500000</td>\n",
       "      <td>509.250000</td>\n",
       "      <td>3.969750e+03</td>\n",
       "      <td>2181.500000</td>\n",
       "      <td>291.000000</td>\n",
       "      <td>1.00000</td>\n",
       "      <td>56.500000</td>\n",
       "      <td>10.000000</td>\n",
       "      <td>71.000000</td>\n",
       "      <td>0.000000</td>\n",
       "      <td>1.000000</td>\n",
       "      <td>0.000000</td>\n",
       "      <td>0.000000</td>\n",
       "    </tr>\n",
       "    <tr>\n",
       "      <th>50%</th>\n",
       "      <td>129600.000000</td>\n",
       "      <td>2.000000</td>\n",
       "      <td>7.000000</td>\n",
       "      <td>4.000000</td>\n",
       "      <td>9.000000</td>\n",
       "      <td>0.000000</td>\n",
       "      <td>5281.00000</td>\n",
       "      <td>9.051000e+03</td>\n",
       "      <td>625.500000</td>\n",
       "      <td>551.500000</td>\n",
       "      <td>851.000000</td>\n",
       "      <td>6.255500e+03</td>\n",
       "      <td>3417.000000</td>\n",
       "      <td>412.000000</td>\n",
       "      <td>3.00000</td>\n",
       "      <td>101.000000</td>\n",
       "      <td>19.000000</td>\n",
       "      <td>123.500000</td>\n",
       "      <td>0.000000</td>\n",
       "      <td>1.000000</td>\n",
       "      <td>0.000000</td>\n",
       "      <td>0.000000</td>\n",
       "    </tr>\n",
       "    <tr>\n",
       "      <th>75%</th>\n",
       "      <td>136393.000000</td>\n",
       "      <td>3.000000</td>\n",
       "      <td>10.000000</td>\n",
       "      <td>6.000000</td>\n",
       "      <td>11.000000</td>\n",
       "      <td>1.000000</td>\n",
       "      <td>13168.00000</td>\n",
       "      <td>2.208550e+04</td>\n",
       "      <td>1062.000000</td>\n",
       "      <td>955.500000</td>\n",
       "      <td>1463.000000</td>\n",
       "      <td>1.486050e+04</td>\n",
       "      <td>7989.000000</td>\n",
       "      <td>656.250000</td>\n",
       "      <td>7.00000</td>\n",
       "      <td>187.500000</td>\n",
       "      <td>32.250000</td>\n",
       "      <td>228.500000</td>\n",
       "      <td>0.000000</td>\n",
       "      <td>1.000000</td>\n",
       "      <td>0.000000</td>\n",
       "      <td>0.000000</td>\n",
       "    </tr>\n",
       "    <tr>\n",
       "      <th>max</th>\n",
       "      <td>139441.000000</td>\n",
       "      <td>3.000000</td>\n",
       "      <td>12.000000</td>\n",
       "      <td>7.000000</td>\n",
       "      <td>23.000000</td>\n",
       "      <td>1.000000</td>\n",
       "      <td>180480.00000</td>\n",
       "      <td>1.110282e+06</td>\n",
       "      <td>11452.000000</td>\n",
       "      <td>11328.000000</td>\n",
       "      <td>19779.000000</td>\n",
       "      <td>1.107833e+06</td>\n",
       "      <td>51456.000000</td>\n",
       "      <td>4376.000000</td>\n",
       "      <td>372.00000</td>\n",
       "      <td>5172.000000</td>\n",
       "      <td>790.000000</td>\n",
       "      <td>6334.000000</td>\n",
       "      <td>1.000000</td>\n",
       "      <td>1.000000</td>\n",
       "      <td>1.000000</td>\n",
       "      <td>1.000000</td>\n",
       "    </tr>\n",
       "  </tbody>\n",
       "</table>\n",
       "</div>"
      ],
      "text/plain": [
       "       Page total likes    Category  Post Month  Post Weekday   Post Hour  \\\n",
       "count        500.000000  500.000000  500.000000    500.000000  500.000000   \n",
       "mean      123194.176000    1.880000    7.038000      4.150000    7.840000   \n",
       "std        16272.813214    0.852675    3.307936      2.030701    4.368589   \n",
       "min        81370.000000    1.000000    1.000000      1.000000    1.000000   \n",
       "25%       112676.000000    1.000000    4.000000      2.000000    3.000000   \n",
       "50%       129600.000000    2.000000    7.000000      4.000000    9.000000   \n",
       "75%       136393.000000    3.000000   10.000000      6.000000   11.000000   \n",
       "max       139441.000000    3.000000   12.000000      7.000000   23.000000   \n",
       "\n",
       "             Paid  Lifetime Post Total Reach  Lifetime Post Total Impressions  \\\n",
       "count  499.000000                  500.00000                     5.000000e+02   \n",
       "mean     0.278557                13903.36000                     2.958595e+04   \n",
       "std      0.448739                22740.78789                     7.680325e+04   \n",
       "min      0.000000                  238.00000                     5.700000e+02   \n",
       "25%      0.000000                 3315.00000                     5.694750e+03   \n",
       "50%      0.000000                 5281.00000                     9.051000e+03   \n",
       "75%      1.000000                13168.00000                     2.208550e+04   \n",
       "max      1.000000               180480.00000                     1.110282e+06   \n",
       "\n",
       "       Lifetime Engaged Users  Lifetime Post Consumers  \\\n",
       "count              500.000000               500.000000   \n",
       "mean               920.344000               798.772000   \n",
       "std                985.016636               882.505013   \n",
       "min                  9.000000                 9.000000   \n",
       "25%                393.750000               332.500000   \n",
       "50%                625.500000               551.500000   \n",
       "75%               1062.000000               955.500000   \n",
       "max              11452.000000             11328.000000   \n",
       "\n",
       "       Lifetime Post Consumptions  \\\n",
       "count                  500.000000   \n",
       "mean                  1415.130000   \n",
       "std                   2000.594118   \n",
       "min                      9.000000   \n",
       "25%                    509.250000   \n",
       "50%                    851.000000   \n",
       "75%                   1463.000000   \n",
       "max                  19779.000000   \n",
       "\n",
       "       Lifetime Post Impressions by people who have liked your Page  \\\n",
       "count                                       5.000000e+02              \n",
       "mean                                        1.676638e+04              \n",
       "std                                         5.979102e+04              \n",
       "min                                         5.670000e+02              \n",
       "25%                                         3.969750e+03              \n",
       "50%                                         6.255500e+03              \n",
       "75%                                         1.486050e+04              \n",
       "max                                         1.107833e+06              \n",
       "\n",
       "       Lifetime Post reach by people who like your Page  \\\n",
       "count                                        500.000000   \n",
       "mean                                        6585.488000   \n",
       "std                                         7682.009405   \n",
       "min                                          236.000000   \n",
       "25%                                         2181.500000   \n",
       "50%                                         3417.000000   \n",
       "75%                                         7989.000000   \n",
       "max                                        51456.000000   \n",
       "\n",
       "       Lifetime People who have liked your Page and engaged with your post  \\\n",
       "count                                         500.000000                     \n",
       "mean                                          609.986000                     \n",
       "std                                           612.725618                     \n",
       "min                                             9.000000                     \n",
       "25%                                           291.000000                     \n",
       "50%                                           412.000000                     \n",
       "75%                                           656.250000                     \n",
       "max                                          4376.000000                     \n",
       "\n",
       "         comment         like       share  Total Interactions   type_Link  \\\n",
       "count  500.00000   499.000000  496.000000          500.000000  500.000000   \n",
       "mean     7.48200   177.945892   27.266129          212.120000    0.044000   \n",
       "std     21.18091   323.398742   42.613292          380.233118    0.205301   \n",
       "min      0.00000     0.000000    0.000000            0.000000    0.000000   \n",
       "25%      1.00000    56.500000   10.000000           71.000000    0.000000   \n",
       "50%      3.00000   101.000000   19.000000          123.500000    0.000000   \n",
       "75%      7.00000   187.500000   32.250000          228.500000    0.000000   \n",
       "max    372.00000  5172.000000  790.000000         6334.000000    1.000000   \n",
       "\n",
       "       type_Photo  type_Status  type_Video  \n",
       "count  500.000000   500.000000  500.000000  \n",
       "mean     0.852000     0.090000    0.014000  \n",
       "std      0.355456     0.286468    0.117608  \n",
       "min      0.000000     0.000000    0.000000  \n",
       "25%      1.000000     0.000000    0.000000  \n",
       "50%      1.000000     0.000000    0.000000  \n",
       "75%      1.000000     0.000000    0.000000  \n",
       "max      1.000000     1.000000    1.000000  "
      ]
     },
     "execution_count": 4,
     "metadata": {},
     "output_type": "execute_result"
    }
   ],
   "source": [
    "merged_df.describe()"
   ]
  },
  {
   "cell_type": "code",
   "execution_count": 5,
   "metadata": {},
   "outputs": [],
   "source": [
    "# Holds boolean whether entry is null or not\n",
    "def nan_investigation(df):\n",
    "    num_entries = df.shape[0]\n",
    "    df_titles = list(df.columns.values)\n",
    "    nan_count_df = pd.DataFrame(columns=df_titles,index=['Tot_Null','Tot_Not_Null','Perc_Null'])\n",
    "    for column in df:\n",
    "        nan_sum = df[column].isnull().sum()\n",
    "        nan_count_df.set_value('Tot_Null', column, nan_sum)\n",
    "        nan_count_df.set_value('Tot_Not_Null', column, num_entries-nan_sum)\n",
    "        nan_count_df.set_value('Perc_Null', column, nan_sum/num_entries)\n",
    "\n",
    "    display(nan_count_df)"
   ]
  },
  {
   "cell_type": "code",
   "execution_count": 6,
   "metadata": {},
   "outputs": [
    {
     "data": {
      "text/html": [
       "<div>\n",
       "<style scoped>\n",
       "    .dataframe tbody tr th:only-of-type {\n",
       "        vertical-align: middle;\n",
       "    }\n",
       "\n",
       "    .dataframe tbody tr th {\n",
       "        vertical-align: top;\n",
       "    }\n",
       "\n",
       "    .dataframe thead th {\n",
       "        text-align: right;\n",
       "    }\n",
       "</style>\n",
       "<table border=\"1\" class=\"dataframe\">\n",
       "  <thead>\n",
       "    <tr style=\"text-align: right;\">\n",
       "      <th></th>\n",
       "      <th>Page total likes</th>\n",
       "      <th>Category</th>\n",
       "      <th>Post Month</th>\n",
       "      <th>Post Weekday</th>\n",
       "      <th>Post Hour</th>\n",
       "      <th>Paid</th>\n",
       "      <th>Lifetime Post Total Reach</th>\n",
       "      <th>Lifetime Post Total Impressions</th>\n",
       "      <th>Lifetime Engaged Users</th>\n",
       "      <th>Lifetime Post Consumers</th>\n",
       "      <th>Lifetime Post Consumptions</th>\n",
       "      <th>Lifetime Post Impressions by people who have liked your Page</th>\n",
       "      <th>Lifetime Post reach by people who like your Page</th>\n",
       "      <th>Lifetime People who have liked your Page and engaged with your post</th>\n",
       "      <th>comment</th>\n",
       "      <th>like</th>\n",
       "      <th>share</th>\n",
       "      <th>Total Interactions</th>\n",
       "      <th>type_Link</th>\n",
       "      <th>type_Photo</th>\n",
       "      <th>type_Status</th>\n",
       "      <th>type_Video</th>\n",
       "    </tr>\n",
       "  </thead>\n",
       "  <tbody>\n",
       "    <tr>\n",
       "      <th>Tot_Null</th>\n",
       "      <td>0</td>\n",
       "      <td>0</td>\n",
       "      <td>0</td>\n",
       "      <td>0</td>\n",
       "      <td>0</td>\n",
       "      <td>1</td>\n",
       "      <td>0</td>\n",
       "      <td>0</td>\n",
       "      <td>0</td>\n",
       "      <td>0</td>\n",
       "      <td>0</td>\n",
       "      <td>0</td>\n",
       "      <td>0</td>\n",
       "      <td>0</td>\n",
       "      <td>0</td>\n",
       "      <td>1</td>\n",
       "      <td>4</td>\n",
       "      <td>0</td>\n",
       "      <td>0</td>\n",
       "      <td>0</td>\n",
       "      <td>0</td>\n",
       "      <td>0</td>\n",
       "    </tr>\n",
       "    <tr>\n",
       "      <th>Tot_Not_Null</th>\n",
       "      <td>500</td>\n",
       "      <td>500</td>\n",
       "      <td>500</td>\n",
       "      <td>500</td>\n",
       "      <td>500</td>\n",
       "      <td>499</td>\n",
       "      <td>500</td>\n",
       "      <td>500</td>\n",
       "      <td>500</td>\n",
       "      <td>500</td>\n",
       "      <td>500</td>\n",
       "      <td>500</td>\n",
       "      <td>500</td>\n",
       "      <td>500</td>\n",
       "      <td>500</td>\n",
       "      <td>499</td>\n",
       "      <td>496</td>\n",
       "      <td>500</td>\n",
       "      <td>500</td>\n",
       "      <td>500</td>\n",
       "      <td>500</td>\n",
       "      <td>500</td>\n",
       "    </tr>\n",
       "    <tr>\n",
       "      <th>Perc_Null</th>\n",
       "      <td>0</td>\n",
       "      <td>0</td>\n",
       "      <td>0</td>\n",
       "      <td>0</td>\n",
       "      <td>0</td>\n",
       "      <td>0.002</td>\n",
       "      <td>0</td>\n",
       "      <td>0</td>\n",
       "      <td>0</td>\n",
       "      <td>0</td>\n",
       "      <td>0</td>\n",
       "      <td>0</td>\n",
       "      <td>0</td>\n",
       "      <td>0</td>\n",
       "      <td>0</td>\n",
       "      <td>0.002</td>\n",
       "      <td>0.008</td>\n",
       "      <td>0</td>\n",
       "      <td>0</td>\n",
       "      <td>0</td>\n",
       "      <td>0</td>\n",
       "      <td>0</td>\n",
       "    </tr>\n",
       "  </tbody>\n",
       "</table>\n",
       "</div>"
      ],
      "text/plain": [
       "             Page total likes Category Post Month Post Weekday Post Hour  \\\n",
       "Tot_Null                    0        0          0            0         0   \n",
       "Tot_Not_Null              500      500        500          500       500   \n",
       "Perc_Null                   0        0          0            0         0   \n",
       "\n",
       "               Paid Lifetime Post Total Reach Lifetime Post Total Impressions  \\\n",
       "Tot_Null          1                         0                               0   \n",
       "Tot_Not_Null    499                       500                             500   \n",
       "Perc_Null     0.002                         0                               0   \n",
       "\n",
       "             Lifetime Engaged Users Lifetime Post Consumers  \\\n",
       "Tot_Null                          0                       0   \n",
       "Tot_Not_Null                    500                     500   \n",
       "Perc_Null                         0                       0   \n",
       "\n",
       "             Lifetime Post Consumptions  \\\n",
       "Tot_Null                              0   \n",
       "Tot_Not_Null                        500   \n",
       "Perc_Null                             0   \n",
       "\n",
       "             Lifetime Post Impressions by people who have liked your Page  \\\n",
       "Tot_Null                                                      0             \n",
       "Tot_Not_Null                                                500             \n",
       "Perc_Null                                                     0             \n",
       "\n",
       "             Lifetime Post reach by people who like your Page  \\\n",
       "Tot_Null                                                    0   \n",
       "Tot_Not_Null                                              500   \n",
       "Perc_Null                                                   0   \n",
       "\n",
       "             Lifetime People who have liked your Page and engaged with your post  \\\n",
       "Tot_Null                                                      0                    \n",
       "Tot_Not_Null                                                500                    \n",
       "Perc_Null                                                     0                    \n",
       "\n",
       "             comment   like  share Total Interactions type_Link type_Photo  \\\n",
       "Tot_Null           0      1      4                  0         0          0   \n",
       "Tot_Not_Null     500    499    496                500       500        500   \n",
       "Perc_Null          0  0.002  0.008                  0         0          0   \n",
       "\n",
       "             type_Status type_Video  \n",
       "Tot_Null               0          0  \n",
       "Tot_Not_Null         500        500  \n",
       "Perc_Null              0          0  "
      ]
     },
     "metadata": {},
     "output_type": "display_data"
    }
   ],
   "source": [
    "# Check to see if any values are actually missing\n",
    "nan_investigation(merged_df)"
   ]
  },
  {
   "cell_type": "code",
   "execution_count": 7,
   "metadata": {},
   "outputs": [
    {
     "data": {
      "text/html": [
       "<div>\n",
       "<style scoped>\n",
       "    .dataframe tbody tr th:only-of-type {\n",
       "        vertical-align: middle;\n",
       "    }\n",
       "\n",
       "    .dataframe tbody tr th {\n",
       "        vertical-align: top;\n",
       "    }\n",
       "\n",
       "    .dataframe thead th {\n",
       "        text-align: right;\n",
       "    }\n",
       "</style>\n",
       "<table border=\"1\" class=\"dataframe\">\n",
       "  <thead>\n",
       "    <tr style=\"text-align: right;\">\n",
       "      <th></th>\n",
       "      <th>Page total likes</th>\n",
       "      <th>Category</th>\n",
       "      <th>Post Month</th>\n",
       "      <th>Post Weekday</th>\n",
       "      <th>Post Hour</th>\n",
       "      <th>Paid</th>\n",
       "      <th>Lifetime Post Total Reach</th>\n",
       "      <th>Lifetime Post Total Impressions</th>\n",
       "      <th>Lifetime Engaged Users</th>\n",
       "      <th>Lifetime Post Consumers</th>\n",
       "      <th>Lifetime Post Consumptions</th>\n",
       "      <th>Lifetime Post Impressions by people who have liked your Page</th>\n",
       "      <th>Lifetime Post reach by people who like your Page</th>\n",
       "      <th>Lifetime People who have liked your Page and engaged with your post</th>\n",
       "      <th>comment</th>\n",
       "      <th>like</th>\n",
       "      <th>share</th>\n",
       "      <th>Total Interactions</th>\n",
       "      <th>type_Link</th>\n",
       "      <th>type_Photo</th>\n",
       "      <th>type_Status</th>\n",
       "      <th>type_Video</th>\n",
       "    </tr>\n",
       "  </thead>\n",
       "  <tbody>\n",
       "    <tr>\n",
       "      <th>Tot_Null</th>\n",
       "      <td>0</td>\n",
       "      <td>0</td>\n",
       "      <td>0</td>\n",
       "      <td>0</td>\n",
       "      <td>0</td>\n",
       "      <td>0</td>\n",
       "      <td>0</td>\n",
       "      <td>0</td>\n",
       "      <td>0</td>\n",
       "      <td>0</td>\n",
       "      <td>0</td>\n",
       "      <td>0</td>\n",
       "      <td>0</td>\n",
       "      <td>0</td>\n",
       "      <td>0</td>\n",
       "      <td>0</td>\n",
       "      <td>0</td>\n",
       "      <td>0</td>\n",
       "      <td>0</td>\n",
       "      <td>0</td>\n",
       "      <td>0</td>\n",
       "      <td>0</td>\n",
       "    </tr>\n",
       "    <tr>\n",
       "      <th>Tot_Not_Null</th>\n",
       "      <td>500</td>\n",
       "      <td>500</td>\n",
       "      <td>500</td>\n",
       "      <td>500</td>\n",
       "      <td>500</td>\n",
       "      <td>500</td>\n",
       "      <td>500</td>\n",
       "      <td>500</td>\n",
       "      <td>500</td>\n",
       "      <td>500</td>\n",
       "      <td>500</td>\n",
       "      <td>500</td>\n",
       "      <td>500</td>\n",
       "      <td>500</td>\n",
       "      <td>500</td>\n",
       "      <td>500</td>\n",
       "      <td>500</td>\n",
       "      <td>500</td>\n",
       "      <td>500</td>\n",
       "      <td>500</td>\n",
       "      <td>500</td>\n",
       "      <td>500</td>\n",
       "    </tr>\n",
       "    <tr>\n",
       "      <th>Perc_Null</th>\n",
       "      <td>0</td>\n",
       "      <td>0</td>\n",
       "      <td>0</td>\n",
       "      <td>0</td>\n",
       "      <td>0</td>\n",
       "      <td>0</td>\n",
       "      <td>0</td>\n",
       "      <td>0</td>\n",
       "      <td>0</td>\n",
       "      <td>0</td>\n",
       "      <td>0</td>\n",
       "      <td>0</td>\n",
       "      <td>0</td>\n",
       "      <td>0</td>\n",
       "      <td>0</td>\n",
       "      <td>0</td>\n",
       "      <td>0</td>\n",
       "      <td>0</td>\n",
       "      <td>0</td>\n",
       "      <td>0</td>\n",
       "      <td>0</td>\n",
       "      <td>0</td>\n",
       "    </tr>\n",
       "  </tbody>\n",
       "</table>\n",
       "</div>"
      ],
      "text/plain": [
       "             Page total likes Category Post Month Post Weekday Post Hour Paid  \\\n",
       "Tot_Null                    0        0          0            0         0    0   \n",
       "Tot_Not_Null              500      500        500          500       500  500   \n",
       "Perc_Null                   0        0          0            0         0    0   \n",
       "\n",
       "             Lifetime Post Total Reach Lifetime Post Total Impressions  \\\n",
       "Tot_Null                             0                               0   \n",
       "Tot_Not_Null                       500                             500   \n",
       "Perc_Null                            0                               0   \n",
       "\n",
       "             Lifetime Engaged Users Lifetime Post Consumers  \\\n",
       "Tot_Null                          0                       0   \n",
       "Tot_Not_Null                    500                     500   \n",
       "Perc_Null                         0                       0   \n",
       "\n",
       "             Lifetime Post Consumptions  \\\n",
       "Tot_Null                              0   \n",
       "Tot_Not_Null                        500   \n",
       "Perc_Null                             0   \n",
       "\n",
       "             Lifetime Post Impressions by people who have liked your Page  \\\n",
       "Tot_Null                                                      0             \n",
       "Tot_Not_Null                                                500             \n",
       "Perc_Null                                                     0             \n",
       "\n",
       "             Lifetime Post reach by people who like your Page  \\\n",
       "Tot_Null                                                    0   \n",
       "Tot_Not_Null                                              500   \n",
       "Perc_Null                                                   0   \n",
       "\n",
       "             Lifetime People who have liked your Page and engaged with your post  \\\n",
       "Tot_Null                                                      0                    \n",
       "Tot_Not_Null                                                500                    \n",
       "Perc_Null                                                     0                    \n",
       "\n",
       "             comment like share Total Interactions type_Link type_Photo  \\\n",
       "Tot_Null           0    0     0                  0         0          0   \n",
       "Tot_Not_Null     500  500   500                500       500        500   \n",
       "Perc_Null          0    0     0                  0         0          0   \n",
       "\n",
       "             type_Status type_Video  \n",
       "Tot_Null               0          0  \n",
       "Tot_Not_Null         500        500  \n",
       "Perc_Null              0          0  "
      ]
     },
     "metadata": {},
     "output_type": "display_data"
    }
   ],
   "source": [
    "# From above we see that one value is missing from Paid and one value is missing from like\n",
    "# 4 are missing from share\n",
    "# We believe it is safe to use mean imputation to replace these\n",
    "\n",
    "merged_df['Paid'].fillna((merged_df['Paid'].mean()), inplace=True)\n",
    "merged_df['like'].fillna((merged_df['like'].mean()), inplace=True)\n",
    "merged_df['share'].fillna((merged_df['share'].mean()), inplace=True)\n",
    "nan_investigation(merged_df)"
   ]
  },
  {
   "cell_type": "code",
   "execution_count": 8,
   "metadata": {},
   "outputs": [
    {
     "data": {
      "text/plain": [
       "Page total likes                                                       1.000000\n",
       "Post Month                                                             0.941192\n",
       "type_Status                                                            0.182867\n",
       "Lifetime Post Consumers                                                0.149129\n",
       "Post Hour                                                              0.143807\n",
       "Lifetime Post Consumptions                                             0.128240\n",
       "type_Photo                                                             0.123977\n",
       "Lifetime Engaged Users                                                 0.111922\n",
       "Lifetime Post Total Impressions                                        0.102540\n",
       "Lifetime Post Impressions by people who have liked your Page           0.096109\n",
       "Category                                                               0.091142\n",
       "type_Link                                                              0.090147\n",
       "type_Video                                                             0.086644\n",
       "Lifetime Post Total Reach                                              0.083245\n",
       "Lifetime Post reach by people who like your Page                       0.060516\n",
       "like                                                                   0.053239\n",
       "Total Interactions                                                     0.045231\n",
       "Lifetime People who have liked your Page and engaged with your post    0.033699\n",
       "comment                                                                0.031891\n",
       "Post Weekday                                                           0.005401\n",
       "Paid                                                                   0.005306\n",
       "share                                                                  0.004846\n",
       "Name: Page total likes, dtype: float64"
      ]
     },
     "execution_count": 8,
     "metadata": {},
     "output_type": "execute_result"
    }
   ],
   "source": [
    "# For our investigation we choose to make our target feature (Page total likes)\n",
    "# We now investigate correlations with that feature\n",
    "merged_df.corr()['Page total likes'].abs().sort_values(ascending=False)"
   ]
  },
  {
   "cell_type": "code",
   "execution_count": 9,
   "metadata": {},
   "outputs": [
    {
     "data": {
      "text/html": [
       "<div>\n",
       "<style scoped>\n",
       "    .dataframe tbody tr th:only-of-type {\n",
       "        vertical-align: middle;\n",
       "    }\n",
       "\n",
       "    .dataframe tbody tr th {\n",
       "        vertical-align: top;\n",
       "    }\n",
       "\n",
       "    .dataframe thead th {\n",
       "        text-align: right;\n",
       "    }\n",
       "</style>\n",
       "<table border=\"1\" class=\"dataframe\">\n",
       "  <thead>\n",
       "    <tr style=\"text-align: right;\">\n",
       "      <th></th>\n",
       "      <th>Page total likes</th>\n",
       "      <th>Category</th>\n",
       "      <th>Post Month</th>\n",
       "      <th>Post Weekday</th>\n",
       "      <th>Post Hour</th>\n",
       "      <th>Paid</th>\n",
       "      <th>Lifetime Post Total Reach</th>\n",
       "      <th>Lifetime Post Total Impressions</th>\n",
       "      <th>Lifetime Engaged Users</th>\n",
       "      <th>Lifetime Post Consumers</th>\n",
       "      <th>Lifetime Post Consumptions</th>\n",
       "      <th>Lifetime Post Impressions by people who have liked your Page</th>\n",
       "      <th>Lifetime Post reach by people who like your Page</th>\n",
       "      <th>Lifetime People who have liked your Page and engaged with your post</th>\n",
       "      <th>comment</th>\n",
       "      <th>like</th>\n",
       "      <th>share</th>\n",
       "      <th>Total Interactions</th>\n",
       "      <th>type_Link</th>\n",
       "      <th>type_Photo</th>\n",
       "      <th>type_Status</th>\n",
       "      <th>type_Video</th>\n",
       "    </tr>\n",
       "  </thead>\n",
       "  <tbody>\n",
       "    <tr>\n",
       "      <th>Tot_Null</th>\n",
       "      <td>0</td>\n",
       "      <td>0</td>\n",
       "      <td>250</td>\n",
       "      <td>0</td>\n",
       "      <td>0</td>\n",
       "      <td>0</td>\n",
       "      <td>0</td>\n",
       "      <td>0</td>\n",
       "      <td>0</td>\n",
       "      <td>0</td>\n",
       "      <td>0</td>\n",
       "      <td>0</td>\n",
       "      <td>0</td>\n",
       "      <td>0</td>\n",
       "      <td>0</td>\n",
       "      <td>0</td>\n",
       "      <td>0</td>\n",
       "      <td>0</td>\n",
       "      <td>0</td>\n",
       "      <td>0</td>\n",
       "      <td>0</td>\n",
       "      <td>0</td>\n",
       "    </tr>\n",
       "    <tr>\n",
       "      <th>Tot_Not_Null</th>\n",
       "      <td>500</td>\n",
       "      <td>500</td>\n",
       "      <td>250</td>\n",
       "      <td>500</td>\n",
       "      <td>500</td>\n",
       "      <td>500</td>\n",
       "      <td>500</td>\n",
       "      <td>500</td>\n",
       "      <td>500</td>\n",
       "      <td>500</td>\n",
       "      <td>500</td>\n",
       "      <td>500</td>\n",
       "      <td>500</td>\n",
       "      <td>500</td>\n",
       "      <td>500</td>\n",
       "      <td>500</td>\n",
       "      <td>500</td>\n",
       "      <td>500</td>\n",
       "      <td>500</td>\n",
       "      <td>500</td>\n",
       "      <td>500</td>\n",
       "      <td>500</td>\n",
       "    </tr>\n",
       "    <tr>\n",
       "      <th>Perc_Null</th>\n",
       "      <td>0</td>\n",
       "      <td>0</td>\n",
       "      <td>0.5</td>\n",
       "      <td>0</td>\n",
       "      <td>0</td>\n",
       "      <td>0</td>\n",
       "      <td>0</td>\n",
       "      <td>0</td>\n",
       "      <td>0</td>\n",
       "      <td>0</td>\n",
       "      <td>0</td>\n",
       "      <td>0</td>\n",
       "      <td>0</td>\n",
       "      <td>0</td>\n",
       "      <td>0</td>\n",
       "      <td>0</td>\n",
       "      <td>0</td>\n",
       "      <td>0</td>\n",
       "      <td>0</td>\n",
       "      <td>0</td>\n",
       "      <td>0</td>\n",
       "      <td>0</td>\n",
       "    </tr>\n",
       "  </tbody>\n",
       "</table>\n",
       "</div>"
      ],
      "text/plain": [
       "             Page total likes Category Post Month Post Weekday Post Hour Paid  \\\n",
       "Tot_Null                    0        0        250            0         0    0   \n",
       "Tot_Not_Null              500      500        250          500       500  500   \n",
       "Perc_Null                   0        0        0.5            0         0    0   \n",
       "\n",
       "             Lifetime Post Total Reach Lifetime Post Total Impressions  \\\n",
       "Tot_Null                             0                               0   \n",
       "Tot_Not_Null                       500                             500   \n",
       "Perc_Null                            0                               0   \n",
       "\n",
       "             Lifetime Engaged Users Lifetime Post Consumers  \\\n",
       "Tot_Null                          0                       0   \n",
       "Tot_Not_Null                    500                     500   \n",
       "Perc_Null                         0                       0   \n",
       "\n",
       "             Lifetime Post Consumptions  \\\n",
       "Tot_Null                              0   \n",
       "Tot_Not_Null                        500   \n",
       "Perc_Null                             0   \n",
       "\n",
       "             Lifetime Post Impressions by people who have liked your Page  \\\n",
       "Tot_Null                                                      0             \n",
       "Tot_Not_Null                                                500             \n",
       "Perc_Null                                                     0             \n",
       "\n",
       "             Lifetime Post reach by people who like your Page  \\\n",
       "Tot_Null                                                    0   \n",
       "Tot_Not_Null                                              500   \n",
       "Perc_Null                                                   0   \n",
       "\n",
       "             Lifetime People who have liked your Page and engaged with your post  \\\n",
       "Tot_Null                                                      0                    \n",
       "Tot_Not_Null                                                500                    \n",
       "Perc_Null                                                     0                    \n",
       "\n",
       "             comment like share Total Interactions type_Link type_Photo  \\\n",
       "Tot_Null           0    0     0                  0         0          0   \n",
       "Tot_Not_Null     500  500   500                500       500        500   \n",
       "Perc_Null          0    0     0                  0         0          0   \n",
       "\n",
       "             type_Status type_Video  \n",
       "Tot_Null               0          0  \n",
       "Tot_Not_Null         500        500  \n",
       "Perc_Null              0          0  "
      ]
     },
     "metadata": {},
     "output_type": "display_data"
    }
   ],
   "source": [
    "# For this test, to see how effective imputation is on a limited number of instances and highly correlated feature\n",
    "# We make the imputation target Post_Month\n",
    "# We will randomly set 50% of nan\n",
    "\n",
    "nanidx = merged_df.sample(frac=0.5).index\n",
    "merged_df['Post Month'][nanidx] = np.NaN\n",
    "\n",
    "nan_investigation(merged_df)"
   ]
  },
  {
   "cell_type": "code",
   "execution_count": 10,
   "metadata": {},
   "outputs": [],
   "source": [
    "# Make a copy of this full model for later\n",
    "df_orig = merged_df"
   ]
  },
  {
   "cell_type": "code",
   "execution_count": 11,
   "metadata": {},
   "outputs": [],
   "source": [
    "# We now drop all features with a correlation of less than 10% with our target\n",
    "keep_list=['Page total likes','Post Month','type_Status','Lifetime Post Consumers','Post Hour',\n",
    "           'Lifetime Post Consumptions','type_Photo','Lifetime Engaged Users','Lifetime Post Total Impressions']\n",
    "merged_df = merged_df[keep_list]"
   ]
  },
  {
   "cell_type": "code",
   "execution_count": 12,
   "metadata": {},
   "outputs": [
    {
     "data": {
      "text/html": [
       "<div>\n",
       "<style scoped>\n",
       "    .dataframe tbody tr th:only-of-type {\n",
       "        vertical-align: middle;\n",
       "    }\n",
       "\n",
       "    .dataframe tbody tr th {\n",
       "        vertical-align: top;\n",
       "    }\n",
       "\n",
       "    .dataframe thead th {\n",
       "        text-align: right;\n",
       "    }\n",
       "</style>\n",
       "<table border=\"1\" class=\"dataframe\">\n",
       "  <thead>\n",
       "    <tr style=\"text-align: right;\">\n",
       "      <th></th>\n",
       "      <th>Page total likes</th>\n",
       "      <th>Post Month</th>\n",
       "      <th>type_Status</th>\n",
       "      <th>Lifetime Post Consumers</th>\n",
       "      <th>Post Hour</th>\n",
       "      <th>Lifetime Post Consumptions</th>\n",
       "      <th>type_Photo</th>\n",
       "      <th>Lifetime Engaged Users</th>\n",
       "      <th>Lifetime Post Total Impressions</th>\n",
       "    </tr>\n",
       "  </thead>\n",
       "  <tbody>\n",
       "    <tr>\n",
       "      <th>Page total likes</th>\n",
       "      <td>1.000000</td>\n",
       "      <td>0.941192</td>\n",
       "      <td>0.182867</td>\n",
       "      <td>-0.149129</td>\n",
       "      <td>-0.143807</td>\n",
       "      <td>-0.128240</td>\n",
       "      <td>-0.123977</td>\n",
       "      <td>-0.111922</td>\n",
       "      <td>-0.102540</td>\n",
       "    </tr>\n",
       "    <tr>\n",
       "      <th>Post Month</th>\n",
       "      <td>0.941192</td>\n",
       "      <td>1.000000</td>\n",
       "      <td>0.195747</td>\n",
       "      <td>-0.163687</td>\n",
       "      <td>-0.206292</td>\n",
       "      <td>-0.220316</td>\n",
       "      <td>-0.205163</td>\n",
       "      <td>-0.137728</td>\n",
       "      <td>-0.121796</td>\n",
       "    </tr>\n",
       "    <tr>\n",
       "      <th>type_Status</th>\n",
       "      <td>0.182867</td>\n",
       "      <td>0.195747</td>\n",
       "      <td>1.000000</td>\n",
       "      <td>0.410499</td>\n",
       "      <td>-0.042916</td>\n",
       "      <td>0.224030</td>\n",
       "      <td>-0.754553</td>\n",
       "      <td>0.357901</td>\n",
       "      <td>-0.021894</td>\n",
       "    </tr>\n",
       "    <tr>\n",
       "      <th>Lifetime Post Consumers</th>\n",
       "      <td>-0.149129</td>\n",
       "      <td>-0.163687</td>\n",
       "      <td>0.410499</td>\n",
       "      <td>1.000000</td>\n",
       "      <td>0.012222</td>\n",
       "      <td>0.706666</td>\n",
       "      <td>-0.294846</td>\n",
       "      <td>0.968213</td>\n",
       "      <td>0.315201</td>\n",
       "    </tr>\n",
       "    <tr>\n",
       "      <th>Post Hour</th>\n",
       "      <td>-0.143807</td>\n",
       "      <td>-0.206292</td>\n",
       "      <td>-0.042916</td>\n",
       "      <td>0.012222</td>\n",
       "      <td>1.000000</td>\n",
       "      <td>0.078759</td>\n",
       "      <td>0.086673</td>\n",
       "      <td>0.003879</td>\n",
       "      <td>0.012747</td>\n",
       "    </tr>\n",
       "    <tr>\n",
       "      <th>Lifetime Post Consumptions</th>\n",
       "      <td>-0.128240</td>\n",
       "      <td>-0.220316</td>\n",
       "      <td>0.224030</td>\n",
       "      <td>0.706666</td>\n",
       "      <td>0.078759</td>\n",
       "      <td>1.000000</td>\n",
       "      <td>-0.139384</td>\n",
       "      <td>0.676840</td>\n",
       "      <td>0.226081</td>\n",
       "    </tr>\n",
       "    <tr>\n",
       "      <th>type_Photo</th>\n",
       "      <td>-0.123977</td>\n",
       "      <td>-0.205163</td>\n",
       "      <td>-0.754553</td>\n",
       "      <td>-0.294846</td>\n",
       "      <td>0.086673</td>\n",
       "      <td>-0.139384</td>\n",
       "      <td>1.000000</td>\n",
       "      <td>-0.247235</td>\n",
       "      <td>-0.018495</td>\n",
       "    </tr>\n",
       "    <tr>\n",
       "      <th>Lifetime Engaged Users</th>\n",
       "      <td>-0.111922</td>\n",
       "      <td>-0.137728</td>\n",
       "      <td>0.357901</td>\n",
       "      <td>0.968213</td>\n",
       "      <td>0.003879</td>\n",
       "      <td>0.676840</td>\n",
       "      <td>-0.247235</td>\n",
       "      <td>1.000000</td>\n",
       "      <td>0.368553</td>\n",
       "    </tr>\n",
       "    <tr>\n",
       "      <th>Lifetime Post Total Impressions</th>\n",
       "      <td>-0.102540</td>\n",
       "      <td>-0.121796</td>\n",
       "      <td>-0.021894</td>\n",
       "      <td>0.315201</td>\n",
       "      <td>0.012747</td>\n",
       "      <td>0.226081</td>\n",
       "      <td>-0.018495</td>\n",
       "      <td>0.368553</td>\n",
       "      <td>1.000000</td>\n",
       "    </tr>\n",
       "  </tbody>\n",
       "</table>\n",
       "</div>"
      ],
      "text/plain": [
       "                                 Page total likes  Post Month  type_Status  \\\n",
       "Page total likes                         1.000000    0.941192     0.182867   \n",
       "Post Month                               0.941192    1.000000     0.195747   \n",
       "type_Status                              0.182867    0.195747     1.000000   \n",
       "Lifetime Post Consumers                 -0.149129   -0.163687     0.410499   \n",
       "Post Hour                               -0.143807   -0.206292    -0.042916   \n",
       "Lifetime Post Consumptions              -0.128240   -0.220316     0.224030   \n",
       "type_Photo                              -0.123977   -0.205163    -0.754553   \n",
       "Lifetime Engaged Users                  -0.111922   -0.137728     0.357901   \n",
       "Lifetime Post Total Impressions         -0.102540   -0.121796    -0.021894   \n",
       "\n",
       "                                 Lifetime Post Consumers  Post Hour  \\\n",
       "Page total likes                               -0.149129  -0.143807   \n",
       "Post Month                                     -0.163687  -0.206292   \n",
       "type_Status                                     0.410499  -0.042916   \n",
       "Lifetime Post Consumers                         1.000000   0.012222   \n",
       "Post Hour                                       0.012222   1.000000   \n",
       "Lifetime Post Consumptions                      0.706666   0.078759   \n",
       "type_Photo                                     -0.294846   0.086673   \n",
       "Lifetime Engaged Users                          0.968213   0.003879   \n",
       "Lifetime Post Total Impressions                 0.315201   0.012747   \n",
       "\n",
       "                                 Lifetime Post Consumptions  type_Photo  \\\n",
       "Page total likes                                  -0.128240   -0.123977   \n",
       "Post Month                                        -0.220316   -0.205163   \n",
       "type_Status                                        0.224030   -0.754553   \n",
       "Lifetime Post Consumers                            0.706666   -0.294846   \n",
       "Post Hour                                          0.078759    0.086673   \n",
       "Lifetime Post Consumptions                         1.000000   -0.139384   \n",
       "type_Photo                                        -0.139384    1.000000   \n",
       "Lifetime Engaged Users                             0.676840   -0.247235   \n",
       "Lifetime Post Total Impressions                    0.226081   -0.018495   \n",
       "\n",
       "                                 Lifetime Engaged Users  \\\n",
       "Page total likes                              -0.111922   \n",
       "Post Month                                    -0.137728   \n",
       "type_Status                                    0.357901   \n",
       "Lifetime Post Consumers                        0.968213   \n",
       "Post Hour                                      0.003879   \n",
       "Lifetime Post Consumptions                     0.676840   \n",
       "type_Photo                                    -0.247235   \n",
       "Lifetime Engaged Users                         1.000000   \n",
       "Lifetime Post Total Impressions                0.368553   \n",
       "\n",
       "                                 Lifetime Post Total Impressions  \n",
       "Page total likes                                       -0.102540  \n",
       "Post Month                                             -0.121796  \n",
       "type_Status                                            -0.021894  \n",
       "Lifetime Post Consumers                                 0.315201  \n",
       "Post Hour                                               0.012747  \n",
       "Lifetime Post Consumptions                              0.226081  \n",
       "type_Photo                                             -0.018495  \n",
       "Lifetime Engaged Users                                  0.368553  \n",
       "Lifetime Post Total Impressions                         1.000000  "
      ]
     },
     "execution_count": 12,
     "metadata": {},
     "output_type": "execute_result"
    }
   ],
   "source": [
    "# We now investigate how correlated each feature is with each other and remove redundant features\n",
    "merged_df.corr()"
   ]
  },
  {
   "cell_type": "markdown",
   "metadata": {},
   "source": [
    "We note that Lifetime Engaged Users and Lifetime Post Consumers are highly correlated. We will drop lifetime engaged users as it has a lower correlation with our target.<br>\n",
    "No other features are extremely correlated with each other.<br>"
   ]
  },
  {
   "cell_type": "code",
   "execution_count": 13,
   "metadata": {},
   "outputs": [],
   "source": [
    "df_new = merged_df.drop(columns=['Lifetime Engaged Users'])"
   ]
  },
  {
   "cell_type": "code",
   "execution_count": 14,
   "metadata": {},
   "outputs": [],
   "source": [
    "# Definition to calculate correlation coefficient, which will be used below for inclusion in the seaborn plots\n",
    "def corrfunc(x, y, **kws):\n",
    "    r,_ = stats.pearsonr(x, y)\n",
    "    ax = plt.gca()\n",
    "    ax.annotate(\"r = {:.2f}\".format(r), xy=(.1, .6), xycoords=ax.transAxes, size = 24)\n",
    "# This is a definition to create the pairwise seaborn plots\n",
    "def create_pairwise_plots(df):\n",
    "    cmap = sns.cubehelix_palette(light=1, dark = 0.1, hue = 0.5, as_cmap=True)\n",
    "    sns.set_context(font_scale=2)\n",
    "    g = sns.PairGrid(df) # Set up pair grid\n",
    "    g.map_upper(plt.scatter, s=10, color = 'red') # Set up scatter plot on the upper triangle\n",
    "#     g.map_diag(sns.distplot, kde=False, color = 'red') # Set up distribution on the diagonal\n",
    "#     g.map_lower(sns.kdeplot, cmap = cmap) # Include density Plot on the lower triangle\n",
    "#     g.map_lower(corrfunc); # Add correlation coefficients to density plots on the lower triangle"
   ]
  },
  {
   "cell_type": "code",
   "execution_count": 15,
   "metadata": {},
   "outputs": [
    {
     "data": {
      "image/png": "[encoded data removed]",
      "text/plain": [
       "<Figure size 1440x1440 with 64 Axes>"
      ]
     },
     "metadata": {
      "needs_background": "light"
     },
     "output_type": "display_data"
    }
   ],
   "source": [
    "# Now create pairwise plots to see if any other features should be removed\n",
    "create_pairwise_plots(df_new)"
   ]
  },
  {
   "cell_type": "markdown",
   "metadata": {},
   "source": [
    "Aside from correlations with the target, which are fine, we see no reason to remove any additional features based on redundancy."
   ]
  },
  {
   "cell_type": "code",
   "execution_count": 16,
   "metadata": {},
   "outputs": [
    {
     "data": {
      "text/plain": [
       "Page total likes                   1.000000\n",
       "Post Month                         0.941192\n",
       "type_Status                        0.182867\n",
       "Lifetime Post Consumers            0.149129\n",
       "Post Hour                          0.143807\n",
       "Lifetime Post Consumptions         0.128240\n",
       "type_Photo                         0.123977\n",
       "Lifetime Post Total Impressions    0.102540\n",
       "Name: Page total likes, dtype: float64"
      ]
     },
     "execution_count": 16,
     "metadata": {},
     "output_type": "execute_result"
    }
   ],
   "source": [
    "df_new.corr()['Page total likes'].abs().sort_values(ascending=False)"
   ]
  },
  {
   "cell_type": "code",
   "execution_count": 17,
   "metadata": {},
   "outputs": [],
   "source": [
    "# To avoid problems due to lack of training instances we will restrict ourselves to using only the top 5 features\n",
    "model_list = ['Page total likes','Post Month','type_Status','Lifetime Post Consumers','Post Hour','Lifetime Post Consumptions']\n",
    "df_model = df_new[model_list]"
   ]
  },
  {
   "cell_type": "markdown",
   "metadata": {},
   "source": [
    "## Select Model For Imputing Missing Data in Post Month"
   ]
  },
  {
   "cell_type": "code",
   "execution_count": 18,
   "metadata": {},
   "outputs": [],
   "source": [
    "# Now start again with the full dataframe\n",
    "# To avoid bias we will drop the main target from this feature list\n",
    "imputational_model = df_orig.drop(columns=['Page total likes'])"
   ]
  },
  {
   "cell_type": "code",
   "execution_count": 19,
   "metadata": {},
   "outputs": [
    {
     "name": "stdout",
     "output_type": "stream",
     "text": [
      "Post Month                                                             1.000000\n",
      "Lifetime Post Consumptions                                             0.220316\n",
      "Post Hour                                                              0.206292\n",
      "type_Photo                                                             0.205163\n",
      "type_Status                                                            0.195747\n",
      "Lifetime Post Consumers                                                0.163687\n",
      "Category                                                               0.156799\n",
      "Lifetime Engaged Users                                                 0.137728\n",
      "Lifetime Post Impressions by people who have liked your Page           0.127911\n",
      "Lifetime Post Total Impressions                                        0.121796\n",
      "Lifetime Post reach by people who like your Page                       0.119675\n",
      "Lifetime Post Total Reach                                              0.118107\n",
      "type_Video                                                             0.057530\n",
      "type_Link                                                              0.051188\n",
      "Post Weekday                                                           0.029559\n",
      "share                                                                  0.028381\n",
      "Lifetime People who have liked your Page and engaged with your post    0.024565\n",
      "Paid                                                                   0.012813\n",
      "comment                                                                0.006227\n",
      "like                                                                   0.003317\n",
      "Total Interactions                                                     0.002312\n",
      "Name: Post Month, dtype: float64\n"
     ]
    }
   ],
   "source": [
    "top_correlated=imputational_model.corr()['Post Month'].abs().sort_values(ascending=False)\n",
    "print(top_correlated)"
   ]
  },
  {
   "cell_type": "code",
   "execution_count": 20,
   "metadata": {},
   "outputs": [],
   "source": [
    "# We will only keep those which have more than 5% correlation with the imputation target (Post Month)\n",
    "drop_list = ['Lifetime Post reach by people who like your Page','type_Link','Paid','comment',\n",
    "             'Lifetime People who have liked your Page and engaged with your post',\n",
    "             'share','Post Weekday']\n",
    "imputational_model = imputational_model.drop(columns=drop_list)"
   ]
  },
  {
   "cell_type": "code",
   "execution_count": 21,
   "metadata": {},
   "outputs": [
    {
     "data": {
      "text/html": [
       "<div>\n",
       "<style scoped>\n",
       "    .dataframe tbody tr th:only-of-type {\n",
       "        vertical-align: middle;\n",
       "    }\n",
       "\n",
       "    .dataframe tbody tr th {\n",
       "        vertical-align: top;\n",
       "    }\n",
       "\n",
       "    .dataframe thead th {\n",
       "        text-align: right;\n",
       "    }\n",
       "</style>\n",
       "<table border=\"1\" class=\"dataframe\">\n",
       "  <thead>\n",
       "    <tr style=\"text-align: right;\">\n",
       "      <th></th>\n",
       "      <th>Category</th>\n",
       "      <th>Post Month</th>\n",
       "      <th>Post Hour</th>\n",
       "      <th>Lifetime Post Total Reach</th>\n",
       "      <th>Lifetime Post Total Impressions</th>\n",
       "      <th>Lifetime Engaged Users</th>\n",
       "      <th>Lifetime Post Consumers</th>\n",
       "      <th>Lifetime Post Consumptions</th>\n",
       "      <th>Lifetime Post Impressions by people who have liked your Page</th>\n",
       "      <th>like</th>\n",
       "      <th>Total Interactions</th>\n",
       "      <th>type_Photo</th>\n",
       "      <th>type_Status</th>\n",
       "      <th>type_Video</th>\n",
       "    </tr>\n",
       "  </thead>\n",
       "  <tbody>\n",
       "    <tr>\n",
       "      <th>Category</th>\n",
       "      <td>1.000000</td>\n",
       "      <td>-0.156799</td>\n",
       "      <td>-0.107383</td>\n",
       "      <td>-0.142073</td>\n",
       "      <td>-0.094368</td>\n",
       "      <td>0.003392</td>\n",
       "      <td>-0.031172</td>\n",
       "      <td>-0.149443</td>\n",
       "      <td>-0.047803</td>\n",
       "      <td>0.126651</td>\n",
       "      <td>0.127307</td>\n",
       "      <td>0.106585</td>\n",
       "      <td>0.052507</td>\n",
       "      <td>-0.123100</td>\n",
       "    </tr>\n",
       "    <tr>\n",
       "      <th>Post Month</th>\n",
       "      <td>-0.156799</td>\n",
       "      <td>1.000000</td>\n",
       "      <td>-0.206292</td>\n",
       "      <td>-0.118107</td>\n",
       "      <td>-0.121796</td>\n",
       "      <td>-0.137728</td>\n",
       "      <td>-0.163687</td>\n",
       "      <td>-0.220316</td>\n",
       "      <td>-0.127911</td>\n",
       "      <td>0.003317</td>\n",
       "      <td>-0.002312</td>\n",
       "      <td>-0.205163</td>\n",
       "      <td>0.195747</td>\n",
       "      <td>0.057530</td>\n",
       "    </tr>\n",
       "    <tr>\n",
       "      <th>Post Hour</th>\n",
       "      <td>-0.107383</td>\n",
       "      <td>-0.206292</td>\n",
       "      <td>1.000000</td>\n",
       "      <td>0.003338</td>\n",
       "      <td>0.012747</td>\n",
       "      <td>0.003879</td>\n",
       "      <td>0.012222</td>\n",
       "      <td>0.078759</td>\n",
       "      <td>0.038892</td>\n",
       "      <td>-0.024523</td>\n",
       "      <td>-0.027421</td>\n",
       "      <td>0.086673</td>\n",
       "      <td>-0.042916</td>\n",
       "      <td>0.023871</td>\n",
       "    </tr>\n",
       "    <tr>\n",
       "      <th>Lifetime Post Total Reach</th>\n",
       "      <td>-0.142073</td>\n",
       "      <td>-0.118107</td>\n",
       "      <td>0.003338</td>\n",
       "      <td>1.000000</td>\n",
       "      <td>0.694926</td>\n",
       "      <td>0.570629</td>\n",
       "      <td>0.477908</td>\n",
       "      <td>0.324362</td>\n",
       "      <td>0.322254</td>\n",
       "      <td>0.545015</td>\n",
       "      <td>0.538597</td>\n",
       "      <td>-0.080852</td>\n",
       "      <td>-0.011413</td>\n",
       "      <td>0.195655</td>\n",
       "    </tr>\n",
       "    <tr>\n",
       "      <th>Lifetime Post Total Impressions</th>\n",
       "      <td>-0.094368</td>\n",
       "      <td>-0.121796</td>\n",
       "      <td>0.012747</td>\n",
       "      <td>0.694926</td>\n",
       "      <td>1.000000</td>\n",
       "      <td>0.368553</td>\n",
       "      <td>0.315201</td>\n",
       "      <td>0.226081</td>\n",
       "      <td>0.850787</td>\n",
       "      <td>0.345047</td>\n",
       "      <td>0.343358</td>\n",
       "      <td>-0.018495</td>\n",
       "      <td>-0.021894</td>\n",
       "      <td>0.113428</td>\n",
       "    </tr>\n",
       "    <tr>\n",
       "      <th>Lifetime Engaged Users</th>\n",
       "      <td>0.003392</td>\n",
       "      <td>-0.137728</td>\n",
       "      <td>0.003879</td>\n",
       "      <td>0.570629</td>\n",
       "      <td>0.368553</td>\n",
       "      <td>1.000000</td>\n",
       "      <td>0.968213</td>\n",
       "      <td>0.676840</td>\n",
       "      <td>0.260346</td>\n",
       "      <td>0.569105</td>\n",
       "      <td>0.572159</td>\n",
       "      <td>-0.247235</td>\n",
       "      <td>0.357901</td>\n",
       "      <td>0.095258</td>\n",
       "    </tr>\n",
       "    <tr>\n",
       "      <th>Lifetime Post Consumers</th>\n",
       "      <td>-0.031172</td>\n",
       "      <td>-0.163687</td>\n",
       "      <td>0.012222</td>\n",
       "      <td>0.477908</td>\n",
       "      <td>0.315201</td>\n",
       "      <td>0.968213</td>\n",
       "      <td>1.000000</td>\n",
       "      <td>0.706666</td>\n",
       "      <td>0.222941</td>\n",
       "      <td>0.348891</td>\n",
       "      <td>0.354502</td>\n",
       "      <td>-0.294846</td>\n",
       "      <td>0.410499</td>\n",
       "      <td>0.106227</td>\n",
       "    </tr>\n",
       "    <tr>\n",
       "      <th>Lifetime Post Consumptions</th>\n",
       "      <td>-0.149443</td>\n",
       "      <td>-0.220316</td>\n",
       "      <td>0.078759</td>\n",
       "      <td>0.324362</td>\n",
       "      <td>0.226081</td>\n",
       "      <td>0.676840</td>\n",
       "      <td>0.706666</td>\n",
       "      <td>1.000000</td>\n",
       "      <td>0.164813</td>\n",
       "      <td>0.235523</td>\n",
       "      <td>0.238082</td>\n",
       "      <td>-0.139384</td>\n",
       "      <td>0.224030</td>\n",
       "      <td>0.070652</td>\n",
       "    </tr>\n",
       "    <tr>\n",
       "      <th>Lifetime Post Impressions by people who have liked your Page</th>\n",
       "      <td>-0.047803</td>\n",
       "      <td>-0.127911</td>\n",
       "      <td>0.038892</td>\n",
       "      <td>0.322254</td>\n",
       "      <td>0.850787</td>\n",
       "      <td>0.260346</td>\n",
       "      <td>0.222941</td>\n",
       "      <td>0.164813</td>\n",
       "      <td>1.000000</td>\n",
       "      <td>0.253114</td>\n",
       "      <td>0.250083</td>\n",
       "      <td>-0.013814</td>\n",
       "      <td>0.009992</td>\n",
       "      <td>0.052633</td>\n",
       "    </tr>\n",
       "    <tr>\n",
       "      <th>like</th>\n",
       "      <td>0.126651</td>\n",
       "      <td>0.003317</td>\n",
       "      <td>-0.024523</td>\n",
       "      <td>0.545015</td>\n",
       "      <td>0.345047</td>\n",
       "      <td>0.569105</td>\n",
       "      <td>0.348891</td>\n",
       "      <td>0.235523</td>\n",
       "      <td>0.253114</td>\n",
       "      <td>1.000000</td>\n",
       "      <td>0.997393</td>\n",
       "      <td>0.034605</td>\n",
       "      <td>-0.001203</td>\n",
       "      <td>0.019746</td>\n",
       "    </tr>\n",
       "    <tr>\n",
       "      <th>Total Interactions</th>\n",
       "      <td>0.127307</td>\n",
       "      <td>-0.002312</td>\n",
       "      <td>-0.027421</td>\n",
       "      <td>0.538597</td>\n",
       "      <td>0.343358</td>\n",
       "      <td>0.572159</td>\n",
       "      <td>0.354502</td>\n",
       "      <td>0.238082</td>\n",
       "      <td>0.250083</td>\n",
       "      <td>0.997393</td>\n",
       "      <td>1.000000</td>\n",
       "      <td>0.028170</td>\n",
       "      <td>0.004077</td>\n",
       "      <td>0.026268</td>\n",
       "    </tr>\n",
       "    <tr>\n",
       "      <th>type_Photo</th>\n",
       "      <td>0.106585</td>\n",
       "      <td>-0.205163</td>\n",
       "      <td>0.086673</td>\n",
       "      <td>-0.080852</td>\n",
       "      <td>-0.018495</td>\n",
       "      <td>-0.247235</td>\n",
       "      <td>-0.294846</td>\n",
       "      <td>-0.139384</td>\n",
       "      <td>-0.013814</td>\n",
       "      <td>0.034605</td>\n",
       "      <td>0.028170</td>\n",
       "      <td>1.000000</td>\n",
       "      <td>-0.754553</td>\n",
       "      <td>-0.285900</td>\n",
       "    </tr>\n",
       "    <tr>\n",
       "      <th>type_Status</th>\n",
       "      <td>0.052507</td>\n",
       "      <td>0.195747</td>\n",
       "      <td>-0.042916</td>\n",
       "      <td>-0.011413</td>\n",
       "      <td>-0.021894</td>\n",
       "      <td>0.357901</td>\n",
       "      <td>0.410499</td>\n",
       "      <td>0.224030</td>\n",
       "      <td>0.009992</td>\n",
       "      <td>-0.001203</td>\n",
       "      <td>0.004077</td>\n",
       "      <td>-0.754553</td>\n",
       "      <td>1.000000</td>\n",
       "      <td>-0.037474</td>\n",
       "    </tr>\n",
       "    <tr>\n",
       "      <th>type_Video</th>\n",
       "      <td>-0.123100</td>\n",
       "      <td>0.057530</td>\n",
       "      <td>0.023871</td>\n",
       "      <td>0.195655</td>\n",
       "      <td>0.113428</td>\n",
       "      <td>0.095258</td>\n",
       "      <td>0.106227</td>\n",
       "      <td>0.070652</td>\n",
       "      <td>0.052633</td>\n",
       "      <td>0.019746</td>\n",
       "      <td>0.026268</td>\n",
       "      <td>-0.285900</td>\n",
       "      <td>-0.037474</td>\n",
       "      <td>1.000000</td>\n",
       "    </tr>\n",
       "  </tbody>\n",
       "</table>\n",
       "</div>"
      ],
      "text/plain": [
       "                                                    Category  Post Month  \\\n",
       "Category                                            1.000000   -0.156799   \n",
       "Post Month                                         -0.156799    1.000000   \n",
       "Post Hour                                          -0.107383   -0.206292   \n",
       "Lifetime Post Total Reach                          -0.142073   -0.118107   \n",
       "Lifetime Post Total Impressions                    -0.094368   -0.121796   \n",
       "Lifetime Engaged Users                              0.003392   -0.137728   \n",
       "Lifetime Post Consumers                            -0.031172   -0.163687   \n",
       "Lifetime Post Consumptions                         -0.149443   -0.220316   \n",
       "Lifetime Post Impressions by people who have li... -0.047803   -0.127911   \n",
       "like                                                0.126651    0.003317   \n",
       "Total Interactions                                  0.127307   -0.002312   \n",
       "type_Photo                                          0.106585   -0.205163   \n",
       "type_Status                                         0.052507    0.195747   \n",
       "type_Video                                         -0.123100    0.057530   \n",
       "\n",
       "                                                    Post Hour  \\\n",
       "Category                                            -0.107383   \n",
       "Post Month                                          -0.206292   \n",
       "Post Hour                                            1.000000   \n",
       "Lifetime Post Total Reach                            0.003338   \n",
       "Lifetime Post Total Impressions                      0.012747   \n",
       "Lifetime Engaged Users                               0.003879   \n",
       "Lifetime Post Consumers                              0.012222   \n",
       "Lifetime Post Consumptions                           0.078759   \n",
       "Lifetime Post Impressions by people who have li...   0.038892   \n",
       "like                                                -0.024523   \n",
       "Total Interactions                                  -0.027421   \n",
       "type_Photo                                           0.086673   \n",
       "type_Status                                         -0.042916   \n",
       "type_Video                                           0.023871   \n",
       "\n",
       "                                                    Lifetime Post Total Reach  \\\n",
       "Category                                                            -0.142073   \n",
       "Post Month                                                          -0.118107   \n",
       "Post Hour                                                            0.003338   \n",
       "Lifetime Post Total Reach                                            1.000000   \n",
       "Lifetime Post Total Impressions                                      0.694926   \n",
       "Lifetime Engaged Users                                               0.570629   \n",
       "Lifetime Post Consumers                                              0.477908   \n",
       "Lifetime Post Consumptions                                           0.324362   \n",
       "Lifetime Post Impressions by people who have li...                   0.322254   \n",
       "like                                                                 0.545015   \n",
       "Total Interactions                                                   0.538597   \n",
       "type_Photo                                                          -0.080852   \n",
       "type_Status                                                         -0.011413   \n",
       "type_Video                                                           0.195655   \n",
       "\n",
       "                                                    Lifetime Post Total Impressions  \\\n",
       "Category                                                                  -0.094368   \n",
       "Post Month                                                                -0.121796   \n",
       "Post Hour                                                                  0.012747   \n",
       "Lifetime Post Total Reach                                                  0.694926   \n",
       "Lifetime Post Total Impressions                                            1.000000   \n",
       "Lifetime Engaged Users                                                     0.368553   \n",
       "Lifetime Post Consumers                                                    0.315201   \n",
       "Lifetime Post Consumptions                                                 0.226081   \n",
       "Lifetime Post Impressions by people who have li...                         0.850787   \n",
       "like                                                                       0.345047   \n",
       "Total Interactions                                                         0.343358   \n",
       "type_Photo                                                                -0.018495   \n",
       "type_Status                                                               -0.021894   \n",
       "type_Video                                                                 0.113428   \n",
       "\n",
       "                                                    Lifetime Engaged Users  \\\n",
       "Category                                                          0.003392   \n",
       "Post Month                                                       -0.137728   \n",
       "Post Hour                                                         0.003879   \n",
       "Lifetime Post Total Reach                                         0.570629   \n",
       "Lifetime Post Total Impressions                                   0.368553   \n",
       "Lifetime Engaged Users                                            1.000000   \n",
       "Lifetime Post Consumers                                           0.968213   \n",
       "Lifetime Post Consumptions                                        0.676840   \n",
       "Lifetime Post Impressions by people who have li...                0.260346   \n",
       "like                                                              0.569105   \n",
       "Total Interactions                                                0.572159   \n",
       "type_Photo                                                       -0.247235   \n",
       "type_Status                                                       0.357901   \n",
       "type_Video                                                        0.095258   \n",
       "\n",
       "                                                    Lifetime Post Consumers  \\\n",
       "Category                                                          -0.031172   \n",
       "Post Month                                                        -0.163687   \n",
       "Post Hour                                                          0.012222   \n",
       "Lifetime Post Total Reach                                          0.477908   \n",
       "Lifetime Post Total Impressions                                    0.315201   \n",
       "Lifetime Engaged Users                                             0.968213   \n",
       "Lifetime Post Consumers                                            1.000000   \n",
       "Lifetime Post Consumptions                                         0.706666   \n",
       "Lifetime Post Impressions by people who have li...                 0.222941   \n",
       "like                                                               0.348891   \n",
       "Total Interactions                                                 0.354502   \n",
       "type_Photo                                                        -0.294846   \n",
       "type_Status                                                        0.410499   \n",
       "type_Video                                                         0.106227   \n",
       "\n",
       "                                                    Lifetime Post Consumptions  \\\n",
       "Category                                                             -0.149443   \n",
       "Post Month                                                           -0.220316   \n",
       "Post Hour                                                             0.078759   \n",
       "Lifetime Post Total Reach                                             0.324362   \n",
       "Lifetime Post Total Impressions                                       0.226081   \n",
       "Lifetime Engaged Users                                                0.676840   \n",
       "Lifetime Post Consumers                                               0.706666   \n",
       "Lifetime Post Consumptions                                            1.000000   \n",
       "Lifetime Post Impressions by people who have li...                    0.164813   \n",
       "like                                                                  0.235523   \n",
       "Total Interactions                                                    0.238082   \n",
       "type_Photo                                                           -0.139384   \n",
       "type_Status                                                           0.224030   \n",
       "type_Video                                                            0.070652   \n",
       "\n",
       "                                                    Lifetime Post Impressions by people who have liked your Page  \\\n",
       "Category                                                                                    -0.047803              \n",
       "Post Month                                                                                  -0.127911              \n",
       "Post Hour                                                                                    0.038892              \n",
       "Lifetime Post Total Reach                                                                    0.322254              \n",
       "Lifetime Post Total Impressions                                                              0.850787              \n",
       "Lifetime Engaged Users                                                                       0.260346              \n",
       "Lifetime Post Consumers                                                                      0.222941              \n",
       "Lifetime Post Consumptions                                                                   0.164813              \n",
       "Lifetime Post Impressions by people who have li...                                           1.000000              \n",
       "like                                                                                         0.253114              \n",
       "Total Interactions                                                                           0.250083              \n",
       "type_Photo                                                                                  -0.013814              \n",
       "type_Status                                                                                  0.009992              \n",
       "type_Video                                                                                   0.052633              \n",
       "\n",
       "                                                        like  \\\n",
       "Category                                            0.126651   \n",
       "Post Month                                          0.003317   \n",
       "Post Hour                                          -0.024523   \n",
       "Lifetime Post Total Reach                           0.545015   \n",
       "Lifetime Post Total Impressions                     0.345047   \n",
       "Lifetime Engaged Users                              0.569105   \n",
       "Lifetime Post Consumers                             0.348891   \n",
       "Lifetime Post Consumptions                          0.235523   \n",
       "Lifetime Post Impressions by people who have li...  0.253114   \n",
       "like                                                1.000000   \n",
       "Total Interactions                                  0.997393   \n",
       "type_Photo                                          0.034605   \n",
       "type_Status                                        -0.001203   \n",
       "type_Video                                          0.019746   \n",
       "\n",
       "                                                    Total Interactions  \\\n",
       "Category                                                      0.127307   \n",
       "Post Month                                                   -0.002312   \n",
       "Post Hour                                                    -0.027421   \n",
       "Lifetime Post Total Reach                                     0.538597   \n",
       "Lifetime Post Total Impressions                               0.343358   \n",
       "Lifetime Engaged Users                                        0.572159   \n",
       "Lifetime Post Consumers                                       0.354502   \n",
       "Lifetime Post Consumptions                                    0.238082   \n",
       "Lifetime Post Impressions by people who have li...            0.250083   \n",
       "like                                                          0.997393   \n",
       "Total Interactions                                            1.000000   \n",
       "type_Photo                                                    0.028170   \n",
       "type_Status                                                   0.004077   \n",
       "type_Video                                                    0.026268   \n",
       "\n",
       "                                                    type_Photo  type_Status  \\\n",
       "Category                                              0.106585     0.052507   \n",
       "Post Month                                           -0.205163     0.195747   \n",
       "Post Hour                                             0.086673    -0.042916   \n",
       "Lifetime Post Total Reach                            -0.080852    -0.011413   \n",
       "Lifetime Post Total Impressions                      -0.018495    -0.021894   \n",
       "Lifetime Engaged Users                               -0.247235     0.357901   \n",
       "Lifetime Post Consumers                              -0.294846     0.410499   \n",
       "Lifetime Post Consumptions                           -0.139384     0.224030   \n",
       "Lifetime Post Impressions by people who have li...   -0.013814     0.009992   \n",
       "like                                                  0.034605    -0.001203   \n",
       "Total Interactions                                    0.028170     0.004077   \n",
       "type_Photo                                            1.000000    -0.754553   \n",
       "type_Status                                          -0.754553     1.000000   \n",
       "type_Video                                           -0.285900    -0.037474   \n",
       "\n",
       "                                                    type_Video  \n",
       "Category                                             -0.123100  \n",
       "Post Month                                            0.057530  \n",
       "Post Hour                                             0.023871  \n",
       "Lifetime Post Total Reach                             0.195655  \n",
       "Lifetime Post Total Impressions                       0.113428  \n",
       "Lifetime Engaged Users                                0.095258  \n",
       "Lifetime Post Consumers                               0.106227  \n",
       "Lifetime Post Consumptions                            0.070652  \n",
       "Lifetime Post Impressions by people who have li...    0.052633  \n",
       "like                                                  0.019746  \n",
       "Total Interactions                                    0.026268  \n",
       "type_Photo                                           -0.285900  \n",
       "type_Status                                          -0.037474  \n",
       "type_Video                                            1.000000  "
      ]
     },
     "execution_count": 21,
     "metadata": {},
     "output_type": "execute_result"
    }
   ],
   "source": [
    "# Now look at correlations between these features and remove redundant features\n",
    "imputational_model.corr()"
   ]
  },
  {
   "cell_type": "markdown",
   "metadata": {},
   "source": [
    "Lifetime Post Impressions by people who have liked your Page and Lifetime Post Total Impressions have correlation of 0.85. We will remove Lifetime Post Impressions by people who have liked your Page as it has a lower correlation with the imputation target.<br>\n",
    "Lifetime Post Consumers and Lifetime Engaged Users have correlation of 0.97. We will remove Lifetime Engaged Users as it has a lower correlation with the imputation target.<br>\n",
    "like and Total Interactions have a correlation of 0.999. We will remove Total Interactions as it has a lower correlation with the imputation target."
   ]
  },
  {
   "cell_type": "code",
   "execution_count": 22,
   "metadata": {},
   "outputs": [
    {
     "data": {
      "text/html": [
       "<div>\n",
       "<style scoped>\n",
       "    .dataframe tbody tr th:only-of-type {\n",
       "        vertical-align: middle;\n",
       "    }\n",
       "\n",
       "    .dataframe tbody tr th {\n",
       "        vertical-align: top;\n",
       "    }\n",
       "\n",
       "    .dataframe thead th {\n",
       "        text-align: right;\n",
       "    }\n",
       "</style>\n",
       "<table border=\"1\" class=\"dataframe\">\n",
       "  <thead>\n",
       "    <tr style=\"text-align: right;\">\n",
       "      <th></th>\n",
       "      <th>Category</th>\n",
       "      <th>Post Month</th>\n",
       "      <th>Post Hour</th>\n",
       "      <th>Lifetime Post Total Reach</th>\n",
       "      <th>Lifetime Post Total Impressions</th>\n",
       "      <th>Lifetime Post Consumers</th>\n",
       "      <th>Lifetime Post Consumptions</th>\n",
       "      <th>like</th>\n",
       "      <th>type_Photo</th>\n",
       "      <th>type_Status</th>\n",
       "      <th>type_Video</th>\n",
       "    </tr>\n",
       "  </thead>\n",
       "  <tbody>\n",
       "    <tr>\n",
       "      <th>Category</th>\n",
       "      <td>1.000000</td>\n",
       "      <td>-0.156799</td>\n",
       "      <td>-0.107383</td>\n",
       "      <td>-0.142073</td>\n",
       "      <td>-0.094368</td>\n",
       "      <td>-0.031172</td>\n",
       "      <td>-0.149443</td>\n",
       "      <td>0.126651</td>\n",
       "      <td>0.106585</td>\n",
       "      <td>0.052507</td>\n",
       "      <td>-0.123100</td>\n",
       "    </tr>\n",
       "    <tr>\n",
       "      <th>Post Month</th>\n",
       "      <td>-0.156799</td>\n",
       "      <td>1.000000</td>\n",
       "      <td>-0.206292</td>\n",
       "      <td>-0.118107</td>\n",
       "      <td>-0.121796</td>\n",
       "      <td>-0.163687</td>\n",
       "      <td>-0.220316</td>\n",
       "      <td>0.003317</td>\n",
       "      <td>-0.205163</td>\n",
       "      <td>0.195747</td>\n",
       "      <td>0.057530</td>\n",
       "    </tr>\n",
       "    <tr>\n",
       "      <th>Post Hour</th>\n",
       "      <td>-0.107383</td>\n",
       "      <td>-0.206292</td>\n",
       "      <td>1.000000</td>\n",
       "      <td>0.003338</td>\n",
       "      <td>0.012747</td>\n",
       "      <td>0.012222</td>\n",
       "      <td>0.078759</td>\n",
       "      <td>-0.024523</td>\n",
       "      <td>0.086673</td>\n",
       "      <td>-0.042916</td>\n",
       "      <td>0.023871</td>\n",
       "    </tr>\n",
       "    <tr>\n",
       "      <th>Lifetime Post Total Reach</th>\n",
       "      <td>-0.142073</td>\n",
       "      <td>-0.118107</td>\n",
       "      <td>0.003338</td>\n",
       "      <td>1.000000</td>\n",
       "      <td>0.694926</td>\n",
       "      <td>0.477908</td>\n",
       "      <td>0.324362</td>\n",
       "      <td>0.545015</td>\n",
       "      <td>-0.080852</td>\n",
       "      <td>-0.011413</td>\n",
       "      <td>0.195655</td>\n",
       "    </tr>\n",
       "    <tr>\n",
       "      <th>Lifetime Post Total Impressions</th>\n",
       "      <td>-0.094368</td>\n",
       "      <td>-0.121796</td>\n",
       "      <td>0.012747</td>\n",
       "      <td>0.694926</td>\n",
       "      <td>1.000000</td>\n",
       "      <td>0.315201</td>\n",
       "      <td>0.226081</td>\n",
       "      <td>0.345047</td>\n",
       "      <td>-0.018495</td>\n",
       "      <td>-0.021894</td>\n",
       "      <td>0.113428</td>\n",
       "    </tr>\n",
       "    <tr>\n",
       "      <th>Lifetime Post Consumers</th>\n",
       "      <td>-0.031172</td>\n",
       "      <td>-0.163687</td>\n",
       "      <td>0.012222</td>\n",
       "      <td>0.477908</td>\n",
       "      <td>0.315201</td>\n",
       "      <td>1.000000</td>\n",
       "      <td>0.706666</td>\n",
       "      <td>0.348891</td>\n",
       "      <td>-0.294846</td>\n",
       "      <td>0.410499</td>\n",
       "      <td>0.106227</td>\n",
       "    </tr>\n",
       "    <tr>\n",
       "      <th>Lifetime Post Consumptions</th>\n",
       "      <td>-0.149443</td>\n",
       "      <td>-0.220316</td>\n",
       "      <td>0.078759</td>\n",
       "      <td>0.324362</td>\n",
       "      <td>0.226081</td>\n",
       "      <td>0.706666</td>\n",
       "      <td>1.000000</td>\n",
       "      <td>0.235523</td>\n",
       "      <td>-0.139384</td>\n",
       "      <td>0.224030</td>\n",
       "      <td>0.070652</td>\n",
       "    </tr>\n",
       "    <tr>\n",
       "      <th>like</th>\n",
       "      <td>0.126651</td>\n",
       "      <td>0.003317</td>\n",
       "      <td>-0.024523</td>\n",
       "      <td>0.545015</td>\n",
       "      <td>0.345047</td>\n",
       "      <td>0.348891</td>\n",
       "      <td>0.235523</td>\n",
       "      <td>1.000000</td>\n",
       "      <td>0.034605</td>\n",
       "      <td>-0.001203</td>\n",
       "      <td>0.019746</td>\n",
       "    </tr>\n",
       "    <tr>\n",
       "      <th>type_Photo</th>\n",
       "      <td>0.106585</td>\n",
       "      <td>-0.205163</td>\n",
       "      <td>0.086673</td>\n",
       "      <td>-0.080852</td>\n",
       "      <td>-0.018495</td>\n",
       "      <td>-0.294846</td>\n",
       "      <td>-0.139384</td>\n",
       "      <td>0.034605</td>\n",
       "      <td>1.000000</td>\n",
       "      <td>-0.754553</td>\n",
       "      <td>-0.285900</td>\n",
       "    </tr>\n",
       "    <tr>\n",
       "      <th>type_Status</th>\n",
       "      <td>0.052507</td>\n",
       "      <td>0.195747</td>\n",
       "      <td>-0.042916</td>\n",
       "      <td>-0.011413</td>\n",
       "      <td>-0.021894</td>\n",
       "      <td>0.410499</td>\n",
       "      <td>0.224030</td>\n",
       "      <td>-0.001203</td>\n",
       "      <td>-0.754553</td>\n",
       "      <td>1.000000</td>\n",
       "      <td>-0.037474</td>\n",
       "    </tr>\n",
       "    <tr>\n",
       "      <th>type_Video</th>\n",
       "      <td>-0.123100</td>\n",
       "      <td>0.057530</td>\n",
       "      <td>0.023871</td>\n",
       "      <td>0.195655</td>\n",
       "      <td>0.113428</td>\n",
       "      <td>0.106227</td>\n",
       "      <td>0.070652</td>\n",
       "      <td>0.019746</td>\n",
       "      <td>-0.285900</td>\n",
       "      <td>-0.037474</td>\n",
       "      <td>1.000000</td>\n",
       "    </tr>\n",
       "  </tbody>\n",
       "</table>\n",
       "</div>"
      ],
      "text/plain": [
       "                                 Category  Post Month  Post Hour  \\\n",
       "Category                         1.000000   -0.156799  -0.107383   \n",
       "Post Month                      -0.156799    1.000000  -0.206292   \n",
       "Post Hour                       -0.107383   -0.206292   1.000000   \n",
       "Lifetime Post Total Reach       -0.142073   -0.118107   0.003338   \n",
       "Lifetime Post Total Impressions -0.094368   -0.121796   0.012747   \n",
       "Lifetime Post Consumers         -0.031172   -0.163687   0.012222   \n",
       "Lifetime Post Consumptions      -0.149443   -0.220316   0.078759   \n",
       "like                             0.126651    0.003317  -0.024523   \n",
       "type_Photo                       0.106585   -0.205163   0.086673   \n",
       "type_Status                      0.052507    0.195747  -0.042916   \n",
       "type_Video                      -0.123100    0.057530   0.023871   \n",
       "\n",
       "                                 Lifetime Post Total Reach  \\\n",
       "Category                                         -0.142073   \n",
       "Post Month                                       -0.118107   \n",
       "Post Hour                                         0.003338   \n",
       "Lifetime Post Total Reach                         1.000000   \n",
       "Lifetime Post Total Impressions                   0.694926   \n",
       "Lifetime Post Consumers                           0.477908   \n",
       "Lifetime Post Consumptions                        0.324362   \n",
       "like                                              0.545015   \n",
       "type_Photo                                       -0.080852   \n",
       "type_Status                                      -0.011413   \n",
       "type_Video                                        0.195655   \n",
       "\n",
       "                                 Lifetime Post Total Impressions  \\\n",
       "Category                                               -0.094368   \n",
       "Post Month                                             -0.121796   \n",
       "Post Hour                                               0.012747   \n",
       "Lifetime Post Total Reach                               0.694926   \n",
       "Lifetime Post Total Impressions                         1.000000   \n",
       "Lifetime Post Consumers                                 0.315201   \n",
       "Lifetime Post Consumptions                              0.226081   \n",
       "like                                                    0.345047   \n",
       "type_Photo                                             -0.018495   \n",
       "type_Status                                            -0.021894   \n",
       "type_Video                                              0.113428   \n",
       "\n",
       "                                 Lifetime Post Consumers  \\\n",
       "Category                                       -0.031172   \n",
       "Post Month                                     -0.163687   \n",
       "Post Hour                                       0.012222   \n",
       "Lifetime Post Total Reach                       0.477908   \n",
       "Lifetime Post Total Impressions                 0.315201   \n",
       "Lifetime Post Consumers                         1.000000   \n",
       "Lifetime Post Consumptions                      0.706666   \n",
       "like                                            0.348891   \n",
       "type_Photo                                     -0.294846   \n",
       "type_Status                                     0.410499   \n",
       "type_Video                                      0.106227   \n",
       "\n",
       "                                 Lifetime Post Consumptions      like  \\\n",
       "Category                                          -0.149443  0.126651   \n",
       "Post Month                                        -0.220316  0.003317   \n",
       "Post Hour                                          0.078759 -0.024523   \n",
       "Lifetime Post Total Reach                          0.324362  0.545015   \n",
       "Lifetime Post Total Impressions                    0.226081  0.345047   \n",
       "Lifetime Post Consumers                            0.706666  0.348891   \n",
       "Lifetime Post Consumptions                         1.000000  0.235523   \n",
       "like                                               0.235523  1.000000   \n",
       "type_Photo                                        -0.139384  0.034605   \n",
       "type_Status                                        0.224030 -0.001203   \n",
       "type_Video                                         0.070652  0.019746   \n",
       "\n",
       "                                 type_Photo  type_Status  type_Video  \n",
       "Category                           0.106585     0.052507   -0.123100  \n",
       "Post Month                        -0.205163     0.195747    0.057530  \n",
       "Post Hour                          0.086673    -0.042916    0.023871  \n",
       "Lifetime Post Total Reach         -0.080852    -0.011413    0.195655  \n",
       "Lifetime Post Total Impressions   -0.018495    -0.021894    0.113428  \n",
       "Lifetime Post Consumers           -0.294846     0.410499    0.106227  \n",
       "Lifetime Post Consumptions        -0.139384     0.224030    0.070652  \n",
       "like                               0.034605    -0.001203    0.019746  \n",
       "type_Photo                         1.000000    -0.754553   -0.285900  \n",
       "type_Status                       -0.754553     1.000000   -0.037474  \n",
       "type_Video                        -0.285900    -0.037474    1.000000  "
      ]
     },
     "execution_count": 22,
     "metadata": {},
     "output_type": "execute_result"
    }
   ],
   "source": [
    "drop_list=['Lifetime Post Impressions by people who have liked your Page','Lifetime Engaged Users',\n",
    "          'Total Interactions']\n",
    "imputational_model = imputational_model.drop(columns=drop_list)\n",
    "imputational_model.corr()"
   ]
  },
  {
   "cell_type": "markdown",
   "metadata": {},
   "source": [
    "We believe that these correlations are acceptable, and will now investigate for any strong covariance."
   ]
  },
  {
   "cell_type": "code",
   "execution_count": 23,
   "metadata": {},
   "outputs": [
    {
     "data": {
      "image/png": "[encoded data removed]",
      "text/plain": [
       "<Figure size 1980x1980 with 121 Axes>"
      ]
     },
     "metadata": {
      "needs_background": "light"
     },
     "output_type": "display_data"
    }
   ],
   "source": [
    "# Now create pairwise plots to see if any other features should be removed\n",
    "create_pairwise_plots(imputational_model)"
   ]
  },
  {
   "cell_type": "markdown",
   "metadata": {},
   "source": [
    "From the above we see a somewhat strong covariance between Lifetime Post Total Reach and Lifetime Post Total Impressions. We will remove Lifetime Post Total Reach as it has a lower correlation with the target.<br>\n",
    "We believe that the other features do not have strong enough covariance with each other to warrant removal."
   ]
  },
  {
   "cell_type": "code",
   "execution_count": 24,
   "metadata": {},
   "outputs": [],
   "source": [
    "drop_list=['Lifetime Post Total Reach']\n",
    "imputational_model = imputational_model.drop(columns=drop_list)"
   ]
  },
  {
   "cell_type": "code",
   "execution_count": 25,
   "metadata": {},
   "outputs": [
    {
     "name": "stdout",
     "output_type": "stream",
     "text": [
      "Post Month                         1.000000\n",
      "Lifetime Post Consumptions         0.220316\n",
      "Post Hour                          0.206292\n",
      "type_Photo                         0.205163\n",
      "type_Status                        0.195747\n",
      "Lifetime Post Consumers            0.163687\n",
      "Category                           0.156799\n",
      "Lifetime Post Total Impressions    0.121796\n",
      "type_Video                         0.057530\n",
      "like                               0.003317\n",
      "Name: Post Month, dtype: float64\n"
     ]
    }
   ],
   "source": [
    "top_correlated=imputational_model.corr()['Post Month'].abs().sort_values(ascending=False)\n",
    "print(top_correlated)"
   ]
  },
  {
   "cell_type": "code",
   "execution_count": 26,
   "metadata": {},
   "outputs": [],
   "source": [
    "# To avoid problems due to lack of training instances we will restrict ourselves to using only the top 5 features\n",
    "impute_list = ['Post Month','type_Status','type_Photo','Lifetime Post Consumptions','Category','Lifetime Post Consumers']\n",
    "imputational_model = imputational_model[impute_list]"
   ]
  },
  {
   "cell_type": "markdown",
   "metadata": {},
   "source": [
    "## Apply PCA to Full Imputation Feature Set"
   ]
  },
  {
   "cell_type": "code",
   "execution_count": 27,
   "metadata": {},
   "outputs": [
    {
     "name": "stdout",
     "output_type": "stream",
     "text": [
      "(500,)\n",
      "(500, 5)\n"
     ]
    }
   ],
   "source": [
    "# Now separate the imputation target from the rest of the features\n",
    "Y = imputational_model['Post Month'].values\n",
    "X = imputational_model.drop(columns='Post Month').values\n",
    "print(Y.shape)\n",
    "print(X.shape)"
   ]
  },
  {
   "cell_type": "code",
   "execution_count": 28,
   "metadata": {},
   "outputs": [],
   "source": [
    "# First Scale the feature matrix\n",
    "X = StandardScaler().fit_transform(X)"
   ]
  },
  {
   "cell_type": "code",
   "execution_count": 29,
   "metadata": {},
   "outputs": [
    {
     "name": "stdout",
     "output_type": "stream",
     "text": [
      "Covariance matrix \n",
      "[[ 1.00200401 -0.75606469  0.22447885  0.05261249  0.41132131]\n",
      " [-0.75606469  1.00200401 -0.1396632   0.10679851 -0.29543713]\n",
      " [ 0.22447885 -0.1396632   1.00200401 -0.1497425   0.708082  ]\n",
      " [ 0.05261249  0.10679851 -0.1497425   1.00200401 -0.03123402]\n",
      " [ 0.41132131 -0.29543713  0.708082   -0.03123402  1.00200401]]\n",
      "Eigenvectors \n",
      "[[ 0.5288033  -0.44767187  0.01525111  0.72080462  0.0128481 ]\n",
      " [-0.48691306  0.49367556  0.23304434  0.65554944  0.187471  ]\n",
      " [ 0.44498179  0.57756675  0.12916939  0.0414833  -0.67082208]\n",
      " [-0.08335627 -0.29057816  0.93377928 -0.13668405 -0.13412604]\n",
      " [ 0.5275658   0.37128874  0.2383889  -0.17404665  0.70476769]]\n",
      "\n",
      "Eigenvalues \n",
      "[2.28913714 1.23916032 1.00082942 0.21801063 0.26288253]\n"
     ]
    }
   ],
   "source": [
    "#apply PCA to complete dataframe to visualize high dimensional features in low dimensions\n",
    "mean_vec = np.mean(X, axis=0)\n",
    "cov_mat = (X - mean_vec).T.dot((X - mean_vec)) / (X.shape[0]-1)\n",
    "print('Covariance matrix \\n%s' %cov_mat)\n",
    "#now find eigenvalues and eigen vectors.Might be time consuming since we have high dimensional matrix.\n",
    "# It is absolutely essential we remove feature redundancies before this\n",
    "eig_vals, eig_vecs = np.linalg.eig(cov_mat)\n",
    "print('Eigenvectors \\n%s' %eig_vecs)\n",
    "print('\\nEigenvalues \\n%s' %eig_vals)"
   ]
  },
  {
   "cell_type": "code",
   "execution_count": 30,
   "metadata": {},
   "outputs": [
    {
     "name": "stdout",
     "output_type": "stream",
     "text": [
      "Eigenvectors \n",
      "[[ 0.5288033  -0.44767187  0.01525111  0.72080462  0.0128481 ]\n",
      " [-0.48691306  0.49367556  0.23304434  0.65554944  0.187471  ]\n",
      " [ 0.44498179  0.57756675  0.12916939  0.0414833  -0.67082208]\n",
      " [-0.08335627 -0.29057816  0.93377928 -0.13668405 -0.13412604]\n",
      " [ 0.5275658   0.37128874  0.2383889  -0.17404665  0.70476769]]\n",
      "\n",
      "Eigenvalues \n",
      "[2.28455887 1.236682   0.99882776 0.21757461 0.26235676]\n"
     ]
    }
   ],
   "source": [
    "#Also check if the correlation matrix gives the same set of eigen vectors\n",
    "cor_mat1 = np.corrcoef(X.T)\n",
    "\n",
    "eig_vals, eig_vecs = np.linalg.eig(cor_mat1)\n",
    "\n",
    "print('Eigenvectors \\n%s' %eig_vecs)\n",
    "print('\\nEigenvalues \\n%s' %eig_vals)\n",
    "\n",
    "#Confirm that both approaches gives you the same result"
   ]
  },
  {
   "cell_type": "code",
   "execution_count": 31,
   "metadata": {},
   "outputs": [
    {
     "name": "stdout",
     "output_type": "stream",
     "text": [
      "Eigenvalues in descending order:\n",
      "2.2845588683139475\n",
      "1.2366819986815396\n",
      "0.9988277626045059\n",
      "0.2623567629357316\n",
      "0.21757460746427384\n"
     ]
    }
   ],
   "source": [
    "# Now isolate the features which are your principal components\n",
    "# The eigenvectors with the lowest eigenvalues bear the least information about the distribution of the data; those are the ones can be dropped.\n",
    "# In order to do so, the common approach is to rank the eigenvalues from highest to lowest in order choose the top 𝑘 eigenvectors.\n",
    "# Make a list of (eigenvalue, eigenvector) tuples\n",
    "eig_pairs = [(np.abs(eig_vals[i]), eig_vecs[:,i]) for i in range(len(eig_vals))]\n",
    "\n",
    "\n",
    "# Sort the (eigenvalue, eigenvector) tuples from high to low\n",
    "eig_pairs.sort()\n",
    "eig_pairs.reverse()\n",
    "\n",
    "# Visually confirm that the list is correctly sorted by decreasing eigenvalues\n",
    "print('Eigenvalues in descending order:')\n",
    "for i in eig_pairs:\n",
    "    print(i[0])"
   ]
  },
  {
   "cell_type": "code",
   "execution_count": 32,
   "metadata": {},
   "outputs": [
    {
     "name": "stdout",
     "output_type": "stream",
     "text": [
      "High five! You successfully sent some data to your account on plotly. View your plot in your browser at https://plot.ly/~bmoore49/0 or inside your plot.ly account where it is named 'exploratory-vis-histogram'\n"
     ]
    },
    {
     "data": {
      "text/html": [
       "<iframe id=\"igraph\" scrolling=\"no\" style=\"border:none;\" seamless=\"seamless\" src=\"https://plot.ly/~bmoore49/0.embed\" height=\"525px\" width=\"100%\"></iframe>"
      ],
      "text/plain": [
       "<plotly.tools.PlotlyDisplay object>"
      ]
     },
     "execution_count": 32,
     "metadata": {},
     "output_type": "execute_result"
    }
   ],
   "source": [
    "#the next question is \"how many principal components are we going to choose for our new feature subspace?\" \n",
    "# A useful measure is the so-called \"explained variance,\" which can be calculated from the eigenvalues. \n",
    "# The explained variance tells us how much information (variance) can be attributed to each of the principal components.\n",
    "tot = sum(eig_vals)\n",
    "var_exp = [(i / tot)*100 for i in sorted(eig_vals, reverse=True)]\n",
    "cum_var_exp = np.cumsum(var_exp)\n",
    "num_eig_pairs = len(eig_pairs)+1\n",
    "\n",
    "trace1 = dict(\n",
    "    type='bar',\n",
    "    x=['PC %s' %i for i in range(1,num_eig_pairs)],\n",
    "    y=var_exp,\n",
    "    name='Individual'\n",
    ")\n",
    "\n",
    "trace2 = dict(\n",
    "    type='scatter',\n",
    "    x=['PC %s' %i for i in range(1,num_eig_pairs)], \n",
    "    y=cum_var_exp,\n",
    "    name='Cumulative'\n",
    ")\n",
    "\n",
    "data = [trace1, trace2]\n",
    "\n",
    "layout=dict(\n",
    "    title='Explained variance by different principal components',\n",
    "    yaxis=dict(\n",
    "        title='Explained variance in percent'\n",
    "    ),\n",
    "    annotations=list([\n",
    "        dict(\n",
    "            x=1.16,\n",
    "            y=1.05,\n",
    "            xref='paper',\n",
    "            yref='paper',\n",
    "            text='Explained Variance',\n",
    "            showarrow=False,\n",
    "        )\n",
    "    ])\n",
    ")\n",
    "\n",
    "fig = dict(data=data, layout=layout)\n",
    "py.iplot(fig, filename='exploratory-vis-histogram')\n"
   ]
  },
  {
   "cell_type": "code",
   "execution_count": 33,
   "metadata": {},
   "outputs": [
    {
     "name": "stdout",
     "output_type": "stream",
     "text": [
      "Projection matrix W:\n",
      " [[ 0.5288033  -0.44767187  0.01525111  0.0128481 ]\n",
      " [-0.48691306  0.49367556  0.23304434  0.187471  ]\n",
      " [ 0.44498179  0.57756675  0.12916939 -0.67082208]\n",
      " [-0.08335627 -0.29057816  0.93377928 -0.13412604]\n",
      " [ 0.5275658   0.37128874  0.2383889   0.70476769]]\n"
     ]
    }
   ],
   "source": [
    "#From the above we have chosen to keep PC1, PC2, PC3, PC4\n",
    "# This combination explains 95.6% of the variance\n",
    "\n",
    "eigenvector_length = X.shape[1]\n",
    "\n",
    "matrix_w = np.hstack((eig_pairs[0][1].reshape(eigenvector_length,1), \n",
    "                      eig_pairs[1][1].reshape(eigenvector_length,1),\n",
    "                      eig_pairs[2][1].reshape(eigenvector_length,1),\n",
    "                      eig_pairs[3][1].reshape(eigenvector_length,1),\n",
    "                     ))\n",
    "\n",
    "print('Projection matrix W:\\n', matrix_w)"
   ]
  },
  {
   "cell_type": "code",
   "execution_count": 34,
   "metadata": {
    "scrolled": true
   },
   "outputs": [
    {
     "name": "stdout",
     "output_type": "stream",
     "text": [
      "(500, 4)\n"
     ]
    }
   ],
   "source": [
    "# We now project our feature matrix into this new space\n",
    "X_proj = X.dot(matrix_w)\n",
    "print(X_proj.shape)"
   ]
  },
  {
   "cell_type": "code",
   "execution_count": 35,
   "metadata": {},
   "outputs": [],
   "source": [
    "# Now create test and train datasets\n",
    "# Note we chose to make the test size the same percentage (50.0%) as the amount of missing data we have\n",
    "X_train_full, X_test_full, Y_train_full, Y_test_full = train_test_split(X_proj, Y, test_size = 0.50, random_state=42)"
   ]
  },
  {
   "cell_type": "markdown",
   "metadata": {},
   "source": [
    "## Apply PCA to Imputation Features With Rows to Be Imputed Removed"
   ]
  },
  {
   "cell_type": "code",
   "execution_count": 36,
   "metadata": {},
   "outputs": [],
   "source": [
    "# For experimenting on which imputation technique is most effective we want to know the actual label for each row\n",
    "# We thus remove all data which is actually missing from garagetotalsqft\n",
    "imputational_model_cleaned = imputational_model.dropna()"
   ]
  },
  {
   "cell_type": "code",
   "execution_count": 37,
   "metadata": {},
   "outputs": [
    {
     "name": "stdout",
     "output_type": "stream",
     "text": [
      "(250,)\n",
      "(250, 5)\n"
     ]
    }
   ],
   "source": [
    "# Now separate the imputation target from the rest of the features\n",
    "Y = imputational_model_cleaned['Post Month'].values\n",
    "X = imputational_model_cleaned.drop(columns='Post Month').values\n",
    "print(Y.shape)\n",
    "print(X.shape)"
   ]
  },
  {
   "cell_type": "code",
   "execution_count": 38,
   "metadata": {},
   "outputs": [],
   "source": [
    "# First Scale the feature matrix\n",
    "X = StandardScaler().fit_transform(X)"
   ]
  },
  {
   "cell_type": "code",
   "execution_count": 39,
   "metadata": {},
   "outputs": [
    {
     "name": "stdout",
     "output_type": "stream",
     "text": [
      "Covariance matrix \n",
      "[[ 1.00401606e+00 -7.66829936e-01  2.58277301e-01  5.04985573e-02\n",
      "   3.84445101e-01]\n",
      " [-7.66829936e-01  1.00401606e+00 -1.69112604e-01  1.27587333e-01\n",
      "  -2.69867537e-01]\n",
      " [ 2.58277301e-01 -1.69112604e-01  1.00401606e+00 -9.47197373e-02\n",
      "   8.87512822e-01]\n",
      " [ 5.04985573e-02  1.27587333e-01 -9.47197373e-02  1.00401606e+00\n",
      "  -7.94190536e-04]\n",
      " [ 3.84445101e-01 -2.69867537e-01  8.87512822e-01 -7.94190536e-04\n",
      "   1.00401606e+00]]\n",
      "Eigenvectors \n",
      "[[-0.49295139  0.48036506  0.13874962  0.7066458  -0.08745622]\n",
      " [ 0.44766767 -0.56867919  0.09154362  0.6836175   0.02201172]\n",
      " [-0.50301126 -0.51957213 -0.02939424 -0.0768009  -0.68575657]\n",
      " [ 0.05813725  0.00425656  0.98230044 -0.16382887 -0.06962682]\n",
      " [-0.54789808 -0.41938058  0.08117965 -0.02409465  0.71885808]]\n",
      "\n",
      "Eigenvalues \n",
      "[2.38529273 1.29727777 1.02580798 0.20928908 0.10241277]\n"
     ]
    }
   ],
   "source": [
    "#apply PCA to complete dataframe to visualize high dimensional features in low dimensions\n",
    "mean_vec = np.mean(X, axis=0)\n",
    "cov_mat = (X - mean_vec).T.dot((X - mean_vec)) / (X.shape[0]-1)\n",
    "print('Covariance matrix \\n%s' %cov_mat)\n",
    "#now find eigenvalues and eigen vectors.Might be time consuming since we have high dimensional matrix.\n",
    "# It is absolutely essential we remove feature redundancies before this\n",
    "eig_vals, eig_vecs = np.linalg.eig(cov_mat)\n",
    "print('Eigenvectors \\n%s' %eig_vecs)\n",
    "print('\\nEigenvalues \\n%s' %eig_vals)"
   ]
  },
  {
   "cell_type": "code",
   "execution_count": 40,
   "metadata": {},
   "outputs": [
    {
     "name": "stdout",
     "output_type": "stream",
     "text": [
      "Eigenvectors \n",
      "[[-0.49295139  0.48036506  0.13874962  0.7066458  -0.08745622]\n",
      " [ 0.44766767 -0.56867919  0.09154362  0.6836175   0.02201172]\n",
      " [-0.50301126 -0.51957213 -0.02939424 -0.0768009  -0.68575657]\n",
      " [ 0.05813725  0.00425656  0.98230044 -0.16382887 -0.06962682]\n",
      " [-0.54789808 -0.41938058  0.08117965 -0.02409465  0.71885808]]\n",
      "\n",
      "Eigenvalues \n",
      "[2.37575156 1.29208866 1.02170474 0.20845192 0.10200312]\n"
     ]
    }
   ],
   "source": [
    "#Also check if the correlation matrix gives the same set of eigen vectors\n",
    "cor_mat1 = np.corrcoef(X.T)\n",
    "\n",
    "eig_vals, eig_vecs = np.linalg.eig(cor_mat1)\n",
    "\n",
    "print('Eigenvectors \\n%s' %eig_vecs)\n",
    "print('\\nEigenvalues \\n%s' %eig_vals)\n",
    "\n",
    "#Confirm that both approaches gives you the same result"
   ]
  },
  {
   "cell_type": "markdown",
   "metadata": {},
   "source": [
    "They both give the same eigenvalues and eigenvectors, so everything looks fine."
   ]
  },
  {
   "cell_type": "code",
   "execution_count": 41,
   "metadata": {},
   "outputs": [
    {
     "name": "stdout",
     "output_type": "stream",
     "text": [
      "Eigenvalues in descending order:\n",
      "2.375751557577928\n",
      "1.2920886581273354\n",
      "1.0217047449836063\n",
      "0.20845192173914473\n",
      "0.1020031175719828\n"
     ]
    }
   ],
   "source": [
    "# Now isolate the features which are your principal components\n",
    "# The eigenvectors with the lowest eigenvalues bear the least information about the distribution of the data; those are the ones can be dropped.\n",
    "# In order to do so, the common approach is to rank the eigenvalues from highest to lowest in order choose the top 𝑘 eigenvectors.\n",
    "# Make a list of (eigenvalue, eigenvector) tuples\n",
    "eig_pairs = [(np.abs(eig_vals[i]), eig_vecs[:,i]) for i in range(len(eig_vals))]\n",
    "\n",
    "\n",
    "# Sort the (eigenvalue, eigenvector) tuples from high to low\n",
    "eig_pairs.sort()\n",
    "eig_pairs.reverse()\n",
    "\n",
    "# Visually confirm that the list is correctly sorted by decreasing eigenvalues\n",
    "print('Eigenvalues in descending order:')\n",
    "for i in eig_pairs:\n",
    "    print(i[0])"
   ]
  },
  {
   "cell_type": "code",
   "execution_count": 42,
   "metadata": {},
   "outputs": [
    {
     "name": "stdout",
     "output_type": "stream",
     "text": [
      "High five! You successfully sent some data to your account on plotly. View your plot in your browser at https://plot.ly/~bmoore49/0 or inside your plot.ly account where it is named 'exploratory-vis-histogram'\n"
     ]
    },
    {
     "data": {
      "text/html": [
       "<iframe id=\"igraph\" scrolling=\"no\" style=\"border:none;\" seamless=\"seamless\" src=\"https://plot.ly/~bmoore49/0.embed\" height=\"525px\" width=\"100%\"></iframe>"
      ],
      "text/plain": [
       "<plotly.tools.PlotlyDisplay object>"
      ]
     },
     "execution_count": 42,
     "metadata": {},
     "output_type": "execute_result"
    }
   ],
   "source": [
    "#the next question is \"how many principal components are we going to choose for our new feature subspace?\" \n",
    "# A useful measure is the so-called \"explained variance,\" which can be calculated from the eigenvalues. \n",
    "# The explained variance tells us how much information (variance) can be attributed to each of the principal components.\n",
    "tot = sum(eig_vals)\n",
    "var_exp = [(i / tot)*100 for i in sorted(eig_vals, reverse=True)]\n",
    "cum_var_exp = np.cumsum(var_exp)\n",
    "num_eig_pairs = len(eig_pairs)+1\n",
    "\n",
    "trace1 = dict(\n",
    "    type='bar',\n",
    "    x=['PC %s' %i for i in range(1,num_eig_pairs)],\n",
    "    y=var_exp,\n",
    "    name='Individual'\n",
    ")\n",
    "\n",
    "trace2 = dict(\n",
    "    type='scatter',\n",
    "    x=['PC %s' %i for i in range(1,num_eig_pairs)], \n",
    "    y=cum_var_exp,\n",
    "    name='Cumulative'\n",
    ")\n",
    "\n",
    "data = [trace1, trace2]\n",
    "\n",
    "layout=dict(\n",
    "    title='Explained variance by different principal components',\n",
    "    yaxis=dict(\n",
    "        title='Explained variance in percent'\n",
    "    ),\n",
    "    annotations=list([\n",
    "        dict(\n",
    "            x=1.16,\n",
    "            y=1.05,\n",
    "            xref='paper',\n",
    "            yref='paper',\n",
    "            text='Explained Variance',\n",
    "            showarrow=False,\n",
    "        )\n",
    "    ])\n",
    ")\n",
    "\n",
    "fig = dict(data=data, layout=layout)\n",
    "py.iplot(fig, filename='exploratory-vis-histogram')\n"
   ]
  },
  {
   "cell_type": "code",
   "execution_count": 43,
   "metadata": {},
   "outputs": [
    {
     "name": "stdout",
     "output_type": "stream",
     "text": [
      "Projection matrix W:\n",
      " [[-0.49295139  0.48036506  0.13874962  0.7066458 ]\n",
      " [ 0.44766767 -0.56867919  0.09154362  0.6836175 ]\n",
      " [-0.50301126 -0.51957213 -0.02939424 -0.0768009 ]\n",
      " [ 0.05813725  0.00425656  0.98230044 -0.16382887]\n",
      " [-0.54789808 -0.41938058  0.08117965 -0.02409465]]\n"
     ]
    }
   ],
   "source": [
    "#From the above we have chosen to keep PC1, PC2, PC3, PC4\n",
    "# This combination explains 96.6% of the variance\n",
    "\n",
    "eigenvector_length = X.shape[1]\n",
    "# print(eig_pairs)\n",
    "\n",
    "matrix_w = np.hstack((eig_pairs[0][1].reshape(eigenvector_length,1), \n",
    "                      eig_pairs[1][1].reshape(eigenvector_length,1),\n",
    "                      eig_pairs[2][1].reshape(eigenvector_length,1),\n",
    "                      eig_pairs[3][1].reshape(eigenvector_length,1),\n",
    "                     ))\n",
    "\n",
    "print('Projection matrix W:\\n', matrix_w)"
   ]
  },
  {
   "cell_type": "code",
   "execution_count": 44,
   "metadata": {},
   "outputs": [
    {
     "name": "stdout",
     "output_type": "stream",
     "text": [
      "(250, 4)\n"
     ]
    }
   ],
   "source": [
    "# We now project our feature matrix into this new space\n",
    "X_proj = X.dot(matrix_w)\n",
    "print(X_proj.shape)"
   ]
  },
  {
   "cell_type": "code",
   "execution_count": 45,
   "metadata": {},
   "outputs": [],
   "source": [
    "# Now create test and train datasets\n",
    "# Note we chose to make the test size 50.0%\n",
    "X_train_clnd, X_test_clnd, Y_train_clnd, Y_test_clnd = train_test_split(X_proj, Y, test_size = 0.50, random_state=42)"
   ]
  },
  {
   "cell_type": "markdown",
   "metadata": {},
   "source": [
    "## Experiment 1 - Mean Imputation"
   ]
  },
  {
   "cell_type": "code",
   "execution_count": 46,
   "metadata": {},
   "outputs": [
    {
     "name": "stdout",
     "output_type": "stream",
     "text": [
      "The mean squared error of this prediction is 11.600448\n",
      "The r^2 value for this prediction is -0.002439\n"
     ]
    }
   ],
   "source": [
    "# We now see what results we get for just replacing all missing values with mean of remaining part of dataset\n",
    "\n",
    "# Calculate average value from train set\n",
    "mean_Y = np.mean(Y_train_clnd)\n",
    "# Place this value in the predicted test set\n",
    "Y_test_pred = [mean_Y for elem in Y_test_clnd]\n",
    "\n",
    "# Calculate the MSE and r^2 value for Mean Imputation\n",
    "print('The mean squared error of this prediction is %f' %mean_squared_error(Y_test_clnd, Y_test_pred))\n",
    "print('The r^2 value for this prediction is %f' %r2_score(Y_test_clnd,Y_test_pred))"
   ]
  },
  {
   "cell_type": "code",
   "execution_count": 47,
   "metadata": {},
   "outputs": [],
   "source": [
    "# Now use this to fill in actual data in the main model and use polynomial regression\n",
    "# to make a prediction on the actual target (taxvaluedollarcnt)\n",
    "\n",
    "# Make copy of imputational model\n",
    "imputational_model_meanImp = imputational_model.copy(deep=True)\n",
    "\n",
    "# Apply mean imputation to fill out missing values\n",
    "imputational_model_meanImp['Post Month'].fillna((imputational_model_meanImp['Post Month'].mean()), inplace=True)\n",
    "\n",
    "Y_full = imputational_model_meanImp['Post Month'].values"
   ]
  },
  {
   "cell_type": "code",
   "execution_count": 48,
   "metadata": {},
   "outputs": [
    {
     "data": {
      "text/html": [
       "<div>\n",
       "<style scoped>\n",
       "    .dataframe tbody tr th:only-of-type {\n",
       "        vertical-align: middle;\n",
       "    }\n",
       "\n",
       "    .dataframe tbody tr th {\n",
       "        vertical-align: top;\n",
       "    }\n",
       "\n",
       "    .dataframe thead th {\n",
       "        text-align: right;\n",
       "    }\n",
       "</style>\n",
       "<table border=\"1\" class=\"dataframe\">\n",
       "  <thead>\n",
       "    <tr style=\"text-align: right;\">\n",
       "      <th></th>\n",
       "      <th>Page total likes</th>\n",
       "      <th>type_Status</th>\n",
       "      <th>Lifetime Post Consumers</th>\n",
       "      <th>Post Hour</th>\n",
       "      <th>Lifetime Post Consumptions</th>\n",
       "      <th>Post Month</th>\n",
       "    </tr>\n",
       "  </thead>\n",
       "  <tbody>\n",
       "    <tr>\n",
       "      <th>Tot_Null</th>\n",
       "      <td>0</td>\n",
       "      <td>0</td>\n",
       "      <td>0</td>\n",
       "      <td>0</td>\n",
       "      <td>0</td>\n",
       "      <td>0</td>\n",
       "    </tr>\n",
       "    <tr>\n",
       "      <th>Tot_Not_Null</th>\n",
       "      <td>500</td>\n",
       "      <td>500</td>\n",
       "      <td>500</td>\n",
       "      <td>500</td>\n",
       "      <td>500</td>\n",
       "      <td>500</td>\n",
       "    </tr>\n",
       "    <tr>\n",
       "      <th>Perc_Null</th>\n",
       "      <td>0</td>\n",
       "      <td>0</td>\n",
       "      <td>0</td>\n",
       "      <td>0</td>\n",
       "      <td>0</td>\n",
       "      <td>0</td>\n",
       "    </tr>\n",
       "  </tbody>\n",
       "</table>\n",
       "</div>"
      ],
      "text/plain": [
       "             Page total likes type_Status Lifetime Post Consumers Post Hour  \\\n",
       "Tot_Null                    0           0                       0         0   \n",
       "Tot_Not_Null              500         500                     500       500   \n",
       "Perc_Null                   0           0                       0         0   \n",
       "\n",
       "             Lifetime Post Consumptions Post Month  \n",
       "Tot_Null                              0          0  \n",
       "Tot_Not_Null                        500        500  \n",
       "Perc_Null                             0          0  "
      ]
     },
     "metadata": {},
     "output_type": "display_data"
    }
   ],
   "source": [
    "# We now make copy of the full model dataframe and drop all nan vaues from other features\n",
    "df_model_Mean = df_orig[model_list]\n",
    "\n",
    "# We now replace the Post Month in the above dataframe with the imputed one we just calculated\n",
    "df_model_Mean = df_model_Mean.drop(columns='Post Month')\n",
    "df_model_Mean['Post Month'] = Y_full\n",
    "\n",
    "nan_investigation(df_model_Mean)"
   ]
  },
  {
   "cell_type": "markdown",
   "metadata": {},
   "source": [
    "## Experiment 2 - Expectation Maximization"
   ]
  },
  {
   "cell_type": "code",
   "execution_count": 49,
   "metadata": {},
   "outputs": [],
   "source": [
    "from sklearn.mixture import GaussianMixture"
   ]
  },
  {
   "cell_type": "code",
   "execution_count": 50,
   "metadata": {},
   "outputs": [],
   "source": [
    "# # Now use GridSearchCV to choose best model based on hyperparamters\n",
    "\n",
    "# param_grid = {'n_components': [3, 5, 9, 15, 29, 45],\n",
    "#               'max_iter': [10, 100, 1000, 10000, 100000, 1000000]}\n",
    "\n",
    "# gmm = GaussianMixture()\n",
    "\n",
    "# gmm_cv = GridSearchCV(gmm, param_grid, scoring='neg_mean_absolute_error', cv=5, n_jobs = -1, verbose = 2)\n",
    "# gmm_cv.fit(X_train_clnd, Y_train_clnd)\n",
    "\n",
    "# print(\"Best Score (r^2 value): %f\" % gmm_cv.best_score_)\n",
    "# print(\"Optimal Hyperparameter Values: \", gmm_cv.best_params_)"
   ]
  },
  {
   "cell_type": "code",
   "execution_count": 51,
   "metadata": {},
   "outputs": [],
   "source": [
    "# Below are the optimal hyperparameters\n",
    "max_iter_opt = 100\n",
    "n_components_opt = 9"
   ]
  },
  {
   "cell_type": "code",
   "execution_count": 52,
   "metadata": {},
   "outputs": [
    {
     "name": "stdout",
     "output_type": "stream",
     "text": [
      "[0 1 2 3 4 5 6 7 8]\n"
     ]
    }
   ],
   "source": [
    "# Implement Gausian Mixture Model\n",
    "gmm = GaussianMixture(n_components=n_components_opt, max_iter=max_iter_opt).fit(X_train_clnd)\n",
    "# These are the predictions for each row as to what class it is in\n",
    "prediction_gmm = gmm.predict(X_train_clnd)\n",
    "\n",
    "\n",
    "unique_classes = np.unique(prediction_gmm)\n",
    "print(unique_classes)\n",
    "mean_val = np.zeros(len(unique_classes))\n",
    "for unique_class in unique_classes:\n",
    "    mean_val[unique_class] = np.mean([Y_train_clnd[index] for index in range(len(Y_train_clnd)) if prediction_gmm[index]==unique_class])\n",
    "# mean_val now holds the mean value for each clas"
   ]
  },
  {
   "cell_type": "code",
   "execution_count": 53,
   "metadata": {},
   "outputs": [
    {
     "name": "stdout",
     "output_type": "stream",
     "text": [
      "The mean squared error of this prediction is 15.576000\n",
      "The r^2 value for this prediction is -0.345982\n"
     ]
    }
   ],
   "source": [
    "# Now make a prediction on the test set\n",
    "\n",
    "Y_test_pred = gmm.predict(X_test_clnd)\n",
    "\n",
    "# Go through and replace each predicted class with its associated mean class value\n",
    "for row in range(len(Y_test_pred)):\n",
    "        Y_test_pred[row] = mean_val[ prediction_gmm[row] ]\n",
    "\n",
    "print('The mean squared error of this prediction is %f' %mean_squared_error(Y_test_clnd, Y_test_pred))\n",
    "print('The r^2 value for this prediction is %f' %r2_score(Y_test_clnd,Y_test_pred))"
   ]
  },
  {
   "cell_type": "code",
   "execution_count": 54,
   "metadata": {},
   "outputs": [],
   "source": [
    "# Now use this to fill in actual data in the main model and use polynomial regression\n",
    "# to make a prediction on the actual target (taxvaluedollarcnt)\n",
    "\n",
    "# Create dataframe with all rows not missing any values for imputation target\n",
    "data_present_df = imputational_model[pd.notnull(imputational_model['Post Month'])]\n",
    "\n",
    "# Pull out full target Vector and full feature matrix\n",
    "Y_full = imputational_model['Post Month'].values\n",
    "X_full = imputational_model.drop(columns='Post Month').values\n",
    "\n",
    "# Now create target and feature arrays for both cases\n",
    "Y_present = data_present_df['Post Month'].values\n",
    "X_present = data_present_df.drop(columns='Post Month').values\n",
    "\n",
    "\n",
    "\n",
    "gmm = GaussianMixture(n_components=n_components_opt, max_iter=max_iter_opt).fit(X_present)\n",
    "gmm.fit(X_present)\n",
    "\n",
    "# Create class predictions for data present\n",
    "prediction_gmm = gmm.predict(X_present)\n",
    "\n",
    "# Come up with mean value for each class corresponding to above grouping\n",
    "unique_classes = np.unique(prediction_gmm)\n",
    "mean_val = np.zeros(len(unique_classes))\n",
    "for unique_class in unique_classes:\n",
    "    mean_val[unique_class] = np.mean([Y_present[index] for index in range(len(Y_present)) if prediction_gmm[index]==unique_class])\n",
    "\n",
    "# Now make class predictions for values we do not know\n",
    "prediction_gmm = gmm.predict(X_full)\n",
    "\n",
    "# Go through each actual and replace any missing values with those corresponding to their predictions\n",
    "for row in range(len(Y_full)):\n",
    "    if math.isnan(Y_full[row]):\n",
    "        Y_full[row] = mean_val[ prediction_gmm[row] ]"
   ]
  },
  {
   "cell_type": "code",
   "execution_count": 55,
   "metadata": {},
   "outputs": [
    {
     "data": {
      "text/html": [
       "<div>\n",
       "<style scoped>\n",
       "    .dataframe tbody tr th:only-of-type {\n",
       "        vertical-align: middle;\n",
       "    }\n",
       "\n",
       "    .dataframe tbody tr th {\n",
       "        vertical-align: top;\n",
       "    }\n",
       "\n",
       "    .dataframe thead th {\n",
       "        text-align: right;\n",
       "    }\n",
       "</style>\n",
       "<table border=\"1\" class=\"dataframe\">\n",
       "  <thead>\n",
       "    <tr style=\"text-align: right;\">\n",
       "      <th></th>\n",
       "      <th>Page total likes</th>\n",
       "      <th>type_Status</th>\n",
       "      <th>Lifetime Post Consumers</th>\n",
       "      <th>Post Hour</th>\n",
       "      <th>Lifetime Post Consumptions</th>\n",
       "      <th>Post Month</th>\n",
       "    </tr>\n",
       "  </thead>\n",
       "  <tbody>\n",
       "    <tr>\n",
       "      <th>Tot_Null</th>\n",
       "      <td>0</td>\n",
       "      <td>0</td>\n",
       "      <td>0</td>\n",
       "      <td>0</td>\n",
       "      <td>0</td>\n",
       "      <td>0</td>\n",
       "    </tr>\n",
       "    <tr>\n",
       "      <th>Tot_Not_Null</th>\n",
       "      <td>500</td>\n",
       "      <td>500</td>\n",
       "      <td>500</td>\n",
       "      <td>500</td>\n",
       "      <td>500</td>\n",
       "      <td>500</td>\n",
       "    </tr>\n",
       "    <tr>\n",
       "      <th>Perc_Null</th>\n",
       "      <td>0</td>\n",
       "      <td>0</td>\n",
       "      <td>0</td>\n",
       "      <td>0</td>\n",
       "      <td>0</td>\n",
       "      <td>0</td>\n",
       "    </tr>\n",
       "  </tbody>\n",
       "</table>\n",
       "</div>"
      ],
      "text/plain": [
       "             Page total likes type_Status Lifetime Post Consumers Post Hour  \\\n",
       "Tot_Null                    0           0                       0         0   \n",
       "Tot_Not_Null              500         500                     500       500   \n",
       "Perc_Null                   0           0                       0         0   \n",
       "\n",
       "             Lifetime Post Consumptions Post Month  \n",
       "Tot_Null                              0          0  \n",
       "Tot_Not_Null                        500        500  \n",
       "Perc_Null                             0          0  "
      ]
     },
     "metadata": {},
     "output_type": "display_data"
    }
   ],
   "source": [
    "# We now make copy of the full model dataframe and drop all nan vaues from other features\n",
    "df_model_EM = df_orig[model_list]\n",
    "\n",
    "# We now replace the Post Month in the above dataframe with the imputed one we just calculated\n",
    "df_model_EM = df_model_EM.drop(columns='Post Month')\n",
    "df_model_EM['Post Month'] = Y_full\n",
    "\n",
    "nan_investigation(df_model_EM)"
   ]
  },
  {
   "cell_type": "markdown",
   "metadata": {},
   "source": [
    "## Experiment 3 - KNN Imputation"
   ]
  },
  {
   "cell_type": "markdown",
   "metadata": {},
   "source": [
    "Note that to check the cross-validation you need to uncomment the below box.<br>\n",
    "It has been commented out for ease of investigation, as optimization only needs to be run once."
   ]
  },
  {
   "cell_type": "code",
   "execution_count": 56,
   "metadata": {},
   "outputs": [],
   "source": [
    "# # Now use GridSearchCV to choose best model based on hyperparamters\n",
    "\n",
    "# param_grid = {'n_neighbors': [1, 3, 5, 7, 9, 15, 21, 23, 33, 35, 39, 43, 49],\n",
    "#               'p': [1, 2, 3, 5, 10, 100, 200, 300],'weights': [\"uniform\", \"distance\"]}\n",
    "\n",
    "# knn = KNeighborsRegressor()\n",
    "\n",
    "# knn_cv = GridSearchCV(knn, param_grid, scoring='neg_mean_absolute_error', cv=5, n_jobs = -1, verbose = 2)\n",
    "# knn_cv.fit(X_train_clnd, Y_train_clnd)\n",
    "\n",
    "# print(\"Best Score (r^2 value): %f\" % knn_cv.best_score_)\n",
    "# print(\"Optimal Hyperparameter Values: \", knn_cv.best_params_)"
   ]
  },
  {
   "cell_type": "markdown",
   "metadata": {},
   "source": [
    "The above results give the following optimal values:<br>\n",
    "optimal r^2 value: 0.832346<br>\n",
    "n_neighbors: 35<br>\n",
    "p: 2<br>\n",
    "weights: distance"
   ]
  },
  {
   "cell_type": "code",
   "execution_count": 57,
   "metadata": {},
   "outputs": [
    {
     "data": {
      "text/plain": [
       "KNeighborsRegressor(algorithm='auto', leaf_size=30, metric='minkowski',\n",
       "          metric_params=None, n_jobs=None, n_neighbors=35, p=2,\n",
       "          weights='distance')"
      ]
     },
     "execution_count": 57,
     "metadata": {},
     "output_type": "execute_result"
    }
   ],
   "source": [
    "# Now train model using the above-found optimal hyper-parameters\n",
    "\n",
    "# Using best hyperparameter values found above we find the optimum model\n",
    "n_neighbors_opt = 35\n",
    "p_opt = 2\n",
    "weights_opt = 'distance'\n",
    "\n",
    "knn_cv = KNeighborsRegressor(n_neighbors=n_neighbors_opt, p=p_opt,weights=weights_opt)\n",
    "knn_cv.fit(X_train_clnd, Y_train_clnd)"
   ]
  },
  {
   "cell_type": "code",
   "execution_count": 58,
   "metadata": {},
   "outputs": [
    {
     "name": "stdout",
     "output_type": "stream",
     "text": [
      "The mean squared error of this prediction is 7.668604\n",
      "The r^2 value for this prediction is 0.337327\n"
     ]
    }
   ],
   "source": [
    "# Predict missing values in X_test\n",
    "Y_test_pred = knn_cv.predict(X_test_clnd)\n",
    "\n",
    "print('The mean squared error of this prediction is %f' %mean_squared_error(Y_test_clnd, Y_test_pred))\n",
    "print('The r^2 value for this prediction is %f' %r2_score(Y_test_clnd,Y_test_pred))"
   ]
  },
  {
   "cell_type": "code",
   "execution_count": 59,
   "metadata": {},
   "outputs": [],
   "source": [
    "# Now use this to fill in actual data in the main model and use polynomial regression\n",
    "# to make a prediction on the actual target (taxvaluedollarcnt)\n",
    "\n",
    "# Create dataframe with all rows not missing any values for imputation target\n",
    "data_present_df = imputational_model[pd.notnull(imputational_model['Post Month'])]\n",
    "\n",
    "# Pull out full target Vector and full feature matrix\n",
    "Y_full = imputational_model['Post Month'].values\n",
    "X_full = imputational_model.drop(columns='Post Month').values\n",
    "\n",
    "# Now create target and feature arrays for both cases\n",
    "Y_present = data_present_df['Post Month'].values\n",
    "X_present = data_present_df.drop(columns='Post Month').values\n",
    "\n",
    "# Using above-found hyperparameters we fit our data, using the \n",
    "knn_cv = KNeighborsRegressor(n_neighbors=n_neighbors_opt, p=p_opt,weights=weights_opt)\n",
    "knn_cv.fit(X_present, Y_present)\n",
    "\n",
    "# Now make a prediction for the missing values in the imputation target\n",
    "Y_full_pred = knn_cv.predict(X_full)\n",
    "\n",
    "# Now replace missing values in Y_full with their predicted values\n",
    "# Y_full = [elem for elem in Y_full_pred if math.isnan(Y_full)]\n",
    "for row in range(len(Y_full)):\n",
    "    if math.isnan(Y_full[row]):\n",
    "        Y_full[row] = Y_full_pred[row]"
   ]
  },
  {
   "cell_type": "code",
   "execution_count": 60,
   "metadata": {},
   "outputs": [
    {
     "data": {
      "text/html": [
       "<div>\n",
       "<style scoped>\n",
       "    .dataframe tbody tr th:only-of-type {\n",
       "        vertical-align: middle;\n",
       "    }\n",
       "\n",
       "    .dataframe tbody tr th {\n",
       "        vertical-align: top;\n",
       "    }\n",
       "\n",
       "    .dataframe thead th {\n",
       "        text-align: right;\n",
       "    }\n",
       "</style>\n",
       "<table border=\"1\" class=\"dataframe\">\n",
       "  <thead>\n",
       "    <tr style=\"text-align: right;\">\n",
       "      <th></th>\n",
       "      <th>Page total likes</th>\n",
       "      <th>type_Status</th>\n",
       "      <th>Lifetime Post Consumers</th>\n",
       "      <th>Post Hour</th>\n",
       "      <th>Lifetime Post Consumptions</th>\n",
       "      <th>Post Month</th>\n",
       "    </tr>\n",
       "  </thead>\n",
       "  <tbody>\n",
       "    <tr>\n",
       "      <th>Tot_Null</th>\n",
       "      <td>0</td>\n",
       "      <td>0</td>\n",
       "      <td>0</td>\n",
       "      <td>0</td>\n",
       "      <td>0</td>\n",
       "      <td>0</td>\n",
       "    </tr>\n",
       "    <tr>\n",
       "      <th>Tot_Not_Null</th>\n",
       "      <td>500</td>\n",
       "      <td>500</td>\n",
       "      <td>500</td>\n",
       "      <td>500</td>\n",
       "      <td>500</td>\n",
       "      <td>500</td>\n",
       "    </tr>\n",
       "    <tr>\n",
       "      <th>Perc_Null</th>\n",
       "      <td>0</td>\n",
       "      <td>0</td>\n",
       "      <td>0</td>\n",
       "      <td>0</td>\n",
       "      <td>0</td>\n",
       "      <td>0</td>\n",
       "    </tr>\n",
       "  </tbody>\n",
       "</table>\n",
       "</div>"
      ],
      "text/plain": [
       "             Page total likes type_Status Lifetime Post Consumers Post Hour  \\\n",
       "Tot_Null                    0           0                       0         0   \n",
       "Tot_Not_Null              500         500                     500       500   \n",
       "Perc_Null                   0           0                       0         0   \n",
       "\n",
       "             Lifetime Post Consumptions Post Month  \n",
       "Tot_Null                              0          0  \n",
       "Tot_Not_Null                        500        500  \n",
       "Perc_Null                             0          0  "
      ]
     },
     "metadata": {},
     "output_type": "display_data"
    }
   ],
   "source": [
    "# We now make copy of the full model dataframe and drop all nan vaues from other features\n",
    "df_model_KNN = df_orig[model_list]\n",
    "\n",
    "# We now replace the Post Month in the above dataframe with the imputed one we just calculated\n",
    "df_model_KNN = df_model_KNN.drop(columns='Post Month')\n",
    "df_model_KNN['Post Month'] = Y_full\n",
    "\n",
    "nan_investigation(df_model_KNN)"
   ]
  },
  {
   "cell_type": "markdown",
   "metadata": {},
   "source": [
    "## Experiment 4 - Polynomial Regression"
   ]
  },
  {
   "cell_type": "code",
   "execution_count": 61,
   "metadata": {},
   "outputs": [],
   "source": [
    "def vary_degree_plot(degreeList,X_train,Y_train,X_test,Y_test):\n",
    "    mse_train, mse_test = [], []\n",
    "\n",
    "    for degree in degreeList:\n",
    "        print('Modeling data using degree: %i' %degree)\n",
    "\n",
    "        # Create model for current degree polynomial being considered\n",
    "        model = make_pipeline(PolynomialFeatures(degree, include_bias=False),\n",
    "                              StandardScaler(), LinearRegression()) \n",
    "\n",
    "        # Fit model using the training data for current degree of polynomial\n",
    "        model.fit(X_train, Y_train)\n",
    "\n",
    "        # Make prediction for both training and testing datasets\n",
    "        Y_train_predicted = model.predict(X_train)\n",
    "        Y_test_predicted = model.predict(X_test)\n",
    "\n",
    "        # These keep track of MSE for testing and training datasets for each polynomial order considered\n",
    "        mse_train.append(mean_squared_error(Y_train, Y_train_predicted))\n",
    "        mse_test.append(mean_squared_error(Y_test, Y_test_predicted))\n",
    "\n",
    "    # Below plots the “rmse vs. degree”\n",
    "    plt.figure(figsize=(10, 6))\n",
    "    plt.plot(degreeList, mse_test, \"ro-\", alpha=1.0, linewidth=1.0, label=\"Test MSE\")\n",
    "    plt.plot(degreeList, mse_train, \"bo-\", alpha=1.0, linewidth=1.0, label=\"Train MSE\")    \n",
    "    plt.legend(loc=\"best\", fontsize=14) \n",
    "    plt.xlabel(\"Degree\")\n",
    "    plt.ylabel(\"MSE\")\n",
    "    plt.title(\"MSE for Varying Degree\")\n",
    "#     plt.ylim(bottom = 0, top=40000) # Adjust the y range to better understand which order of polynomial really becomes a problem\n",
    "    plt.show()"
   ]
  },
  {
   "cell_type": "code",
   "execution_count": 62,
   "metadata": {},
   "outputs": [
    {
     "name": "stdout",
     "output_type": "stream",
     "text": [
      "Modeling data using degree: 1\n",
      "Modeling data using degree: 2\n"
     ]
    },
    {
     "data": {
      "image/png": "[encoded data removed]",
      "text/plain": [
       "<Figure size 720x432 with 1 Axes>"
      ]
     },
     "metadata": {
      "needs_background": "light"
     },
     "output_type": "display_data"
    }
   ],
   "source": [
    "# We will first explore what order of polynomial may be the best predictor for the imputation target column\n",
    "# For figuring out optimal complexity we use the default options for the linear regressor\n",
    "\n",
    "degreeList = [1,2]\n",
    "vary_degree_plot(degreeList,X_train_clnd,Y_train_clnd,X_test_clnd,Y_test_clnd)"
   ]
  },
  {
   "cell_type": "code",
   "execution_count": 63,
   "metadata": {},
   "outputs": [],
   "source": [
    "# From the above results we have chosen an optimal polynomial model for imputing this missing data\n",
    "# We choose 1st order\n",
    "poly_degree = 1\n",
    "\n",
    "# Add polynomial and bias term with the feature vector using the sklearn PolynomialFeatures class\n",
    "poly_features = PolynomialFeatures(degree=poly_degree, include_bias=False)\n",
    "X_train_poly_clnd = poly_features.fit_transform(X_train_clnd)\n",
    "\n",
    "scaler = StandardScaler().fit(X_train_poly_clnd)\n",
    "X_train_poly_standardized_clnd = scaler.transform(X_train_poly_clnd)"
   ]
  },
  {
   "cell_type": "markdown",
   "metadata": {},
   "source": [
    "Note that to check the cross-validation you need to uncomment the below box.<br>\n",
    "It has been commented out for ease of investigation, as optimization only needs to be run once."
   ]
  },
  {
   "cell_type": "code",
   "execution_count": 64,
   "metadata": {},
   "outputs": [],
   "source": [
    "# # First do a grid search to optimize the model\n",
    "# param_grid = {'alpha': [0.1, 0.01, 0.001], 'learning_rate': [\"constant\", \"optimal\"], \n",
    "#               'l1_ratio': [1, 0.5, 0.2, 0], 'max_iter':[100, 400, 1000, 10000],\n",
    "#               'eta0': [0.01, 0.001, 0.1]}\n",
    "\n",
    "# sgd = SGDRegressor()\n",
    "\n",
    "# sgd_cv = GridSearchCV(sgd, param_grid, scoring='neg_mean_squared_error', cv=5,\n",
    "#                      n_jobs = -1, verbose = 2)\n",
    "# sgd_cv.fit(X_train_clnd, Y_train_clnd)\n",
    "\n",
    "# # print(\"Best Score (negative mean squared error): %f\" % sgd_cv.best_score_)\n",
    "# print(\"Optimal Hyperparameter Values: \", sgd_cv.best_params_)"
   ]
  },
  {
   "cell_type": "markdown",
   "metadata": {},
   "source": [
    "From the above we will use the following hyperparameters for linear regression:<br>\n",
    " alpha_opt = 0.001 # Regularization Parameter<br>\n",
    " learning_rate_opt = 'optimal' # (constant or updated during descent)<br>\n",
    " l1_ratio_opt = 0.2<br>\n",
    " max_iter_opt = 400<br>\n",
    " eta0_opt = 0.001 # learning rate<br>\n",
    " penalty_opt = 'elasticnet'"
   ]
  },
  {
   "cell_type": "code",
   "execution_count": 65,
   "metadata": {},
   "outputs": [
    {
     "name": "stdout",
     "output_type": "stream",
     "text": [
      "The mean squared error of this prediction is 10.784587\n",
      "The r^2 value for this prediction is 0.068063\n"
     ]
    }
   ],
   "source": [
    "# Using these parameters create SGDRegressor linear regression object\n",
    "alpha_opt = 0.001 # Regularization Parameter\n",
    "learning_rate_opt = 'optimal' # (constant or updated during descent)\n",
    "l1_ratio_opt = 0.2\n",
    "max_iter_opt = 400\n",
    "eta0_opt = 0.001 # learning rate\n",
    "penalty_opt = 'elasticnet'\n",
    "\n",
    "# Below creates model based on above optimal parameters\n",
    "lin_reg_sgd = SGDRegressor(max_iter=max_iter_opt, learning_rate=learning_rate_opt,\n",
    "                           eta0=eta0_opt, penalty=penalty_opt, l1_ratio=l1_ratio_opt, alpha=alpha_opt)\n",
    "\n",
    "# Fit the new model\n",
    "lin_reg_sgd.fit(X_train_clnd, Y_train_clnd)\n",
    "\n",
    "Y_test_pred = lin_reg_sgd.predict(X_test_clnd)\n",
    "print('The mean squared error of this prediction is %f' %mean_squared_error(Y_test_clnd, Y_test_pred))\n",
    "print('The r^2 value for this prediction is %f' %r2_score(Y_test_clnd,Y_test_pred))"
   ]
  },
  {
   "cell_type": "code",
   "execution_count": 66,
   "metadata": {},
   "outputs": [],
   "source": [
    "# Now use this to fill in actual data in the main model and use polynomial regression\n",
    "# to make a prediction on the actual target (taxvaluedollarcnt)\n",
    "\n",
    "# Create dataframe with all rows not missing any values for imputation target\n",
    "data_present_df = imputational_model[pd.notnull(imputational_model['Post Month'])]\n",
    "\n",
    "# Pull out full target Vector and full feature matrix\n",
    "Y_full = imputational_model['Post Month'].values\n",
    "X_full = imputational_model.drop(columns='Post Month').values\n",
    "\n",
    "# Now create target and feature arrays for both cases\n",
    "Y_present = data_present_df['Post Month'].values\n",
    "X_present = data_present_df.drop(columns='Post Month').values\n",
    "\n",
    "# Using above-found hyperparameters we fit our data, using the \n",
    "lin_reg_sgd = SGDRegressor(max_iter=max_iter_opt, learning_rate=learning_rate_opt,\n",
    "                           eta0=eta0_opt, penalty=penalty_opt, l1_ratio=l1_ratio_opt, alpha=alpha_opt)\n",
    "lin_reg_sgd.fit(X_present, Y_present)\n",
    "\n",
    "# Now make a prediction for the missing values in the imputation target\n",
    "Y_full_pred = knn_cv.predict(X_full)\n",
    "\n",
    "# Now replace missing values in Y_full with their predicted values\n",
    "# Y_full = [elem for elem in Y_full_pred if math.isnan(Y_full)]\n",
    "for row in range(len(Y_full)):\n",
    "    if math.isnan(Y_full[row]):\n",
    "        Y_full[row] = Y_full_pred[row]"
   ]
  },
  {
   "cell_type": "code",
   "execution_count": 67,
   "metadata": {},
   "outputs": [
    {
     "data": {
      "text/html": [
       "<div>\n",
       "<style scoped>\n",
       "    .dataframe tbody tr th:only-of-type {\n",
       "        vertical-align: middle;\n",
       "    }\n",
       "\n",
       "    .dataframe tbody tr th {\n",
       "        vertical-align: top;\n",
       "    }\n",
       "\n",
       "    .dataframe thead th {\n",
       "        text-align: right;\n",
       "    }\n",
       "</style>\n",
       "<table border=\"1\" class=\"dataframe\">\n",
       "  <thead>\n",
       "    <tr style=\"text-align: right;\">\n",
       "      <th></th>\n",
       "      <th>Page total likes</th>\n",
       "      <th>type_Status</th>\n",
       "      <th>Lifetime Post Consumers</th>\n",
       "      <th>Post Hour</th>\n",
       "      <th>Lifetime Post Consumptions</th>\n",
       "      <th>Post Month</th>\n",
       "    </tr>\n",
       "  </thead>\n",
       "  <tbody>\n",
       "    <tr>\n",
       "      <th>Tot_Null</th>\n",
       "      <td>0</td>\n",
       "      <td>0</td>\n",
       "      <td>0</td>\n",
       "      <td>0</td>\n",
       "      <td>0</td>\n",
       "      <td>0</td>\n",
       "    </tr>\n",
       "    <tr>\n",
       "      <th>Tot_Not_Null</th>\n",
       "      <td>500</td>\n",
       "      <td>500</td>\n",
       "      <td>500</td>\n",
       "      <td>500</td>\n",
       "      <td>500</td>\n",
       "      <td>500</td>\n",
       "    </tr>\n",
       "    <tr>\n",
       "      <th>Perc_Null</th>\n",
       "      <td>0</td>\n",
       "      <td>0</td>\n",
       "      <td>0</td>\n",
       "      <td>0</td>\n",
       "      <td>0</td>\n",
       "      <td>0</td>\n",
       "    </tr>\n",
       "  </tbody>\n",
       "</table>\n",
       "</div>"
      ],
      "text/plain": [
       "             Page total likes type_Status Lifetime Post Consumers Post Hour  \\\n",
       "Tot_Null                    0           0                       0         0   \n",
       "Tot_Not_Null              500         500                     500       500   \n",
       "Perc_Null                   0           0                       0         0   \n",
       "\n",
       "             Lifetime Post Consumptions Post Month  \n",
       "Tot_Null                              0          0  \n",
       "Tot_Not_Null                        500        500  \n",
       "Perc_Null                             0          0  "
      ]
     },
     "metadata": {},
     "output_type": "display_data"
    }
   ],
   "source": [
    "# We now make copy of the full model dataframe and drop all nan vaues from other features\n",
    "df_model_linReg = df_orig[model_list]\n",
    "\n",
    "# We now replace the Post Month in the above dataframe with the imputed one we just calculated\n",
    "df_model_linReg = df_model_linReg.drop(columns='Post Month')\n",
    "df_model_linReg['Post Month'] = Y_full\n",
    "\n",
    "nan_investigation(df_model_linReg)"
   ]
  },
  {
   "cell_type": "markdown",
   "metadata": {},
   "source": [
    "## Experiment 5 - Random Forest"
   ]
  },
  {
   "cell_type": "markdown",
   "metadata": {},
   "source": [
    "This is a possible improvement on the above polynomial regression imputation approach.<br>\n",
    "This will select random subsamples of the train data and calculate an optimal regression formula.<br>\n",
    "To select these we have implemented bootstrapping with replacement, to get a more unbiased opinion from the train data.<br>\n",
    "Each node of a tree makes a decision, which is then re-evaluated by below branches until a low enough MSE is reached, or the maximum size is reached.<br>\n",
    "Each tree may also be given a different subselection of features to use.<br>\n",
    "The final output is then the average of all trees created."
   ]
  },
  {
   "cell_type": "code",
   "execution_count": 68,
   "metadata": {},
   "outputs": [],
   "source": [
    "# Import the model we are using\n",
    "from sklearn.ensemble import RandomForestRegressor"
   ]
  },
  {
   "cell_type": "code",
   "execution_count": 69,
   "metadata": {},
   "outputs": [
    {
     "name": "stdout",
     "output_type": "stream",
     "text": [
      "Modeling data using degree: 1\n",
      "Modeling data using degree: 2\n"
     ]
    },
    {
     "data": {
      "image/png": "[encoded data removed]",
      "text/plain": [
       "<Figure size 720x432 with 1 Axes>"
      ]
     },
     "metadata": {
      "needs_background": "light"
     },
     "output_type": "display_data"
    }
   ],
   "source": [
    "# We will first explore what order of polynomial may be the best predictor for the imputation target column\n",
    "# For figuring out optimal complexity we use the default options for the linear regressor\n",
    "\n",
    "degreeList = [1,2]\n",
    "vary_degree_plot(degreeList,X_train_clnd,Y_train_clnd,X_test_clnd,Y_test_clnd)"
   ]
  },
  {
   "cell_type": "code",
   "execution_count": 70,
   "metadata": {},
   "outputs": [],
   "source": [
    "# From the above results we have chosen an optimal polynomial model for imputing this missing data\n",
    "# It looks like it is very similar up to degree 1, with variations possibly due to noise\n",
    "# We therefore choose 1st order\n",
    "poly_degree = 1\n",
    "\n",
    "# Add polynomial and bias term with the feature vector using the sklearn PolynomialFeatures class\n",
    "poly_features = PolynomialFeatures(degree=poly_degree, include_bias=False)\n",
    "X_train_poly_clnd = poly_features.fit_transform(X_train_clnd)\n",
    "\n",
    "scaler = StandardScaler().fit(X_train_poly_clnd)\n",
    "X_train_poly_standardized_clnd = scaler.transform(X_train_poly_clnd)"
   ]
  },
  {
   "cell_type": "markdown",
   "metadata": {},
   "source": [
    "Note that to check the cross-validation you need to uncomment the below box.<br>\n",
    "It has been commented out for ease of investigation, as optimization only needs to be run once."
   ]
  },
  {
   "cell_type": "code",
   "execution_count": 71,
   "metadata": {},
   "outputs": [],
   "source": [
    "# # We first set up our hyperparameters we will try for optimizing this regression with Random Forest\n",
    "\n",
    "# # Create the parameter grid based on the results of random search \n",
    "# param_grid = {\n",
    "#     'bootstrap': [True],\n",
    "#     'max_depth': [80, 90, 100, 110],\n",
    "#     'max_features': [2, 3, 4],\n",
    "#     'min_samples_leaf': [3, 4, 5],\n",
    "#     'min_samples_split': [8, 10, 12],\n",
    "#     'n_estimators': [100, 200, 300, 1000]\n",
    "# }\n",
    "\n",
    "# # Create a based model\n",
    "# rf = RandomForestRegressor()\n",
    "\n",
    "# # Initialize the grid search model\n",
    "# grid_search = GridSearchCV(estimator = rf, param_grid = param_grid, scoring='neg_mean_squared_error',\n",
    "#                           cv = 5, n_jobs = -1, verbose = 2)\n",
    "\n",
    "# # Fit the grid search to the data\n",
    "# grid_search.fit(X_train_poly_standardized_clnd, Y_train_clnd)\n",
    "\n",
    "# # Print the optimal parameters\n",
    "# grid_search.best_params_"
   ]
  },
  {
   "cell_type": "markdown",
   "metadata": {},
   "source": [
    "The above shows that the optimal hyperparameters for a linear model are:<br>\n",
    "bootstrap_opt = True<br>\n",
    "max_depth_opt = 90<br>\n",
    "max_features_opt = 2<br>\n",
    "min_samples_leaf_opt = 3<br>\n",
    "min_samples_split_opt = 12<br>\n",
    "n_estimators_opt = 100"
   ]
  },
  {
   "cell_type": "code",
   "execution_count": 72,
   "metadata": {},
   "outputs": [],
   "source": [
    "# Instantiate model with above-indicated hyperparameters\n",
    "bootstrap_opt = True\n",
    "max_depth_opt = 90\n",
    "max_features_opt = 2\n",
    "min_samples_leaf_opt = 3\n",
    "min_samples_split_opt = 12\n",
    "n_estimators_opt = 100\n",
    "\n",
    "random_forest = RandomForestRegressor(bootstrap=bootstrap_opt, max_depth=max_depth_opt,\n",
    "                                      max_features=max_features_opt, min_samples_leaf=min_samples_leaf_opt,\n",
    "                                      min_samples_split=min_samples_split_opt, n_estimators=n_estimators_opt,\n",
    "                                      random_state = 42)\n",
    "\n",
    "# Train the model on training data\n",
    "random_forest.fit(X_train_clnd, Y_train_clnd);"
   ]
  },
  {
   "cell_type": "code",
   "execution_count": 73,
   "metadata": {},
   "outputs": [
    {
     "name": "stdout",
     "output_type": "stream",
     "text": [
      "The mean squared error of this prediction is 7.052163\n",
      "The r^2 value for this prediction is 0.390596\n"
     ]
    }
   ],
   "source": [
    "# Use the forest's predict method on the test data\n",
    "Y_test_pred = random_forest.predict(X_test_clnd)\n",
    "\n",
    "print('The mean squared error of this prediction is %f' %mean_squared_error(Y_test_clnd, Y_test_pred))\n",
    "print('The r^2 value for this prediction is %f' %r2_score(Y_test_clnd,Y_test_pred))"
   ]
  },
  {
   "cell_type": "code",
   "execution_count": 74,
   "metadata": {},
   "outputs": [],
   "source": [
    "# Now use this to fill in actual data in the main model and use polynomial regression\n",
    "# to make a prediction on the actual target (taxvaluedollarcnt)\n",
    "\n",
    "# Create dataframe with all rows not missing any values for imputation target\n",
    "data_present_df = imputational_model[pd.notnull(imputational_model['Post Month'])]\n",
    "\n",
    "# Pull out full target Vector and full feature matrix\n",
    "Y_full = imputational_model['Post Month'].values\n",
    "X_full = imputational_model.drop(columns='Post Month').values\n",
    "\n",
    "# Now create target and feature arrays for both cases\n",
    "Y_present = data_present_df['Post Month'].values\n",
    "X_present = data_present_df.drop(columns='Post Month').values\n",
    "\n",
    "# Using above-found hyperparameters we fit our data, using the \n",
    "random_forest = RandomForestRegressor(bootstrap=bootstrap_opt, max_depth=max_depth_opt,\n",
    "                                      max_features=max_features_opt, min_samples_leaf=min_samples_leaf_opt,\n",
    "                                      min_samples_split=min_samples_split_opt, n_estimators=n_estimators_opt,\n",
    "                                      random_state = 42)\n",
    "random_forest.fit(X_present, Y_present);\n",
    "\n",
    "# Now make a prediction for the missing values in the imputation target\n",
    "Y_full_pred = random_forest.predict(X_full)\n",
    "\n",
    "# Now replace missing values in Y_full with their predicted values\n",
    "# Y_full = [elem for elem in Y_full_pred if math.isnan(Y_full)]\n",
    "for row in range(len(Y_full)):\n",
    "    if math.isnan(Y_full[row]):\n",
    "        Y_full[row] = Y_full_pred[row]"
   ]
  },
  {
   "cell_type": "code",
   "execution_count": 75,
   "metadata": {},
   "outputs": [
    {
     "data": {
      "text/html": [
       "<div>\n",
       "<style scoped>\n",
       "    .dataframe tbody tr th:only-of-type {\n",
       "        vertical-align: middle;\n",
       "    }\n",
       "\n",
       "    .dataframe tbody tr th {\n",
       "        vertical-align: top;\n",
       "    }\n",
       "\n",
       "    .dataframe thead th {\n",
       "        text-align: right;\n",
       "    }\n",
       "</style>\n",
       "<table border=\"1\" class=\"dataframe\">\n",
       "  <thead>\n",
       "    <tr style=\"text-align: right;\">\n",
       "      <th></th>\n",
       "      <th>Page total likes</th>\n",
       "      <th>type_Status</th>\n",
       "      <th>Lifetime Post Consumers</th>\n",
       "      <th>Post Hour</th>\n",
       "      <th>Lifetime Post Consumptions</th>\n",
       "      <th>Post Month</th>\n",
       "    </tr>\n",
       "  </thead>\n",
       "  <tbody>\n",
       "    <tr>\n",
       "      <th>Tot_Null</th>\n",
       "      <td>0</td>\n",
       "      <td>0</td>\n",
       "      <td>0</td>\n",
       "      <td>0</td>\n",
       "      <td>0</td>\n",
       "      <td>0</td>\n",
       "    </tr>\n",
       "    <tr>\n",
       "      <th>Tot_Not_Null</th>\n",
       "      <td>500</td>\n",
       "      <td>500</td>\n",
       "      <td>500</td>\n",
       "      <td>500</td>\n",
       "      <td>500</td>\n",
       "      <td>500</td>\n",
       "    </tr>\n",
       "    <tr>\n",
       "      <th>Perc_Null</th>\n",
       "      <td>0</td>\n",
       "      <td>0</td>\n",
       "      <td>0</td>\n",
       "      <td>0</td>\n",
       "      <td>0</td>\n",
       "      <td>0</td>\n",
       "    </tr>\n",
       "  </tbody>\n",
       "</table>\n",
       "</div>"
      ],
      "text/plain": [
       "             Page total likes type_Status Lifetime Post Consumers Post Hour  \\\n",
       "Tot_Null                    0           0                       0         0   \n",
       "Tot_Not_Null              500         500                     500       500   \n",
       "Perc_Null                   0           0                       0         0   \n",
       "\n",
       "             Lifetime Post Consumptions Post Month  \n",
       "Tot_Null                              0          0  \n",
       "Tot_Not_Null                        500        500  \n",
       "Perc_Null                             0          0  "
      ]
     },
     "metadata": {},
     "output_type": "display_data"
    }
   ],
   "source": [
    "# We now make copy of the full model dataframe and drop all nan vaues from other features\n",
    "df_model_randForest = df_orig[model_list]\n",
    "\n",
    "# We now replace the Post Month in the above dataframe with the imputed one we just calculated\n",
    "df_model_randForest = df_model_randForest.drop(columns='Post Month')\n",
    "df_model_randForest['Post Month'] = Y_full\n",
    "\n",
    "nan_investigation(df_model_randForest)"
   ]
  },
  {
   "cell_type": "markdown",
   "metadata": {},
   "source": [
    "## Experiment 6 - Artificial Neural Network"
   ]
  },
  {
   "cell_type": "code",
   "execution_count": 76,
   "metadata": {},
   "outputs": [
    {
     "name": "stderr",
     "output_type": "stream",
     "text": [
      "Using TensorFlow backend.\n"
     ]
    }
   ],
   "source": [
    "#what if we used a dense neural network instead\n",
    "# Define Feature Columns for the Linear Regressor\n",
    "import keras\n",
    "from keras.models import Sequential\n",
    "from keras.layers import Dense\n",
    "from keras.wrappers.scikit_learn import KerasRegressor\n",
    "from sklearn.model_selection import cross_val_score\n",
    "from sklearn.model_selection import KFold\n",
    "from sklearn.preprocessing import StandardScaler\n",
    "from sklearn.pipeline import Pipeline"
   ]
  },
  {
   "cell_type": "code",
   "execution_count": 77,
   "metadata": {},
   "outputs": [],
   "source": [
    "# define our model,one hidden layer with one output layer\n",
    "def base_architecture_1hidden(num_neurons_layer1, X_train_clnd):\n",
    "    #create model\n",
    "    model=Sequential()\n",
    "    #the input layer\n",
    "    model.add(Dense(X_train_clnd.shape[1], input_dim=X_train_clnd.shape[1],\n",
    "                    kernel_initializer='normal', activation='relu'))\n",
    "    # The Hidden Layers :\n",
    "    model.add(Dense(int(num_neurons_layer1), kernel_initializer='normal',activation='relu'))\n",
    "    # the Output Layers:\n",
    "    model.add(Dense(1, kernel_initializer='normal'))\n",
    "    # Compile the network :\n",
    "    model.compile(loss='mean_squared_error', optimizer='adam', metrics=['mean_squared_error'])\n",
    "    return model"
   ]
  },
  {
   "cell_type": "code",
   "execution_count": 78,
   "metadata": {},
   "outputs": [],
   "source": [
    "# define our model,two densely connected layers with one output layer\n",
    "def base_architecture_2hidden(num_neurons_layer1,num_neurons_layer2,X_train_clnd):\n",
    "    #create model\n",
    "    model=Sequential()\n",
    "    #the input layer\n",
    "    model.add(Dense(X_train_clnd.shape[1], input_dim=X_train_clnd.shape[1],\n",
    "                    kernel_initializer='normal', activation='relu'))\n",
    "    # The Hidden Layers :\n",
    "    model.add(Dense(int(num_neurons_layer1), kernel_initializer='normal',activation='relu'))\n",
    "    model.add(Dense(int(num_neurons_layer2), kernel_initializer='normal',activation='relu'))\n",
    "    # the Output Layers:\n",
    "    model.add(Dense(1, kernel_initializer='normal'))\n",
    "    # Compile the network :\n",
    "    model.compile(loss='mean_squared_error', optimizer='adam', metrics=['mean_squared_error'])\n",
    "    return model"
   ]
  },
  {
   "cell_type": "code",
   "execution_count": 79,
   "metadata": {},
   "outputs": [],
   "source": [
    "# define our model,three densely connected layers with one output layer\n",
    "def base_architecture_3hidden(num_neurons_layer1,num_neurons_layer2,num_neurons_layer3,X_train_clnd):\n",
    "    #create model\n",
    "    model=Sequential()\n",
    "    #the input layer\n",
    "    model.add(Dense(X_train_clnd.shape[1], input_dim=X_train_clnd.shape[1],\n",
    "                    kernel_initializer='normal', activation='relu'))\n",
    "    # The Hidden Layers :\n",
    "    model.add(Dense(int(num_neurons_layer1), kernel_initializer='normal',activation='relu'))\n",
    "    model.add(Dense(int(num_neurons_layer2), kernel_initializer='normal',activation='relu'))\n",
    "    model.add(Dense(int(num_neurons_layer3), kernel_initializer='normal',activation='relu'))\n",
    "    # the Output Layers:\n",
    "    model.add(Dense(1, kernel_initializer='normal'))\n",
    "    # Compile the network :\n",
    "    model.compile(loss='mean_squared_error', optimizer='adam', metrics=['mean_squared_error'])\n",
    "    return model"
   ]
  },
  {
   "cell_type": "code",
   "execution_count": 80,
   "metadata": {},
   "outputs": [],
   "source": [
    "# define our model,three densely connected layers with one output layer\n",
    "def base_architecture_4hidden(num_neurons_layer1,num_neurons_layer2,num_neurons_layer3,\n",
    "                              num_neurons_layer4,X_train_clnd):\n",
    "    #create model\n",
    "    model=Sequential()\n",
    "    #the input layer\n",
    "    model.add(Dense(X_train_clnd.shape[1], input_dim=X_train_clnd.shape[1],\n",
    "                    kernel_initializer='normal', activation='relu'))\n",
    "    # The Hidden Layers :\n",
    "    model.add(Dense(int(num_neurons_layer1), kernel_initializer='normal',activation='relu'))\n",
    "    model.add(Dense(int(num_neurons_layer2), kernel_initializer='normal',activation='relu'))\n",
    "    model.add(Dense(int(num_neurons_layer3), kernel_initializer='normal',activation='relu'))\n",
    "    model.add(Dense(int(num_neurons_layer4), kernel_initializer='normal',activation='relu'))\n",
    "    \n",
    "    # the Output Layers:\n",
    "    model.add(Dense(1, kernel_initializer='normal'))\n",
    "    # Compile the network :\n",
    "    model.compile(loss='mean_squared_error', optimizer='adam', metrics=['mean_squared_error'])\n",
    "    return model"
   ]
  },
  {
   "cell_type": "code",
   "execution_count": 81,
   "metadata": {},
   "outputs": [],
   "source": [
    "# Choose number of neurons for each layer\n",
    "num_neurons_layer1 = 100\n",
    "num_neurons_layer2 = 60\n",
    "num_neurons_layer3 = 30\n",
    "num_neurons_layer4 = 10\n",
    "\n",
    "epoch = 10\n",
    "batch_sizes = 100"
   ]
  },
  {
   "cell_type": "code",
   "execution_count": 82,
   "metadata": {},
   "outputs": [
    {
     "name": "stdout",
     "output_type": "stream",
     "text": [
      "Modeling data using 1 hidden layers\n",
      "WARNING:tensorflow:From /Users/bryan/anaconda3/lib/python3.6/site-packages/tensorflow/python/framework/op_def_library.py:263: colocate_with (from tensorflow.python.framework.ops) is deprecated and will be removed in a future version.\n",
      "Instructions for updating:\n",
      "Colocations handled automatically by placer.\n",
      "WARNING:tensorflow:From /Users/bryan/anaconda3/lib/python3.6/site-packages/tensorflow/python/ops/math_ops.py:3066: to_int32 (from tensorflow.python.ops.math_ops) is deprecated and will be removed in a future version.\n",
      "Instructions for updating:\n",
      "Use tf.cast instead.\n",
      "Modeling data using 2 hidden layers\n",
      "Modeling data using 3 hidden layers\n"
     ]
    },
    {
     "data": {
      "image/png": "[encoded data removed]",
      "text/plain": [
       "<Figure size 720x432 with 1 Axes>"
      ]
     },
     "metadata": {
      "needs_background": "light"
     },
     "output_type": "display_data"
    }
   ],
   "source": [
    "# First go through different numbers of hidden layers, with above conditions, and see if there is a gain in\n",
    "# including more layers\n",
    "\n",
    "layerList = [1,2,3]\n",
    "\n",
    "mse_train, mse_test = [], []\n",
    "\n",
    "for num_of_layers in layerList:\n",
    "    print('Modeling data using %i hidden layers' %num_of_layers)\n",
    "    \n",
    "    if num_of_layers == 1:\n",
    "        model = base_architecture_1hidden(num_neurons_layer1,X_train_clnd)\n",
    "    if num_of_layers == 2:\n",
    "        model = base_architecture_2hidden(num_neurons_layer1,num_neurons_layer2,X_train_clnd)\n",
    "    if num_of_layers == 3:\n",
    "        model = base_architecture_3hidden(num_neurons_layer1,num_neurons_layer2,\n",
    "                                          num_neurons_layer3,X_train_clnd)\n",
    "    if num_of_layers == 4:\n",
    "        model = base_architecture_4hidden(num_neurons_layer1,num_neurons_layer2,\n",
    "                                          num_neurons_layer3,num_neurons_layer4,\n",
    "                                          X_train_clnd)\n",
    "        \n",
    "    model.compile(loss='mean_squared_error', optimizer='adam', metrics=['mse'])\n",
    "    \n",
    "    model.fit(X_train_clnd, Y_train_clnd, epochs=epoch, batch_size=batch_sizes, verbose=0)\n",
    "\n",
    "    # Make prediction for both training and testing datasets\n",
    "    Y_train_predicted = model.predict(X_train_clnd).flatten()\n",
    "    Y_test_predicted = model.predict(X_test_clnd).flatten()\n",
    "\n",
    "    # These keep track of MSE for testing and training datasets for each polynomial order considered\n",
    "    mse_train.append(mean_squared_error(Y_train_clnd, Y_train_predicted))\n",
    "    mse_test.append(mean_squared_error(Y_test_clnd, Y_test_predicted))\n",
    "\n",
    "# Below plots the “mse vs. degree”\n",
    "plt.figure(figsize=(10, 6))\n",
    "plt.plot(layerList, mse_test, \"ro-\", alpha=1.0, linewidth=1.0, label=\"Test MSE\")\n",
    "plt.plot(layerList, mse_train, \"bo-\", alpha=1.0, linewidth=1.0, label=\"Train MSE\")    \n",
    "plt.legend(loc=\"best\", fontsize=14) \n",
    "plt.xlabel(\"Number of Hidden Layers\")\n",
    "plt.ylabel(\"MSE\")\n",
    "plt.title(\"MSE for Varying Number of Hidden Layers\")\n",
    "plt.show()"
   ]
  },
  {
   "cell_type": "markdown",
   "metadata": {},
   "source": [
    "From the above we choose to use 2 hidden layers"
   ]
  },
  {
   "cell_type": "code",
   "execution_count": 83,
   "metadata": {},
   "outputs": [],
   "source": [
    "# Choose values to examine for hyperparameter optimization\n",
    "epoch_list = [10, 50, 100]\n",
    "batch_sizes = [10, 50, 100]\n",
    "num_neurons_layer1_list = [100, 200, 500]\n",
    "num_neurons_layer2_list = [50, 100, 200]"
   ]
  },
  {
   "cell_type": "markdown",
   "metadata": {},
   "source": [
    "Note that to check the cross-validation you need to uncomment the below box.<br>\n",
    "It has been commented out for ease of investigation, as optimization only needs to be run once."
   ]
  },
  {
   "cell_type": "code",
   "execution_count": 84,
   "metadata": {
    "scrolled": true
   },
   "outputs": [],
   "source": [
    "# # We now use k-fold cross-validation to find the optimal hyperparameters\n",
    "# input_dims = X_train_clnd.shape[1]\n",
    "# seed = 42\n",
    "# kfold = KFold(n_splits=6, random_state=seed)\n",
    "# cvscores=[]\n",
    "# kfold = KFold(n_splits=5, shuffle=True, random_state=seed)\n",
    "\n",
    "# model_performance_list = np.empty([1,5]) # Initialize as empty\n",
    "# num_comb = len(epoch_list)*len(batch_sizes)*len(num_neurons_layer1_list)*len(num_neurons_layer2_list)\n",
    "# count=1\n",
    "# for epoch in epoch_list:\n",
    "#     for curr_batch_size in batch_sizes:\n",
    "#         for num_neurons_l1 in num_neurons_layer1_list:\n",
    "#             for num_neurons_l2 in num_neurons_layer2_list:\n",
    "#                 print('Looking at combination %i of %i' %(count,num_comb))\n",
    "#                 count+=1\n",
    "\n",
    "#                 model = base_architecture_2hidden(num_neurons_l1,num_neurons_l2,X_train_clnd)\n",
    "#                 model.compile(loss='mean_squared_error', optimizer='adam', metrics=['mse'])\n",
    "\n",
    "#                 curr_score_list = []\n",
    "#                 count_fold = 1\n",
    "#                 for train, test in kfold.split(X_train_clnd, Y_train_clnd):\n",
    "\n",
    "#                     count_fold += 1\n",
    "\n",
    "#                     model.fit(X_train_clnd[train], Y_train_clnd[train],\n",
    "#                                        epochs=epoch, batch_size=curr_batch_size, verbose=0)\n",
    "#                     scores = model.evaluate(X_train_clnd[test], Y_train_clnd[test], verbose=0)\n",
    "#                     curr_score_list.append(scores[1])\n",
    "#                 curr_avg_score = np.mean(curr_score_list)\n",
    "\n",
    "#                 model_performance_list=np.vstack((model_performance_list,\n",
    "#                                               [epoch,curr_batch_size,num_neurons_l1,\n",
    "#                                                num_neurons_l2,curr_avg_score]))\n",
    "    \n",
    "# # Remove first row from model_performance_list as it contained the random values used to initialize it\n",
    "# model_performance_list=np.delete(model_performance_list, [0], axis=0)\n",
    "# # Save full output of s-fold cross-validation to disk for use in report\n",
    "# df_s_fold = pd.DataFrame(model_performance_list,\n",
    "#                          columns=['Epoch', 'Batch Size', 'Number of Neurons-Layer1',\n",
    "#                                   'Number of Neurons-Layer2','Test MSE'])\n",
    "# # df_s_fold.to_csv(reposLink + '/' 'df_s_fold-batch_grad.csv')\n",
    "\n",
    "# print('\\n')\n",
    "# print(df_s_fold)\n",
    "\n",
    "# # Replace any inf or nan with np.nan for dropping in next step\n",
    "# df_s_fold=df_s_fold.replace('inf', np.nan)\n",
    "# df_s_fold=df_s_fold.replace('nan', np.nan)\n",
    "# # Now drop all rows containing NaN\n",
    "# df_s_fold=df_s_fold.dropna()\n",
    "# print('\\n')\n",
    "# print('Below are the values corresponding to the smallest MSE from the testing sets during cross-validation')\n",
    "# # Now find row index corresponding to lowest MSE from testing sets\n",
    "# print(df_s_fold[df_s_fold['Test MSE']==df_s_fold['Test MSE'].min()])"
   ]
  },
  {
   "cell_type": "markdown",
   "metadata": {},
   "source": [
    "Here are the optimal hyperparameters we will use:<br>\n",
    "\n",
    "Optimal MSE = 8.061209 <br>\n",
    "epoch = 50 <br>\n",
    "batch_sizes = 10 <br>\n",
    "num_neurons_layer1 = 100 <br>\n",
    "num_neurons_layer2 = 100 <br>"
   ]
  },
  {
   "cell_type": "code",
   "execution_count": 85,
   "metadata": {},
   "outputs": [],
   "source": [
    "# Below are the chosen hyperparameters\n",
    "epoch = 50 \n",
    "batch_sizes = 10 \n",
    "num_neurons_layer1 = 100 \n",
    "num_neurons_layer2 = 100 "
   ]
  },
  {
   "cell_type": "code",
   "execution_count": 86,
   "metadata": {},
   "outputs": [
    {
     "data": {
      "text/plain": [
       "<keras.callbacks.History at 0x1a34f9d6d8>"
      ]
     },
     "execution_count": 86,
     "metadata": {},
     "output_type": "execute_result"
    }
   ],
   "source": [
    "# Now fit the model with the optimal hyperparameters\n",
    "model = base_architecture_2hidden(num_neurons_layer1,num_neurons_layer2,X_train_clnd)\n",
    "model.compile(loss='mean_squared_error', optimizer='adam', metrics=['mse'])\n",
    "model.fit(X_train_clnd, Y_train_clnd, epochs=epoch, batch_size=batch_sizes, verbose=0)"
   ]
  },
  {
   "cell_type": "code",
   "execution_count": 87,
   "metadata": {},
   "outputs": [
    {
     "name": "stdout",
     "output_type": "stream",
     "text": [
      "The mean squared error of this prediction is 7.830852\n",
      "The r^2 value for this prediction is 0.323306\n"
     ]
    }
   ],
   "source": [
    "Y_test_pred = model.predict(X_test_clnd).flatten()\n",
    "\n",
    "print('The mean squared error of this prediction is %f' %mean_squared_error(Y_test_clnd, Y_test_pred))\n",
    "print('The r^2 value for this prediction is %f' %r2_score(Y_test_clnd,Y_test_pred))"
   ]
  },
  {
   "cell_type": "code",
   "execution_count": 88,
   "metadata": {},
   "outputs": [],
   "source": [
    "# Now use this to fill in actual data in the main model and use polynomial regression\n",
    "# to make a prediction on the actual target (taxvaluedollarcnt)\n",
    "\n",
    "# Create dataframe with all rows not missing any values for imputation target\n",
    "data_present_df = imputational_model[pd.notnull(imputational_model['Post Month'])]\n",
    "\n",
    "# Pull out full target Vector and full feature matrix\n",
    "Y_full = imputational_model['Post Month'].values\n",
    "X_full = imputational_model.drop(columns='Post Month').values\n",
    "\n",
    "# Now create target and feature arrays for both cases\n",
    "Y_present = data_present_df['Post Month'].values\n",
    "X_present = data_present_df.drop(columns='Post Month').values\n",
    "\n",
    "# Using above-found hyperparameters we fit our data, using the \n",
    "model = base_architecture_2hidden(num_neurons_layer1,num_neurons_layer2,X_present)\n",
    "model.compile(loss='mean_squared_error', optimizer='adam', metrics=['mse'])\n",
    "model.fit(X_present, Y_present, epochs=epoch, batch_size=batch_sizes, verbose=0)\n",
    "\n",
    "# Now make a prediction for the missing values in the imputation target\n",
    "Y_full_pred = model.predict(X_full)\n",
    "\n",
    "# Now replace missing values in Y_full with their predicted values\n",
    "for row in range(len(Y_full)):\n",
    "    if math.isnan(Y_full[row]):\n",
    "        Y_full[row] = Y_full_pred[row]"
   ]
  },
  {
   "cell_type": "code",
   "execution_count": 89,
   "metadata": {},
   "outputs": [
    {
     "data": {
      "text/html": [
       "<div>\n",
       "<style scoped>\n",
       "    .dataframe tbody tr th:only-of-type {\n",
       "        vertical-align: middle;\n",
       "    }\n",
       "\n",
       "    .dataframe tbody tr th {\n",
       "        vertical-align: top;\n",
       "    }\n",
       "\n",
       "    .dataframe thead th {\n",
       "        text-align: right;\n",
       "    }\n",
       "</style>\n",
       "<table border=\"1\" class=\"dataframe\">\n",
       "  <thead>\n",
       "    <tr style=\"text-align: right;\">\n",
       "      <th></th>\n",
       "      <th>Page total likes</th>\n",
       "      <th>type_Status</th>\n",
       "      <th>Lifetime Post Consumers</th>\n",
       "      <th>Post Hour</th>\n",
       "      <th>Lifetime Post Consumptions</th>\n",
       "      <th>Post Month</th>\n",
       "    </tr>\n",
       "  </thead>\n",
       "  <tbody>\n",
       "    <tr>\n",
       "      <th>Tot_Null</th>\n",
       "      <td>0</td>\n",
       "      <td>0</td>\n",
       "      <td>0</td>\n",
       "      <td>0</td>\n",
       "      <td>0</td>\n",
       "      <td>0</td>\n",
       "    </tr>\n",
       "    <tr>\n",
       "      <th>Tot_Not_Null</th>\n",
       "      <td>500</td>\n",
       "      <td>500</td>\n",
       "      <td>500</td>\n",
       "      <td>500</td>\n",
       "      <td>500</td>\n",
       "      <td>500</td>\n",
       "    </tr>\n",
       "    <tr>\n",
       "      <th>Perc_Null</th>\n",
       "      <td>0</td>\n",
       "      <td>0</td>\n",
       "      <td>0</td>\n",
       "      <td>0</td>\n",
       "      <td>0</td>\n",
       "      <td>0</td>\n",
       "    </tr>\n",
       "  </tbody>\n",
       "</table>\n",
       "</div>"
      ],
      "text/plain": [
       "             Page total likes type_Status Lifetime Post Consumers Post Hour  \\\n",
       "Tot_Null                    0           0                       0         0   \n",
       "Tot_Not_Null              500         500                     500       500   \n",
       "Perc_Null                   0           0                       0         0   \n",
       "\n",
       "             Lifetime Post Consumptions Post Month  \n",
       "Tot_Null                              0          0  \n",
       "Tot_Not_Null                        500        500  \n",
       "Perc_Null                             0          0  "
      ]
     },
     "metadata": {},
     "output_type": "display_data"
    }
   ],
   "source": [
    "# We now make copy of the full model dataframe and drop all nan vaues from other features\n",
    "df_model_ANN = df_orig[model_list]\n",
    "\n",
    "# We now replace the Post Month in the above dataframe with the imputed one we just calculated\n",
    "df_model_ANN = df_model_ANN.drop(columns='Post Month')\n",
    "df_model_ANN['Post Month'] = Y_full\n",
    "\n",
    "nan_investigation(df_model_ANN)"
   ]
  },
  {
   "cell_type": "markdown",
   "metadata": {},
   "source": [
    "## Making Predictions On Actual Target Without Using Imputed Feature"
   ]
  },
  {
   "cell_type": "code",
   "execution_count": 90,
   "metadata": {},
   "outputs": [],
   "source": [
    "# First we use the actual data without imputation, just removing missing values, to see how well that does\n",
    "\n",
    "df_model_noImput = df_orig[model_list] # Includes all features, including target\n",
    "# Now drop any rows missing any values\n",
    "df_model_noImput.dropna(axis=0, how='any', thresh=None, inplace=True)\n",
    "\n",
    "Y = df_model_noImput['Post Month'].values\n",
    "X = df_model_noImput.drop(columns=['Post Month']).values\n",
    "\n",
    "# Scale this feature matrix\n",
    "scaler = StandardScaler().fit(X)\n",
    "X = scaler.transform(X)\n",
    "\n",
    "# Now separate into test and train portions, keeping 20% in the test\n",
    "X_train, X_test, Y_train, Y_test = train_test_split(X, Y, test_size = 0.2, random_state=42)"
   ]
  },
  {
   "cell_type": "markdown",
   "metadata": {},
   "source": [
    "With this model we now investigate the use of polynomial regression to make a prediction on the target"
   ]
  },
  {
   "cell_type": "code",
   "execution_count": 91,
   "metadata": {},
   "outputs": [
    {
     "name": "stdout",
     "output_type": "stream",
     "text": [
      "Modeling data using degree: 1\n",
      "Modeling data using degree: 2\n"
     ]
    },
    {
     "data": {
      "image/png": "[encoded data removed]",
      "text/plain": [
       "<Figure size 720x432 with 1 Axes>"
      ]
     },
     "metadata": {
      "needs_background": "light"
     },
     "output_type": "display_data"
    }
   ],
   "source": [
    "# We will first explore what order of polynomial may be the best predictor for the imputation target column\n",
    "# For figuring out optimal complexity we use the default options for the linear regressor\n",
    "\n",
    "degreeList = [1,2]\n",
    "vary_degree_plot(degreeList,X_train,Y_train,X_test,Y_test)"
   ]
  },
  {
   "cell_type": "code",
   "execution_count": 92,
   "metadata": {},
   "outputs": [],
   "source": [
    "# From the above results we have chosen an optimal polynomial model for imputing this missing data\n",
    "# We choose 2nd order\n",
    "poly_degree = 2\n",
    "\n",
    "# Add polynomial and bias term with the feature vector using the sklearn PolynomialFeatures class\n",
    "poly_features = PolynomialFeatures(degree=poly_degree)\n",
    "X_train = poly_features.fit_transform(X_train)\n",
    "X_test = poly_features.fit_transform(X_test)\n",
    "\n",
    "scaler = StandardScaler().fit(X_train)\n",
    "X_train = scaler.transform(X_train)\n",
    "scaler = StandardScaler().fit(X_test)\n",
    "X_test = scaler.transform(X_test)"
   ]
  },
  {
   "cell_type": "markdown",
   "metadata": {},
   "source": [
    "Note that to check the cross-validation you need to uncomment the below box.<br>\n",
    "It has been commented out for ease of investigation, as optimization only needs to be run once."
   ]
  },
  {
   "cell_type": "code",
   "execution_count": 93,
   "metadata": {},
   "outputs": [],
   "source": [
    "# # First do a grid search to optimize the model\n",
    "# param_grid = {'alpha': [0.1, 0.01, 0.001], 'learning_rate': [\"constant\", \"optimal\"], \n",
    "#               'l1_ratio': [1, 0.5, 0.2, 0], 'max_iter':[100, 400, 1000, 10000],\n",
    "#               'eta0': [0.01, 0.001, 0.1]}\n",
    "\n",
    "# sgd = SGDRegressor()\n",
    "\n",
    "# sgd_cv = GridSearchCV(sgd, param_grid, scoring='neg_mean_squared_error', cv=5,\n",
    "#                      n_jobs = -1, verbose = 2)\n",
    "# sgd_cv.fit(X_train, Y_train)\n",
    "\n",
    "# # print(\"Best Score (negative mean squared error): %f\" % sgd_cv.best_score_)\n",
    "# print(\"Optimal Hyperparameter Values: \", sgd_cv.best_params_)"
   ]
  },
  {
   "cell_type": "markdown",
   "metadata": {},
   "source": [
    "Here are the optimal hyperparameters we will use:<br>\n",
    "alpha_opt = 0.01 # Regularization Parameter<br>\n",
    "learning_rate_opt = 'constant' # (constant or updated during descent)<br>\n",
    "l1_ratio_opt = 1<br>\n",
    "max_iter_opt = 1000<br>\n",
    "eta0_opt = 0.001 # learning rate<br>\n",
    "penalty_opt = 'elasticnet' # Not chosen by cross-validation"
   ]
  },
  {
   "cell_type": "code",
   "execution_count": 94,
   "metadata": {},
   "outputs": [
    {
     "name": "stdout",
     "output_type": "stream",
     "text": [
      "The mean squared error of this prediction is 0.563023\n",
      "The r^2 value for this prediction is 0.952158\n"
     ]
    }
   ],
   "source": [
    "# Using these parameters create SGDRegressor linear regression object\n",
    "alpha_opt = 0.01 # Regularization Parameter\n",
    "learning_rate_opt = 'constant' # (constant or updated during descent)\n",
    "l1_ratio_opt = 1\n",
    "max_iter_opt = 1000\n",
    "eta0_opt = 0.001 # learning rate\n",
    "penalty_opt = 'elasticnet' # Not chosen by cross-validation\n",
    "\n",
    "# Below creates model based on above optimal parameters\n",
    "lin_reg_sgd = SGDRegressor(max_iter=max_iter_opt, learning_rate=learning_rate_opt,\n",
    "                           eta0=eta0_opt, penalty=penalty_opt, l1_ratio=l1_ratio_opt, alpha=alpha_opt)\n",
    "\n",
    "# Fit the new model\n",
    "lin_reg_sgd.fit(X_train, Y_train)\n",
    "\n",
    "Y_test_pred = lin_reg_sgd.predict(X_test)\n",
    "print('The mean squared error of this prediction is %f' %mean_squared_error(Y_test, Y_test_pred))\n",
    "print('The r^2 value for this prediction is %f' %r2_score(Y_test,Y_test_pred))"
   ]
  },
  {
   "cell_type": "markdown",
   "metadata": {},
   "source": [
    "## Make Predictions on Target Using Imputed Values From Mean Imputation"
   ]
  },
  {
   "cell_type": "code",
   "execution_count": 95,
   "metadata": {},
   "outputs": [],
   "source": [
    "# Create Feature and Target Arrays\n",
    "\n",
    "Y = df_model_Mean['Post Month'].values\n",
    "X = df_model_Mean.drop(columns=['Post Month']).values\n",
    "\n",
    "# Scale this feature matrix\n",
    "scaler = StandardScaler().fit(X)\n",
    "X = scaler.transform(X)\n",
    "\n",
    "# Now separate into test and train portions, keeping 20% in the test\n",
    "X_train, X_test, Y_train, Y_test = train_test_split(X, Y, test_size = 0.2, random_state=42)"
   ]
  },
  {
   "cell_type": "code",
   "execution_count": 96,
   "metadata": {},
   "outputs": [
    {
     "name": "stdout",
     "output_type": "stream",
     "text": [
      "Modeling data using degree: 1\n",
      "Modeling data using degree: 2\n",
      "Modeling data using degree: 3\n"
     ]
    },
    {
     "data": {
      "image/png": "[encoded data removed]",
      "text/plain": [
       "<Figure size 720x432 with 1 Axes>"
      ]
     },
     "metadata": {
      "needs_background": "light"
     },
     "output_type": "display_data"
    }
   ],
   "source": [
    "# We will first explore what order of polynomial may be the best predictor for the imputation target column\n",
    "# For figuring out optimal complexity we use the default options for the linear regressor\n",
    "\n",
    "degreeList = [1,2,3]\n",
    "vary_degree_plot(degreeList,X_train,Y_train,X_test,Y_test)"
   ]
  },
  {
   "cell_type": "code",
   "execution_count": 97,
   "metadata": {},
   "outputs": [],
   "source": [
    "# From the above results we have chosen an optimal polynomial model for imputing this missing data\n",
    "# We choose 1st order\n",
    "poly_degree = 1\n",
    "\n",
    "# Add polynomial and bias term with the feature vector using the sklearn PolynomialFeatures class\n",
    "poly_features = PolynomialFeatures(degree=poly_degree)\n",
    "X_train = poly_features.fit_transform(X_train)\n",
    "X_test = poly_features.fit_transform(X_test)\n",
    "\n",
    "scaler = StandardScaler().fit(X_train)\n",
    "X_train = scaler.transform(X_train)\n",
    "scaler = StandardScaler().fit(X_test)\n",
    "X_test = scaler.transform(X_test)"
   ]
  },
  {
   "cell_type": "markdown",
   "metadata": {},
   "source": [
    "Note that to check the cross-validation you need to uncomment the below box.<br>\n",
    "It has been commented out for ease of investigation, as optimization only needs to be run once."
   ]
  },
  {
   "cell_type": "code",
   "execution_count": 98,
   "metadata": {},
   "outputs": [],
   "source": [
    "# # First do a grid search to optimize the model\n",
    "# param_grid = {'alpha': [0.1, 0.01, 0.001], 'learning_rate': [\"constant\", \"optimal\"], \n",
    "#               'l1_ratio': [1, 0.5, 0.2, 0], 'max_iter':[100, 400, 1000, 10000],\n",
    "#               'eta0': [0.01, 0.001, 0.1]}\n",
    "\n",
    "# sgd = SGDRegressor()\n",
    "\n",
    "# sgd_cv = GridSearchCV(sgd, param_grid, scoring='neg_mean_squared_error', cv=5,\n",
    "#                      n_jobs = -1, verbose = 2)\n",
    "# sgd_cv.fit(X_train, Y_train)\n",
    "\n",
    "# # print(\"Best Score (negative mean squared error): %f\" % sgd_cv.best_score_)\n",
    "# print(\"Optimal Hyperparameter Values: \", sgd_cv.best_params_)"
   ]
  },
  {
   "cell_type": "markdown",
   "metadata": {},
   "source": [
    "Here are the optimal hyperparameters we will use:<br>\n",
    "alpha_opt = 0.01 # Regularization Parameter<br>\n",
    "eta0_opt = 0.001 # learning rate<br>\n",
    "l1_ratio_opt = 0.2<br>\n",
    "learning_rate_opt = 'optimal' # (constant or updated during descent)<br>\n",
    "max_iter_opt = 100<br>\n",
    "penalty_opt = 'elasticnet' # Not chosen by cross-validation"
   ]
  },
  {
   "cell_type": "code",
   "execution_count": 99,
   "metadata": {},
   "outputs": [
    {
     "name": "stdout",
     "output_type": "stream",
     "text": [
      "The mean squared error of this prediction is 3.872657\n",
      "The r^2 value for this prediction is 0.425182\n"
     ]
    }
   ],
   "source": [
    "# Using these parameters create SGDRegressor linear regression object\n",
    "alpha_opt = 0.01 # Regularization Parameter\n",
    "eta0_opt = 0.001 # learning rate\n",
    "l1_ratio_opt = 0.2\n",
    "learning_rate_opt = 'optimal' # (constant or updated during descent)\n",
    "max_iter_opt = 100\n",
    "penalty_opt = 'elasticnet' # Not chosen by cross-validation\n",
    "\n",
    "# Below creates model based on above optimal parameters\n",
    "lin_reg_sgd = SGDRegressor(max_iter=max_iter_opt, learning_rate=learning_rate_opt,\n",
    "                           eta0=eta0_opt, penalty=penalty_opt, l1_ratio=l1_ratio_opt, alpha=alpha_opt)\n",
    "\n",
    "# Fit the new model\n",
    "lin_reg_sgd.fit(X_train, Y_train)\n",
    "\n",
    "Y_test_pred = lin_reg_sgd.predict(X_test)\n",
    "print('The mean squared error of this prediction is %f' %mean_squared_error(Y_test, Y_test_pred))\n",
    "print('The r^2 value for this prediction is %f' %r2_score(Y_test,Y_test_pred))"
   ]
  },
  {
   "cell_type": "markdown",
   "metadata": {},
   "source": [
    "## Make Predictions on Target Using Imputed Values From Expectation Maximization"
   ]
  },
  {
   "cell_type": "code",
   "execution_count": 100,
   "metadata": {},
   "outputs": [],
   "source": [
    "# Create Feature and Target Arrays\n",
    "\n",
    "Y = df_model_EM['Post Month'].values\n",
    "X = df_model_EM.drop(columns=['Post Month']).values\n",
    "\n",
    "# Scale this feature matrix\n",
    "scaler = StandardScaler().fit(X)\n",
    "X = scaler.transform(X)\n",
    "\n",
    "# Now separate into test and train portions, keeping 20% in the test\n",
    "X_train, X_test, Y_train, Y_test = train_test_split(X, Y, test_size = 0.2, random_state=42)"
   ]
  },
  {
   "cell_type": "code",
   "execution_count": 101,
   "metadata": {},
   "outputs": [
    {
     "name": "stdout",
     "output_type": "stream",
     "text": [
      "Modeling data using degree: 1\n",
      "Modeling data using degree: 2\n",
      "Modeling data using degree: 3\n"
     ]
    },
    {
     "data": {
      "image/png": "[encoded data removed]",
      "text/plain": [
       "<Figure size 720x432 with 1 Axes>"
      ]
     },
     "metadata": {
      "needs_background": "light"
     },
     "output_type": "display_data"
    }
   ],
   "source": [
    "# We will first explore what order of polynomial may be the best predictor for the imputation target column\n",
    "# For figuring out optimal complexity we use the default options for the linear regressor\n",
    "\n",
    "degreeList = [1,2,3]\n",
    "vary_degree_plot(degreeList,X_train,Y_train,X_test,Y_test)"
   ]
  },
  {
   "cell_type": "code",
   "execution_count": 102,
   "metadata": {},
   "outputs": [],
   "source": [
    "# From the above results we have chosen an optimal polynomial model for imputing this missing data\n",
    "poly_degree = 1\n",
    "\n",
    "# Add polynomial and bias term with the feature vector using the sklearn PolynomialFeatures class\n",
    "poly_features = PolynomialFeatures(degree=poly_degree)\n",
    "X_train = poly_features.fit_transform(X_train)\n",
    "X_test = poly_features.fit_transform(X_test)\n",
    "\n",
    "scaler = StandardScaler().fit(X_train)\n",
    "X_train = scaler.transform(X_train)\n",
    "scaler = StandardScaler().fit(X_test)\n",
    "X_test = scaler.transform(X_test)"
   ]
  },
  {
   "cell_type": "markdown",
   "metadata": {},
   "source": [
    "Note that to check the cross-validation you need to uncomment the below box.<br>\n",
    "It has been commented out for ease of investigation, as optimization only needs to be run once."
   ]
  },
  {
   "cell_type": "code",
   "execution_count": 103,
   "metadata": {},
   "outputs": [],
   "source": [
    "# # First do a grid search to optimize the model\n",
    "# param_grid = {'alpha': [0.1, 0.01, 0.001], 'learning_rate': [\"constant\", \"optimal\"], \n",
    "#               'l1_ratio': [1, 0.5, 0.2, 0], 'max_iter':[100, 400, 1000, 10000],\n",
    "#               'eta0': [0.01, 0.001, 0.1]}\n",
    "\n",
    "# sgd = SGDRegressor()\n",
    "\n",
    "# sgd_cv = GridSearchCV(sgd, param_grid, scoring='neg_mean_squared_error', cv=5,\n",
    "#                      n_jobs = -1, verbose = 2)\n",
    "# sgd_cv.fit(X_train, Y_train)\n",
    "\n",
    "# # print(\"Best Score (negative mean squared error): %f\" % sgd_cv.best_score_)\n",
    "# print(\"Optimal Hyperparameter Values: \", sgd_cv.best_params_)"
   ]
  },
  {
   "cell_type": "markdown",
   "metadata": {},
   "source": [
    "Here are the optimal hyperparameters we will use:<br>\n",
    "alpha_opt = 0.01 # Regularization Parameter<br>\n",
    "eta0_opt = 0.01 # learning rate<br>\n",
    "l1_ratio_opt = 0.2 <br>\n",
    "learning_rate_opt = 'constant' # (constant or updated during descent)<br>\n",
    "max_iter_opt = 1000 <br>\n",
    "penalty_opt = 'elasticnet' # Not chosen by cross-validation"
   ]
  },
  {
   "cell_type": "code",
   "execution_count": 104,
   "metadata": {},
   "outputs": [
    {
     "name": "stdout",
     "output_type": "stream",
     "text": [
      "The mean squared error of this prediction is 4.178993\n",
      "The r^2 value for this prediction is 0.424720\n"
     ]
    }
   ],
   "source": [
    "# Using these parameters create SGDRegressor linear regression object\n",
    "alpha_opt = 0.01 # Regularization Parameter\n",
    "eta0_opt = 0.01 # learning rate\n",
    "l1_ratio_opt = 0.2 \n",
    "learning_rate_opt = 'constant' # (constant or updated during descent)\n",
    "max_iter_opt = 1000 \n",
    "penalty_opt = 'elasticnet' # Not chosen by cross-validation\n",
    "\n",
    "# Below creates model based on above optimal parameters\n",
    "lin_reg_sgd = SGDRegressor(max_iter=max_iter_opt, learning_rate=learning_rate_opt,\n",
    "                           eta0=eta0_opt, penalty=penalty_opt, l1_ratio=l1_ratio_opt, alpha=alpha_opt)\n",
    "\n",
    "# Fit the new model\n",
    "lin_reg_sgd.fit(X_train, Y_train)\n",
    "\n",
    "Y_test_pred = lin_reg_sgd.predict(X_test)\n",
    "print('The mean squared error of this prediction is %f' %mean_squared_error(Y_test, Y_test_pred))\n",
    "print('The r^2 value for this prediction is %f' %r2_score(Y_test,Y_test_pred))"
   ]
  },
  {
   "cell_type": "markdown",
   "metadata": {},
   "source": [
    "## Make Predictions on Target Using Imputed Values From KNN Imputation"
   ]
  },
  {
   "cell_type": "code",
   "execution_count": 105,
   "metadata": {},
   "outputs": [],
   "source": [
    "# Create Feature and Target Arrays\n",
    "\n",
    "Y = df_model_KNN['Post Month'].values\n",
    "X = df_model_KNN.drop(columns=['Post Month']).values\n",
    "\n",
    "# Scale this feature matrix\n",
    "scaler = StandardScaler().fit(X)\n",
    "X = scaler.transform(X)\n",
    "\n",
    "# Now separate into test and train portions, keeping 20% in the test\n",
    "X_train, X_test, Y_train, Y_test = train_test_split(X, Y, test_size = 0.2, random_state=42)"
   ]
  },
  {
   "cell_type": "code",
   "execution_count": 106,
   "metadata": {},
   "outputs": [
    {
     "name": "stdout",
     "output_type": "stream",
     "text": [
      "Modeling data using degree: 1\n",
      "Modeling data using degree: 2\n"
     ]
    },
    {
     "data": {
      "image/png": "[encoded data removed]",
      "text/plain": [
       "<Figure size 720x432 with 1 Axes>"
      ]
     },
     "metadata": {
      "needs_background": "light"
     },
     "output_type": "display_data"
    }
   ],
   "source": [
    "# We will first explore what order of polynomial may be the best predictor for the imputation target column\n",
    "# For figuring out optimal complexity we use the default options for the linear regressor\n",
    "\n",
    "degreeList = [1,2]\n",
    "vary_degree_plot(degreeList,X_train,Y_train,X_test,Y_test)"
   ]
  },
  {
   "cell_type": "code",
   "execution_count": 107,
   "metadata": {},
   "outputs": [],
   "source": [
    "# From the above results we have chosen an optimal polynomial model for imputing this missing data\n",
    "# We choose 1st order\n",
    "poly_degree = 1\n",
    "\n",
    "# Add polynomial and bias term with the feature vector using the sklearn PolynomialFeatures class\n",
    "poly_features = PolynomialFeatures(degree=poly_degree)\n",
    "X_train = poly_features.fit_transform(X_train)\n",
    "X_test = poly_features.fit_transform(X_test)\n",
    "\n",
    "scaler = StandardScaler().fit(X_train)\n",
    "X_train = scaler.transform(X_train)\n",
    "scaler = StandardScaler().fit(X_test)\n",
    "X_test = scaler.transform(X_test)"
   ]
  },
  {
   "cell_type": "markdown",
   "metadata": {},
   "source": [
    "Note that to check the cross-validation you need to uncomment the below box.<br>\n",
    "It has been commented out for ease of investigation, as optimization only needs to be run once."
   ]
  },
  {
   "cell_type": "code",
   "execution_count": 108,
   "metadata": {},
   "outputs": [],
   "source": [
    "# # First do a grid search to optimize the model\n",
    "# param_grid = {'alpha': [0.1, 0.01, 0.001], 'learning_rate': [\"constant\", \"optimal\"], \n",
    "#               'l1_ratio': [1, 0.5, 0.2, 0], 'max_iter':[100, 400, 1000, 10000],\n",
    "#               'eta0': [0.01, 0.001, 0.1]}\n",
    "\n",
    "# sgd = SGDRegressor()\n",
    "\n",
    "# sgd_cv = GridSearchCV(sgd, param_grid, scoring='neg_mean_squared_error', cv=5,\n",
    "#                      n_jobs = -1, verbose = 2)\n",
    "# sgd_cv.fit(X_train, Y_train)\n",
    "\n",
    "# # print(\"Best Score (negative mean squared error): %f\" % sgd_cv.best_score_)\n",
    "# print(\"Optimal Hyperparameter Values: \", sgd_cv.best_params_)"
   ]
  },
  {
   "cell_type": "markdown",
   "metadata": {},
   "source": [
    "Here are the optimal hyperparameters we will use:<br>\n",
    "alpha_opt = 0.001 # Regularization Parameter<br>\n",
    "learning_rate_opt = 'optimal' # (constant or updated during descent)<br>\n",
    "l1_ratio_opt = 0.5<br>\n",
    "max_iter_opt = 400<br>\n",
    "eta0_opt = 0.1 # learning rate<br>\n",
    "penalty_opt = 'elasticnet' # Not chosen by cross-validation"
   ]
  },
  {
   "cell_type": "code",
   "execution_count": 109,
   "metadata": {},
   "outputs": [
    {
     "name": "stdout",
     "output_type": "stream",
     "text": [
      "The mean squared error of this prediction is 4.445885\n",
      "The r^2 value for this prediction is 0.387980\n"
     ]
    }
   ],
   "source": [
    "# Using these parameters create SGDRegressor linear regression object\n",
    "alpha_opt = 0.001 # Regularization Parameter\n",
    "learning_rate_opt = 'optimal' # (constant or updated during descent)\n",
    "l1_ratio_opt = 0.5\n",
    "max_iter_opt = 400\n",
    "eta0_opt = 0.1 # learning rate\n",
    "penalty_opt = 'elasticnet' # Not chosen by cross-validation\n",
    "\n",
    "# Below creates model based on above optimal parameters\n",
    "lin_reg_sgd = SGDRegressor(max_iter=max_iter_opt, learning_rate=learning_rate_opt,\n",
    "                           eta0=eta0_opt, penalty=penalty_opt, l1_ratio=l1_ratio_opt, alpha=alpha_opt)\n",
    "\n",
    "# Fit the new model\n",
    "lin_reg_sgd.fit(X_train, Y_train)\n",
    "\n",
    "Y_test_pred = lin_reg_sgd.predict(X_test)\n",
    "print('The mean squared error of this prediction is %f' %mean_squared_error(Y_test, Y_test_pred))\n",
    "print('The r^2 value for this prediction is %f' %r2_score(Y_test,Y_test_pred))"
   ]
  },
  {
   "cell_type": "markdown",
   "metadata": {},
   "source": [
    "## Make Predictions on Target Using Imputed Values From Polynomial Regression Imputation"
   ]
  },
  {
   "cell_type": "code",
   "execution_count": 110,
   "metadata": {},
   "outputs": [],
   "source": [
    "# Create Feature and Target Arrays\n",
    "\n",
    "Y = df_model_linReg['Post Month'].values\n",
    "X = df_model_linReg.drop(columns=['Post Month']).values\n",
    "\n",
    "# Scale this feature matrix\n",
    "scaler = StandardScaler().fit(X)\n",
    "X = scaler.transform(X)\n",
    "\n",
    "# Now separate into test and train portions, keeping 20% in the test\n",
    "X_train, X_test, Y_train, Y_test = train_test_split(X, Y, test_size = 0.2, random_state=42)"
   ]
  },
  {
   "cell_type": "code",
   "execution_count": 111,
   "metadata": {},
   "outputs": [
    {
     "name": "stdout",
     "output_type": "stream",
     "text": [
      "Modeling data using degree: 1\n",
      "Modeling data using degree: 2\n"
     ]
    },
    {
     "data": {
      "image/png": "[encoded data removed]",
      "text/plain": [
       "<Figure size 720x432 with 1 Axes>"
      ]
     },
     "metadata": {
      "needs_background": "light"
     },
     "output_type": "display_data"
    }
   ],
   "source": [
    "# We will first explore what order of polynomial may be the best predictor for the imputation target column\n",
    "# For figuring out optimal complexity we use the default options for the linear regressor\n",
    "\n",
    "degreeList = [1,2]\n",
    "vary_degree_plot(degreeList,X_train,Y_train,X_test,Y_test)"
   ]
  },
  {
   "cell_type": "markdown",
   "metadata": {},
   "source": [
    "The above looks like overfitting beginning with order 2, so we will use 1st order regression."
   ]
  },
  {
   "cell_type": "code",
   "execution_count": 112,
   "metadata": {},
   "outputs": [],
   "source": [
    "# From the above results we have chosen an optimal polynomial model for imputing this missing data\n",
    "# We choose 1st order\n",
    "poly_degree = 1\n",
    "\n",
    "# Add polynomial and bias term with the feature vector using the sklearn PolynomialFeatures class\n",
    "poly_features = PolynomialFeatures(degree=poly_degree)\n",
    "X_train = poly_features.fit_transform(X_train)\n",
    "X_test = poly_features.fit_transform(X_test)\n",
    "\n",
    "scaler = StandardScaler().fit(X_train)\n",
    "X_train = scaler.transform(X_train)\n",
    "scaler = StandardScaler().fit(X_test)\n",
    "X_test = scaler.transform(X_test)"
   ]
  },
  {
   "cell_type": "markdown",
   "metadata": {},
   "source": [
    "Note that to check the cross-validation you need to uncomment the below box.<br>\n",
    "It has been commented out for ease of investigation, as optimization only needs to be run once."
   ]
  },
  {
   "cell_type": "code",
   "execution_count": 113,
   "metadata": {},
   "outputs": [],
   "source": [
    "# # First do a grid search to optimize the model\n",
    "# param_grid = {'alpha': [0.1, 0.01, 0.001], 'learning_rate': [\"constant\", \"optimal\"], \n",
    "#               'l1_ratio': [1, 0.5, 0.2, 0], 'max_iter':[100, 400, 1000, 10000],\n",
    "#               'eta0': [0.01, 0.001, 0.1]}\n",
    "\n",
    "# sgd = SGDRegressor()\n",
    "\n",
    "# sgd_cv = GridSearchCV(sgd, param_grid, scoring='neg_mean_squared_error', cv=5,\n",
    "#                      n_jobs = -1, verbose = 2)\n",
    "# sgd_cv.fit(X_train, Y_train)\n",
    "\n",
    "# # print(\"Best Score (negative mean squared error): %f\" % sgd_cv.best_score_)\n",
    "# print(\"Optimal Hyperparameter Values: \", sgd_cv.best_params_)"
   ]
  },
  {
   "cell_type": "markdown",
   "metadata": {},
   "source": [
    "Here are the optimal hyperparameters we will use:<br>\n",
    "alpha_opt = 0.1 # Regularization Parameter<br>\n",
    "eta0_opt = 0.01 # learning rate<br>\n",
    "l1_ratio_opt = 0.5<br>\n",
    "learning_rate_opt = 'constant' # (constant or updated during descent)<br>\n",
    "max_iter_opt = 1000<br>\n",
    "penalty_opt = 'elasticnet' # Not chosen by cross-validation"
   ]
  },
  {
   "cell_type": "code",
   "execution_count": 114,
   "metadata": {},
   "outputs": [
    {
     "name": "stdout",
     "output_type": "stream",
     "text": [
      "The mean squared error of this prediction is 4.278157\n",
      "The r^2 value for this prediction is 0.411069\n"
     ]
    }
   ],
   "source": [
    "# Using these parameters create SGDRegressor linear regression object\n",
    "alpha_opt = 0.1 # Regularization Parameter\n",
    "eta0_opt = 0.01 # learning rate\n",
    "l1_ratio_opt = 0.5\n",
    "learning_rate_opt = 'constant' # (constant or updated during descent)\n",
    "max_iter_opt = 1000\n",
    "penalty_opt = 'elasticnet' # Not chosen by cross-validation\n",
    "\n",
    "# Below creates model based on above optimal parameters\n",
    "lin_reg_sgd = SGDRegressor(max_iter=max_iter_opt, learning_rate=learning_rate_opt,\n",
    "                           eta0=eta0_opt, penalty=penalty_opt, l1_ratio=l1_ratio_opt, alpha=alpha_opt)\n",
    "\n",
    "# Fit the new model\n",
    "lin_reg_sgd.fit(X_train, Y_train)\n",
    "\n",
    "Y_test_pred = lin_reg_sgd.predict(X_test)\n",
    "print('The mean squared error of this prediction is %f' %mean_squared_error(Y_test, Y_test_pred))\n",
    "print('The r^2 value for this prediction is %f' %r2_score(Y_test,Y_test_pred))"
   ]
  },
  {
   "cell_type": "markdown",
   "metadata": {},
   "source": [
    "## Make Predictions on Target Using Imputed Values From Random Forest Imputation"
   ]
  },
  {
   "cell_type": "code",
   "execution_count": 115,
   "metadata": {},
   "outputs": [],
   "source": [
    "# Create Feature and Target Arrays\n",
    "\n",
    "Y = df_model_randForest['Post Month'].values\n",
    "X = df_model_randForest.drop(columns=['Post Month']).values\n",
    "\n",
    "# Scale this feature matrix\n",
    "scaler = StandardScaler().fit(X)\n",
    "X = scaler.transform(X)\n",
    "\n",
    "# Now separate into test and train portions, keeping 20% in the test\n",
    "X_train, X_test, Y_train, Y_test = train_test_split(X, Y, test_size = 0.2, random_state=42)"
   ]
  },
  {
   "cell_type": "code",
   "execution_count": 116,
   "metadata": {},
   "outputs": [
    {
     "name": "stdout",
     "output_type": "stream",
     "text": [
      "Modeling data using degree: 1\n",
      "Modeling data using degree: 2\n"
     ]
    },
    {
     "data": {
      "image/png": "[encoded data removed]",
      "text/plain": [
       "<Figure size 720x432 with 1 Axes>"
      ]
     },
     "metadata": {
      "needs_background": "light"
     },
     "output_type": "display_data"
    }
   ],
   "source": [
    "# We will first explore what order of polynomial may be the best predictor for the imputation target column\n",
    "# For figuring out optimal complexity we use the default options for the linear regressor\n",
    "\n",
    "degreeList = [1,2]\n",
    "vary_degree_plot(degreeList,X_train,Y_train,X_test,Y_test)"
   ]
  },
  {
   "cell_type": "markdown",
   "metadata": {},
   "source": [
    "This looks like overfitting beginning at order 2, so we will use 1st order regression."
   ]
  },
  {
   "cell_type": "code",
   "execution_count": 117,
   "metadata": {},
   "outputs": [],
   "source": [
    "# From the above results we have chosen an optimal polynomial model for imputing this missing data\n",
    "# We choose 1st order\n",
    "poly_degree = 1\n",
    "\n",
    "# Add polynomial and bias term with the feature vector using the sklearn PolynomialFeatures class\n",
    "poly_features = PolynomialFeatures(degree=poly_degree)\n",
    "X_train = poly_features.fit_transform(X_train)\n",
    "X_test = poly_features.fit_transform(X_test)\n",
    "\n",
    "scaler = StandardScaler().fit(X_train)\n",
    "X_train = scaler.transform(X_train)\n",
    "scaler = StandardScaler().fit(X_test)\n",
    "X_test = scaler.transform(X_test)"
   ]
  },
  {
   "cell_type": "markdown",
   "metadata": {},
   "source": [
    "Note that to check the cross-validation you need to uncomment the below box.<br>\n",
    "It has been commented out for ease of investigation, as optimization only needs to be run once."
   ]
  },
  {
   "cell_type": "code",
   "execution_count": 118,
   "metadata": {},
   "outputs": [],
   "source": [
    "# # First do a grid search to optimize the model\n",
    "# param_grid = {'alpha': [0.1, 0.01, 0.001], 'learning_rate': [\"constant\", \"optimal\"], \n",
    "#               'l1_ratio': [1, 0.5, 0.2, 0], 'max_iter':[100, 400, 1000, 10000],\n",
    "#               'eta0': [0.01, 0.001, 0.1]}\n",
    "\n",
    "# sgd = SGDRegressor()\n",
    "\n",
    "# sgd_cv = GridSearchCV(sgd, param_grid, scoring='neg_mean_squared_error', cv=5,\n",
    "#                      n_jobs = -1, verbose = 2)\n",
    "# sgd_cv.fit(X_train, Y_train)\n",
    "\n",
    "# # print(\"Best Score (negative mean squared error): %f\" % sgd_cv.best_score_)\n",
    "# print(\"Optimal Hyperparameter Values: \", sgd_cv.best_params_)"
   ]
  },
  {
   "cell_type": "markdown",
   "metadata": {},
   "source": [
    "Here are the optimal hyperparameters we will use:<br>\n",
    "alpha_opt = 0.01 # Regularization Parameter<br>\n",
    "eta0_opt = 0.01 # learning rate<br>\n",
    "l1_ratio_opt = 0.5<br>\n",
    "learning_rate_opt = 'constant' # (constant or updated during descent)<br>\n",
    "max_iter_opt = 10000<br>\n",
    "penalty_opt = 'elasticnet' # Not chosen by cross-validation"
   ]
  },
  {
   "cell_type": "code",
   "execution_count": 119,
   "metadata": {},
   "outputs": [
    {
     "name": "stdout",
     "output_type": "stream",
     "text": [
      "The mean squared error of this prediction is 4.491024\n",
      "The r^2 value for this prediction is 0.381766\n"
     ]
    }
   ],
   "source": [
    "# Using these parameters create SGDRegressor linear regression object\n",
    "alpha_opt = 0.01 # Regularization Parameter\n",
    "eta0_opt = 0.01 # learning rate\n",
    "l1_ratio_opt = 0.5\n",
    "learning_rate_opt = 'constant' # (constant or updated during descent)\n",
    "max_iter_opt = 10000\n",
    "penalty_opt = 'elasticnet' # Not chosen by cross-validation\n",
    "\n",
    "# Below creates model based on above optimal parameters\n",
    "lin_reg_sgd = SGDRegressor(max_iter=max_iter_opt, learning_rate=learning_rate_opt,\n",
    "                           eta0=eta0_opt, penalty=penalty_opt, l1_ratio=l1_ratio_opt, alpha=alpha_opt)\n",
    "\n",
    "# Fit the new model\n",
    "lin_reg_sgd.fit(X_train, Y_train)\n",
    "\n",
    "Y_test_pred = lin_reg_sgd.predict(X_test)\n",
    "print('The mean squared error of this prediction is %f' %mean_squared_error(Y_test, Y_test_pred))\n",
    "print('The r^2 value for this prediction is %f' %r2_score(Y_test,Y_test_pred))"
   ]
  },
  {
   "cell_type": "markdown",
   "metadata": {},
   "source": [
    "## Make Predictions on Target Using Imputed Values From ANN Imputation"
   ]
  },
  {
   "cell_type": "code",
   "execution_count": 120,
   "metadata": {},
   "outputs": [],
   "source": [
    "# Create Feature and Target Arrays\n",
    "\n",
    "Y = df_model_ANN['Post Month'].values\n",
    "X = df_model_ANN.drop(columns=['Post Month']).values\n",
    "\n",
    "# Scale this feature matrix\n",
    "scaler = StandardScaler().fit(X)\n",
    "X = scaler.transform(X)\n",
    "\n",
    "# Now separate into test and train portions, keeping 20% in the test\n",
    "X_train, X_test, Y_train, Y_test = train_test_split(X, Y, test_size = 0.2, random_state=42)"
   ]
  },
  {
   "cell_type": "code",
   "execution_count": 121,
   "metadata": {},
   "outputs": [
    {
     "name": "stdout",
     "output_type": "stream",
     "text": [
      "Modeling data using degree: 1\n",
      "Modeling data using degree: 2\n"
     ]
    },
    {
     "data": {
      "image/png": "[encoded data removed]",
      "text/plain": [
       "<Figure size 720x432 with 1 Axes>"
      ]
     },
     "metadata": {
      "needs_background": "light"
     },
     "output_type": "display_data"
    }
   ],
   "source": [
    "# We will first explore what order of polynomial may be the best predictor for the imputation target column\n",
    "# For figuring out optimal complexity we use the default options for the linear regressor\n",
    "\n",
    "degreeList = [1,2]\n",
    "vary_degree_plot(degreeList,X_train,Y_train,X_test,Y_test)"
   ]
  },
  {
   "cell_type": "markdown",
   "metadata": {},
   "source": [
    "This looks like overfitting beginning at order 2, so we will use 1st order regression."
   ]
  },
  {
   "cell_type": "code",
   "execution_count": 122,
   "metadata": {},
   "outputs": [],
   "source": [
    "# From the above results we have chosen an optimal polynomial model for imputing this missing data\n",
    "# We choose 1st order\n",
    "poly_degree = 1\n",
    "\n",
    "# Add polynomial and bias term with the feature vector using the sklearn PolynomialFeatures class\n",
    "poly_features = PolynomialFeatures(degree=poly_degree)\n",
    "X_train = poly_features.fit_transform(X_train)\n",
    "X_test = poly_features.fit_transform(X_test)\n",
    "\n",
    "scaler = StandardScaler().fit(X_train)\n",
    "X_train = scaler.transform(X_train)\n",
    "scaler = StandardScaler().fit(X_test)\n",
    "X_test = scaler.transform(X_test)"
   ]
  },
  {
   "cell_type": "markdown",
   "metadata": {},
   "source": [
    "Note that to check the cross-validation you need to uncomment the below box.<br>\n",
    "It has been commented out for ease of investigation, as optimization only needs to be run once."
   ]
  },
  {
   "cell_type": "code",
   "execution_count": 123,
   "metadata": {},
   "outputs": [],
   "source": [
    "# # First do a grid search to optimize the model\n",
    "# param_grid = {'alpha': [0.1, 0.01, 0.001], 'learning_rate': [\"constant\", \"optimal\"], \n",
    "#               'l1_ratio': [1, 0.5, 0.2, 0], 'max_iter':[100, 400, 1000, 10000],\n",
    "#               'eta0': [0.01, 0.001, 0.1]}\n",
    "\n",
    "# sgd = SGDRegressor()\n",
    "\n",
    "# sgd_cv = GridSearchCV(sgd, param_grid, scoring='neg_mean_squared_error', cv=5,\n",
    "#                      n_jobs = -1, verbose = 2)\n",
    "# sgd_cv.fit(X_train, Y_train)\n",
    "\n",
    "# # print(\"Best Score (negative mean squared error): %f\" % sgd_cv.best_score_)\n",
    "# print(\"Optimal Hyperparameter Values: \", sgd_cv.best_params_)"
   ]
  },
  {
   "cell_type": "markdown",
   "metadata": {},
   "source": [
    "Here are the optimal hyperparameters we will use:<br>\n",
    "alpha_opt = 0.001 # Regularization Parameter<br>\n",
    "eta0_opt = 0.1 # learning rate<br>\n",
    "l1_ratio_opt = 0.5<br>\n",
    "learning_rate_opt = 'optimal' # (constant or updated during descent)<br>\n",
    "max_iter_opt = 400<br>\n",
    "penalty_opt = 'elasticnet' # Not chosen by cross-validation"
   ]
  },
  {
   "cell_type": "code",
   "execution_count": 124,
   "metadata": {},
   "outputs": [
    {
     "name": "stdout",
     "output_type": "stream",
     "text": [
      "The mean squared error of this prediction is 4.311145\n",
      "The r^2 value for this prediction is 0.406528\n"
     ]
    }
   ],
   "source": [
    "# Using these parameters create SGDRegressor linear regression object\n",
    "alpha_opt = 0.001 # Regularization Parameter\n",
    "eta0_opt = 0.1 # learning rate\n",
    "l1_ratio_opt = 0.5\n",
    "learning_rate_opt = 'optimal' # (constant or updated during descent)\n",
    "max_iter_opt = 400\n",
    "penalty_opt = 'elasticnet' # Not chosen by cross-validation\n",
    "\n",
    "# Below creates model based on above optimal parameters\n",
    "lin_reg_sgd = SGDRegressor(max_iter=max_iter_opt, learning_rate=learning_rate_opt,\n",
    "                           eta0=eta0_opt, penalty=penalty_opt, l1_ratio=l1_ratio_opt, alpha=alpha_opt)\n",
    "\n",
    "# Fit the new model\n",
    "lin_reg_sgd.fit(X_train, Y_train)\n",
    "\n",
    "Y_test_pred = lin_reg_sgd.predict(X_test)\n",
    "print('The mean squared error of this prediction is %f' %mean_squared_error(Y_test, Y_test_pred))\n",
    "print('The r^2 value for this prediction is %f' %r2_score(Y_test,Y_test_pred))"
   ]
  },
  {
   "cell_type": "code",
   "execution_count": null,
   "metadata": {},
   "outputs": [],
   "source": []
  }
 ],
 "metadata": {
  "kernelspec": {
   "display_name": "Python 3",
   "language": "python",
   "name": "python3"
  },
  "language_info": {
   "codemirror_mode": {
    "name": "ipython",
    "version": 3
   },
   "file_extension": ".py",
   "mimetype": "text/x-python",
   "name": "python",
   "nbconvert_exporter": "python",
   "pygments_lexer": "ipython3",
   "version": "3.6.8"
  }
 },
 "nbformat": 4,
 "nbformat_minor": 2
}
